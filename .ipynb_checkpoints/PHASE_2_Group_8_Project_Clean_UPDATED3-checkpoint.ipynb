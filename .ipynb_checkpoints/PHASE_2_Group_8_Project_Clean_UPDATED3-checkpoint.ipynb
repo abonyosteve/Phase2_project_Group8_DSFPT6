{
 "cells": [
  {
   "cell_type": "markdown",
   "id": "69466f68-202a-4aa2-bfc9-4bcd73f47c6e",
   "metadata": {
    "id": "69466f68-202a-4aa2-bfc9-4bcd73f47c6e"
   },
   "source": [
    "# **Group 8 DSF PT6-Phase 2 Project**\n",
    "\n",
    "**`Members`**\n",
    "* *steve.abonyo@student.moringaschool.com*\n",
    "* *brian.kariithi@student.moringaschool.com*\n",
    "* *rosaline.mungai@student.moringaschool.com*\n",
    "* *ruth.nyakio@student.moringaschool.com*\n",
    "* *lynette.mwiti@student.moringaschool.com*\n",
    "* *ivan.wawire@student.moringaschool.com*"
   ]
  },
  {
   "cell_type": "markdown",
   "id": "3801fd42-9541-4988-8060-202638d6f1f7",
   "metadata": {
    "id": "3801fd42-9541-4988-8060-202638d6f1f7"
   },
   "source": [
    "#  A.) <span style='color:Red'>***Business Understanding***</span>"
   ]
  },
  {
   "cell_type": "markdown",
   "id": "f442f0ab-b715-440e-ad49-fe86c5723bda",
   "metadata": {
    "id": "f442f0ab-b715-440e-ad49-fe86c5723bda"
   },
   "source": [
    "***Overview*** : <br>\n",
    "Housing sales in a northwestern county between the year `2014` and `2015`\n",
    "\n",
    "***Problem Statement*** : <br>\n",
    "Finsco Limited, a real estate group investing in USA real estate has opened a consultancy arm. for their first project, they would like to understand how home renovations might increase the estimated value of homes, and by what amount.\n",
    "\n",
    "The goal is to get insights to provide advice to homeowners, real estate investors and clients who do house-flipping\n",
    "\n",
    "They have tasked the Hepta Group to conduct multiple linear regression modelling to analyze house sales in a Northwestern County they have been provided with.\n",
    "\n",
    "***Stakeholders*** : <br>\n",
    "-Homeowners : *These are the people who want to increase the value of their homes and want to know the kind of renovations to do*.<br>\n",
    "-Real estate agency : *The company that is conducting this model to help homeowners know what renovations to do to increase the value of their homes.*\n",
    "\n",
    "***Understanding*** : <br>\n",
    "We have several parameters/variables in our data that when adjusted/improved, may positively affect the value of homes in this county. `We need to find and observe which parameter greatly influences the value of the homes and perhaps, what parameters might give the best value of the homes.`<br>\n",
    "*Our dependent variable is the value of homes; what we are trying to predict.*<br>\n",
    "*Our independent variables are the home renovations, and there are several, we will use this to help us find the best possible values of the homes.*\n",
    "\n",
    "The above two concepts (`dependent` and `independent`) lead us to the concept we are going to use which is the multiple linear regression. `Multiple linear regression` is used when we want to predict a dependent variable (value of homes) using two or more independent variables (the several parameters present in our data).\n",
    "\n",
    "Key items to check before we build the model;\n",
    "* Have a basic understanding of the data\n",
    "* Which parameters greatly/least influence the value of homes for the homeowners?\n",
    "* Which parameters are irrelevant to our model (*through observation after understanding our problem*)\n",
    "\n",
    "***Implications***\n",
    "* With the insights provided, Finsco Limited and its clients can strategically invest in real estate by choosing renovations that significantly increase home values.\n",
    "* Homeowners working with Finsco's consultancy learn which renovations offer the best returns, helping them wisely enhance their properties.\n",
    "* House flippers working with FINSCO consultancy can tailor their strategies to target high-ROI renovations.\n",
    "* The consultancy's success not only benefits Finsco and its clients but also stimulates economic growth through increased renovation and property transaction activities."
   ]
  },
  {
   "cell_type": "markdown",
   "id": "4eb0e687-0f06-4cd3-ac6a-eee9d02c284a",
   "metadata": {
    "id": "4eb0e687-0f06-4cd3-ac6a-eee9d02c284a"
   },
   "source": [
    "# B.) <span style='color:Red'>***Data Understanding***</span>"
   ]
  },
  {
   "cell_type": "markdown",
   "id": "cd2beb45-ca68-4989-a2bd-23221566f417",
   "metadata": {
    "id": "cd2beb45-ca68-4989-a2bd-23221566f417"
   },
   "source": [
    "***Data Source & Size***<br>\n",
    "The data we are going to use is called `kc_house_data.csv` from the `King County House Sales` and `it has 21597 records`.\n",
    "\n",
    "***Variables description***<br>\n",
    "Below is the description of our variables;\n",
    "* `id` - Unique identifier for a house\n",
    "* `date` - Date house was sold\n",
    "* `price` - Sale price (prediction target)\n",
    "* `bedrooms` - Number of bedrooms\n",
    "* `bathrooms` - Number of bathrooms\n",
    "* `sqft_living` - Square footage of living space in the home\n",
    "* `sqft_lot` - Square footage of the lot\n",
    "* `floors` - Number of floors (levels) in house\n",
    "* `waterfront` - Whether the house is on a waterfront\n",
    "  * Includes Duwamish, Elliott Bay, Puget Sound, Lake Union, Ship Canal, Lake Washington, Lake Sammamish, other lake, and river/slough waterfronts\n",
    "* `view` - Quality of view from house\n",
    "  * Includes views of Mt. Rainier, Olympics, Cascades, Territorial, Seattle Skyline, Puget Sound, Lake Washington, Lake Sammamish, small lake / river / creek, and other\n",
    "* `condition` - How good the overall condition of the house is. Related to maintenance of house.\n",
    "  * See the [King County Assessor Website](https://info.kingcounty.gov/assessor/esales/Glossary.aspx?type=r) for further explanation of each condition code\n",
    "* `grade` - Overall grade of the house. Related to the construction and design of the house.\n",
    "  * See the [King County Assessor Website](https://info.kingcounty.gov/assessor/esales/Glossary.aspx?type=r) for further explanation of each building grade code\n",
    "* `sqft_above` - Square footage of house apart from basement\n",
    "* `sqft_basement` - Square footage of the basement\n",
    "* `yr_built` - Year when house was built\n",
    "* `yr_renovated` - Year when house was renovated\n",
    "* `zipcode` - ZIP Code used by the United States Postal Service\n",
    "* `lat` - Latitude coordinate\n",
    "* `long` - Longitude coordinate\n",
    "* `sqft_living15` - The square footage of interior housing living space for the nearest 15 neighbors\n",
    "* `sqft_lot15` - The square footage of the land lots of .the nearest 15 neighbors"
   ]
  },
  {
   "cell_type": "markdown",
   "id": "187ba96c-b1fe-4542-8158-6126f068a135",
   "metadata": {
    "id": "187ba96c-b1fe-4542-8158-6126f068a135"
   },
   "source": [
    "The `target variable from the above dataset is the price`, where as the `others form the predictor/independent variables`. From these datasets we can already start seeing some predictor variables that may have an impact on the target variable (*ofcourse this is by observation*), for example how will changing the number of bedrooms affect the house prices for the home owners."
   ]
  },
  {
   "cell_type": "markdown",
   "id": "7e298c97-7747-4251-8179-f3801b7f1e44",
   "metadata": {
    "id": "7e298c97-7747-4251-8179-f3801b7f1e44"
   },
   "source": [
    "***Limitations*** :<br>\n",
    "From a quick observation of the data, we have noticed the `presence of missing values` in some of the predictor variables like waterfront and view. We will first have to check if the variables having missing values that significantly affect the value of homes or not.<br>\n",
    "Also we have noticed that `there are non-numerical variables`. Linear regression only uses numerical columns. We will have to adjust this columns to numbers if at all we are going to use them in building our model (NB: it is a requirement that we use atleast one non-numeric column)"
   ]
  },
  {
   "cell_type": "markdown",
   "id": "2d21ba80-a2db-4be4-8447-3fa465fe42f9",
   "metadata": {
    "id": "2d21ba80-a2db-4be4-8447-3fa465fe42f9"
   },
   "source": [
    "# C.) <span style='color:Red'>***Data Preparation***</span>"
   ]
  },
  {
   "cell_type": "markdown",
   "id": "5be81e6e-7199-433b-9e26-c6671de765bd",
   "metadata": {
    "id": "5be81e6e-7199-433b-9e26-c6671de765bd"
   },
   "source": [
    "### <span style='color:Green'>Importing libraries that are important for data preparation</span>"
   ]
  },
  {
   "cell_type": "code",
   "execution_count": 1,
   "id": "3fc03583-4581-44a2-80d0-639fb2a0b45b",
   "metadata": {
    "id": "3fc03583-4581-44a2-80d0-639fb2a0b45b"
   },
   "outputs": [],
   "source": [
    "import pandas as pd\n",
    "import numpy as np\n",
    "\n",
    "data = pd.read_csv(\"kc_house_data.csv\")"
   ]
  },
  {
   "cell_type": "markdown",
   "id": "f77e9392-f448-4c82-9159-743d4ad54631",
   "metadata": {
    "id": "f77e9392-f448-4c82-9159-743d4ad54631"
   },
   "source": [
    "#### <span style='color:Green'>Data preview/summary</span>"
   ]
  },
  {
   "cell_type": "code",
   "execution_count": 2,
   "id": "e9caafbe-8c50-46f8-bb5f-fe0789255806",
   "metadata": {
    "colab": {
     "base_uri": "https://localhost:8080/",
     "height": 245
    },
    "id": "e9caafbe-8c50-46f8-bb5f-fe0789255806",
    "outputId": "07c01411-7b54-4761-b020-c3ffa2878e27"
   },
   "outputs": [
    {
     "data": {
      "text/html": [
       "<div>\n",
       "<style scoped>\n",
       "    .dataframe tbody tr th:only-of-type {\n",
       "        vertical-align: middle;\n",
       "    }\n",
       "\n",
       "    .dataframe tbody tr th {\n",
       "        vertical-align: top;\n",
       "    }\n",
       "\n",
       "    .dataframe thead th {\n",
       "        text-align: right;\n",
       "    }\n",
       "</style>\n",
       "<table border=\"1\" class=\"dataframe\">\n",
       "  <thead>\n",
       "    <tr style=\"text-align: right;\">\n",
       "      <th></th>\n",
       "      <th>id</th>\n",
       "      <th>date</th>\n",
       "      <th>price</th>\n",
       "      <th>bedrooms</th>\n",
       "      <th>bathrooms</th>\n",
       "      <th>sqft_living</th>\n",
       "      <th>sqft_lot</th>\n",
       "      <th>floors</th>\n",
       "      <th>waterfront</th>\n",
       "      <th>view</th>\n",
       "      <th>...</th>\n",
       "      <th>grade</th>\n",
       "      <th>sqft_above</th>\n",
       "      <th>sqft_basement</th>\n",
       "      <th>yr_built</th>\n",
       "      <th>yr_renovated</th>\n",
       "      <th>zipcode</th>\n",
       "      <th>lat</th>\n",
       "      <th>long</th>\n",
       "      <th>sqft_living15</th>\n",
       "      <th>sqft_lot15</th>\n",
       "    </tr>\n",
       "  </thead>\n",
       "  <tbody>\n",
       "    <tr>\n",
       "      <th>0</th>\n",
       "      <td>7129300520</td>\n",
       "      <td>10/13/2014</td>\n",
       "      <td>221900.0</td>\n",
       "      <td>3</td>\n",
       "      <td>1.00</td>\n",
       "      <td>1180</td>\n",
       "      <td>5650</td>\n",
       "      <td>1.0</td>\n",
       "      <td>NaN</td>\n",
       "      <td>NONE</td>\n",
       "      <td>...</td>\n",
       "      <td>7 Average</td>\n",
       "      <td>1180</td>\n",
       "      <td>0.0</td>\n",
       "      <td>1955</td>\n",
       "      <td>0.0</td>\n",
       "      <td>98178</td>\n",
       "      <td>47.5112</td>\n",
       "      <td>-122.257</td>\n",
       "      <td>1340</td>\n",
       "      <td>5650</td>\n",
       "    </tr>\n",
       "    <tr>\n",
       "      <th>1</th>\n",
       "      <td>6414100192</td>\n",
       "      <td>12/9/2014</td>\n",
       "      <td>538000.0</td>\n",
       "      <td>3</td>\n",
       "      <td>2.25</td>\n",
       "      <td>2570</td>\n",
       "      <td>7242</td>\n",
       "      <td>2.0</td>\n",
       "      <td>NO</td>\n",
       "      <td>NONE</td>\n",
       "      <td>...</td>\n",
       "      <td>7 Average</td>\n",
       "      <td>2170</td>\n",
       "      <td>400.0</td>\n",
       "      <td>1951</td>\n",
       "      <td>1991.0</td>\n",
       "      <td>98125</td>\n",
       "      <td>47.7210</td>\n",
       "      <td>-122.319</td>\n",
       "      <td>1690</td>\n",
       "      <td>7639</td>\n",
       "    </tr>\n",
       "    <tr>\n",
       "      <th>2</th>\n",
       "      <td>5631500400</td>\n",
       "      <td>2/25/2015</td>\n",
       "      <td>180000.0</td>\n",
       "      <td>2</td>\n",
       "      <td>1.00</td>\n",
       "      <td>770</td>\n",
       "      <td>10000</td>\n",
       "      <td>1.0</td>\n",
       "      <td>NO</td>\n",
       "      <td>NONE</td>\n",
       "      <td>...</td>\n",
       "      <td>6 Low Average</td>\n",
       "      <td>770</td>\n",
       "      <td>0.0</td>\n",
       "      <td>1933</td>\n",
       "      <td>NaN</td>\n",
       "      <td>98028</td>\n",
       "      <td>47.7379</td>\n",
       "      <td>-122.233</td>\n",
       "      <td>2720</td>\n",
       "      <td>8062</td>\n",
       "    </tr>\n",
       "  </tbody>\n",
       "</table>\n",
       "<p>3 rows × 21 columns</p>\n",
       "</div>"
      ],
      "text/plain": [
       "           id        date     price  bedrooms  bathrooms  sqft_living  \\\n",
       "0  7129300520  10/13/2014  221900.0         3       1.00         1180   \n",
       "1  6414100192   12/9/2014  538000.0         3       2.25         2570   \n",
       "2  5631500400   2/25/2015  180000.0         2       1.00          770   \n",
       "\n",
       "   sqft_lot  floors waterfront  view  ...          grade sqft_above  \\\n",
       "0      5650     1.0        NaN  NONE  ...      7 Average       1180   \n",
       "1      7242     2.0         NO  NONE  ...      7 Average       2170   \n",
       "2     10000     1.0         NO  NONE  ...  6 Low Average        770   \n",
       "\n",
       "   sqft_basement yr_built  yr_renovated  zipcode      lat     long  \\\n",
       "0            0.0     1955           0.0    98178  47.5112 -122.257   \n",
       "1          400.0     1951        1991.0    98125  47.7210 -122.319   \n",
       "2            0.0     1933           NaN    98028  47.7379 -122.233   \n",
       "\n",
       "   sqft_living15  sqft_lot15  \n",
       "0           1340        5650  \n",
       "1           1690        7639  \n",
       "2           2720        8062  \n",
       "\n",
       "[3 rows x 21 columns]"
      ]
     },
     "execution_count": 2,
     "metadata": {},
     "output_type": "execute_result"
    }
   ],
   "source": [
    "data.head(3) # showing the top 3 records"
   ]
  },
  {
   "cell_type": "code",
   "execution_count": 3,
   "id": "fb370f11-8d23-4001-a973-ff4ee507978a",
   "metadata": {
    "colab": {
     "base_uri": "https://localhost:8080/",
     "height": 227
    },
    "id": "fb370f11-8d23-4001-a973-ff4ee507978a",
    "outputId": "e5e6785b-a670-4f01-91a2-23ef81c7d5eb"
   },
   "outputs": [
    {
     "data": {
      "text/html": [
       "<div>\n",
       "<style scoped>\n",
       "    .dataframe tbody tr th:only-of-type {\n",
       "        vertical-align: middle;\n",
       "    }\n",
       "\n",
       "    .dataframe tbody tr th {\n",
       "        vertical-align: top;\n",
       "    }\n",
       "\n",
       "    .dataframe thead th {\n",
       "        text-align: right;\n",
       "    }\n",
       "</style>\n",
       "<table border=\"1\" class=\"dataframe\">\n",
       "  <thead>\n",
       "    <tr style=\"text-align: right;\">\n",
       "      <th></th>\n",
       "      <th>id</th>\n",
       "      <th>date</th>\n",
       "      <th>price</th>\n",
       "      <th>bedrooms</th>\n",
       "      <th>bathrooms</th>\n",
       "      <th>sqft_living</th>\n",
       "      <th>sqft_lot</th>\n",
       "      <th>floors</th>\n",
       "      <th>waterfront</th>\n",
       "      <th>view</th>\n",
       "      <th>...</th>\n",
       "      <th>grade</th>\n",
       "      <th>sqft_above</th>\n",
       "      <th>sqft_basement</th>\n",
       "      <th>yr_built</th>\n",
       "      <th>yr_renovated</th>\n",
       "      <th>zipcode</th>\n",
       "      <th>lat</th>\n",
       "      <th>long</th>\n",
       "      <th>sqft_living15</th>\n",
       "      <th>sqft_lot15</th>\n",
       "    </tr>\n",
       "  </thead>\n",
       "  <tbody>\n",
       "    <tr>\n",
       "      <th>21594</th>\n",
       "      <td>1523300141</td>\n",
       "      <td>6/23/2014</td>\n",
       "      <td>402101.0</td>\n",
       "      <td>2</td>\n",
       "      <td>0.75</td>\n",
       "      <td>1020</td>\n",
       "      <td>1350</td>\n",
       "      <td>2.0</td>\n",
       "      <td>NO</td>\n",
       "      <td>NONE</td>\n",
       "      <td>...</td>\n",
       "      <td>7 Average</td>\n",
       "      <td>1020</td>\n",
       "      <td>0.0</td>\n",
       "      <td>2009</td>\n",
       "      <td>0.0</td>\n",
       "      <td>98144</td>\n",
       "      <td>47.5944</td>\n",
       "      <td>-122.299</td>\n",
       "      <td>1020</td>\n",
       "      <td>2007</td>\n",
       "    </tr>\n",
       "    <tr>\n",
       "      <th>21595</th>\n",
       "      <td>291310100</td>\n",
       "      <td>1/16/2015</td>\n",
       "      <td>400000.0</td>\n",
       "      <td>3</td>\n",
       "      <td>2.50</td>\n",
       "      <td>1600</td>\n",
       "      <td>2388</td>\n",
       "      <td>2.0</td>\n",
       "      <td>NaN</td>\n",
       "      <td>NONE</td>\n",
       "      <td>...</td>\n",
       "      <td>8 Good</td>\n",
       "      <td>1600</td>\n",
       "      <td>0.0</td>\n",
       "      <td>2004</td>\n",
       "      <td>0.0</td>\n",
       "      <td>98027</td>\n",
       "      <td>47.5345</td>\n",
       "      <td>-122.069</td>\n",
       "      <td>1410</td>\n",
       "      <td>1287</td>\n",
       "    </tr>\n",
       "    <tr>\n",
       "      <th>21596</th>\n",
       "      <td>1523300157</td>\n",
       "      <td>10/15/2014</td>\n",
       "      <td>325000.0</td>\n",
       "      <td>2</td>\n",
       "      <td>0.75</td>\n",
       "      <td>1020</td>\n",
       "      <td>1076</td>\n",
       "      <td>2.0</td>\n",
       "      <td>NO</td>\n",
       "      <td>NONE</td>\n",
       "      <td>...</td>\n",
       "      <td>7 Average</td>\n",
       "      <td>1020</td>\n",
       "      <td>0.0</td>\n",
       "      <td>2008</td>\n",
       "      <td>0.0</td>\n",
       "      <td>98144</td>\n",
       "      <td>47.5941</td>\n",
       "      <td>-122.299</td>\n",
       "      <td>1020</td>\n",
       "      <td>1357</td>\n",
       "    </tr>\n",
       "  </tbody>\n",
       "</table>\n",
       "<p>3 rows × 21 columns</p>\n",
       "</div>"
      ],
      "text/plain": [
       "               id        date     price  bedrooms  bathrooms  sqft_living  \\\n",
       "21594  1523300141   6/23/2014  402101.0         2       0.75         1020   \n",
       "21595   291310100   1/16/2015  400000.0         3       2.50         1600   \n",
       "21596  1523300157  10/15/2014  325000.0         2       0.75         1020   \n",
       "\n",
       "       sqft_lot  floors waterfront  view  ...      grade sqft_above  \\\n",
       "21594      1350     2.0         NO  NONE  ...  7 Average       1020   \n",
       "21595      2388     2.0        NaN  NONE  ...     8 Good       1600   \n",
       "21596      1076     2.0         NO  NONE  ...  7 Average       1020   \n",
       "\n",
       "       sqft_basement yr_built  yr_renovated  zipcode      lat     long  \\\n",
       "21594            0.0     2009           0.0    98144  47.5944 -122.299   \n",
       "21595            0.0     2004           0.0    98027  47.5345 -122.069   \n",
       "21596            0.0     2008           0.0    98144  47.5941 -122.299   \n",
       "\n",
       "       sqft_living15  sqft_lot15  \n",
       "21594           1020        2007  \n",
       "21595           1410        1287  \n",
       "21596           1020        1357  \n",
       "\n",
       "[3 rows x 21 columns]"
      ]
     },
     "execution_count": 3,
     "metadata": {},
     "output_type": "execute_result"
    }
   ],
   "source": [
    "data.tail(3) #showing the last 3 records"
   ]
  },
  {
   "cell_type": "code",
   "execution_count": 4,
   "id": "721874e1-2e1f-45c2-a745-170379451515",
   "metadata": {
    "colab": {
     "base_uri": "https://localhost:8080/",
     "height": 551
    },
    "id": "721874e1-2e1f-45c2-a745-170379451515",
    "outputId": "b585d0a2-d604-4903-9bde-f7b98eac62e0"
   },
   "outputs": [
    {
     "data": {
      "text/html": [
       "<div>\n",
       "<style scoped>\n",
       "    .dataframe tbody tr th:only-of-type {\n",
       "        vertical-align: middle;\n",
       "    }\n",
       "\n",
       "    .dataframe tbody tr th {\n",
       "        vertical-align: top;\n",
       "    }\n",
       "\n",
       "    .dataframe thead th {\n",
       "        text-align: right;\n",
       "    }\n",
       "</style>\n",
       "<table border=\"1\" class=\"dataframe\">\n",
       "  <thead>\n",
       "    <tr style=\"text-align: right;\">\n",
       "      <th></th>\n",
       "      <th>id</th>\n",
       "      <th>date</th>\n",
       "      <th>price</th>\n",
       "      <th>bedrooms</th>\n",
       "      <th>bathrooms</th>\n",
       "      <th>sqft_living</th>\n",
       "      <th>sqft_lot</th>\n",
       "      <th>floors</th>\n",
       "      <th>waterfront</th>\n",
       "      <th>view</th>\n",
       "      <th>...</th>\n",
       "      <th>grade</th>\n",
       "      <th>sqft_above</th>\n",
       "      <th>sqft_basement</th>\n",
       "      <th>yr_built</th>\n",
       "      <th>yr_renovated</th>\n",
       "      <th>zipcode</th>\n",
       "      <th>lat</th>\n",
       "      <th>long</th>\n",
       "      <th>sqft_living15</th>\n",
       "      <th>sqft_lot15</th>\n",
       "    </tr>\n",
       "  </thead>\n",
       "  <tbody>\n",
       "    <tr>\n",
       "      <th>10663</th>\n",
       "      <td>4123800260</td>\n",
       "      <td>11/3/2014</td>\n",
       "      <td>257700.0</td>\n",
       "      <td>4</td>\n",
       "      <td>2.25</td>\n",
       "      <td>1600</td>\n",
       "      <td>6202</td>\n",
       "      <td>2.0</td>\n",
       "      <td>NO</td>\n",
       "      <td>NONE</td>\n",
       "      <td>...</td>\n",
       "      <td>7 Average</td>\n",
       "      <td>1600</td>\n",
       "      <td>0.0</td>\n",
       "      <td>1986</td>\n",
       "      <td>0.0</td>\n",
       "      <td>98038</td>\n",
       "      <td>47.3784</td>\n",
       "      <td>-122.046</td>\n",
       "      <td>1530</td>\n",
       "      <td>6298</td>\n",
       "    </tr>\n",
       "    <tr>\n",
       "      <th>9899</th>\n",
       "      <td>8733000045</td>\n",
       "      <td>10/7/2014</td>\n",
       "      <td>375000.0</td>\n",
       "      <td>4</td>\n",
       "      <td>3.00</td>\n",
       "      <td>2420</td>\n",
       "      <td>9566</td>\n",
       "      <td>2.0</td>\n",
       "      <td>NO</td>\n",
       "      <td>NONE</td>\n",
       "      <td>...</td>\n",
       "      <td>7 Average</td>\n",
       "      <td>2420</td>\n",
       "      <td>0.0</td>\n",
       "      <td>2003</td>\n",
       "      <td>0.0</td>\n",
       "      <td>98188</td>\n",
       "      <td>47.4693</td>\n",
       "      <td>-122.266</td>\n",
       "      <td>2420</td>\n",
       "      <td>9135</td>\n",
       "    </tr>\n",
       "    <tr>\n",
       "      <th>16447</th>\n",
       "      <td>9476200020</td>\n",
       "      <td>3/6/2015</td>\n",
       "      <td>254000.0</td>\n",
       "      <td>3</td>\n",
       "      <td>1.00</td>\n",
       "      <td>1010</td>\n",
       "      <td>7384</td>\n",
       "      <td>1.0</td>\n",
       "      <td>NO</td>\n",
       "      <td>AVERAGE</td>\n",
       "      <td>...</td>\n",
       "      <td>6 Low Average</td>\n",
       "      <td>1010</td>\n",
       "      <td>0.0</td>\n",
       "      <td>1943</td>\n",
       "      <td>0.0</td>\n",
       "      <td>98056</td>\n",
       "      <td>47.4905</td>\n",
       "      <td>-122.191</td>\n",
       "      <td>1010</td>\n",
       "      <td>8000</td>\n",
       "    </tr>\n",
       "    <tr>\n",
       "      <th>175</th>\n",
       "      <td>7234600798</td>\n",
       "      <td>2/10/2015</td>\n",
       "      <td>425000.0</td>\n",
       "      <td>3</td>\n",
       "      <td>2.50</td>\n",
       "      <td>1120</td>\n",
       "      <td>1100</td>\n",
       "      <td>2.0</td>\n",
       "      <td>NO</td>\n",
       "      <td>NONE</td>\n",
       "      <td>...</td>\n",
       "      <td>8 Good</td>\n",
       "      <td>820</td>\n",
       "      <td>300.0</td>\n",
       "      <td>2008</td>\n",
       "      <td>0.0</td>\n",
       "      <td>98122</td>\n",
       "      <td>47.6106</td>\n",
       "      <td>-122.310</td>\n",
       "      <td>1590</td>\n",
       "      <td>1795</td>\n",
       "    </tr>\n",
       "    <tr>\n",
       "      <th>2438</th>\n",
       "      <td>7853250160</td>\n",
       "      <td>2/20/2015</td>\n",
       "      <td>520000.0</td>\n",
       "      <td>4</td>\n",
       "      <td>2.50</td>\n",
       "      <td>3060</td>\n",
       "      <td>7161</td>\n",
       "      <td>2.0</td>\n",
       "      <td>NaN</td>\n",
       "      <td>NONE</td>\n",
       "      <td>...</td>\n",
       "      <td>8 Good</td>\n",
       "      <td>2860</td>\n",
       "      <td>200.0</td>\n",
       "      <td>2005</td>\n",
       "      <td>0.0</td>\n",
       "      <td>98065</td>\n",
       "      <td>47.5383</td>\n",
       "      <td>-121.879</td>\n",
       "      <td>2950</td>\n",
       "      <td>6822</td>\n",
       "    </tr>\n",
       "  </tbody>\n",
       "</table>\n",
       "<p>5 rows × 21 columns</p>\n",
       "</div>"
      ],
      "text/plain": [
       "               id       date     price  bedrooms  bathrooms  sqft_living  \\\n",
       "10663  4123800260  11/3/2014  257700.0         4       2.25         1600   \n",
       "9899   8733000045  10/7/2014  375000.0         4       3.00         2420   \n",
       "16447  9476200020   3/6/2015  254000.0         3       1.00         1010   \n",
       "175    7234600798  2/10/2015  425000.0         3       2.50         1120   \n",
       "2438   7853250160  2/20/2015  520000.0         4       2.50         3060   \n",
       "\n",
       "       sqft_lot  floors waterfront     view  ...          grade sqft_above  \\\n",
       "10663      6202     2.0         NO     NONE  ...      7 Average       1600   \n",
       "9899       9566     2.0         NO     NONE  ...      7 Average       2420   \n",
       "16447      7384     1.0         NO  AVERAGE  ...  6 Low Average       1010   \n",
       "175        1100     2.0         NO     NONE  ...         8 Good        820   \n",
       "2438       7161     2.0        NaN     NONE  ...         8 Good       2860   \n",
       "\n",
       "       sqft_basement yr_built  yr_renovated  zipcode      lat     long  \\\n",
       "10663            0.0     1986           0.0    98038  47.3784 -122.046   \n",
       "9899             0.0     2003           0.0    98188  47.4693 -122.266   \n",
       "16447            0.0     1943           0.0    98056  47.4905 -122.191   \n",
       "175            300.0     2008           0.0    98122  47.6106 -122.310   \n",
       "2438           200.0     2005           0.0    98065  47.5383 -121.879   \n",
       "\n",
       "       sqft_living15  sqft_lot15  \n",
       "10663           1530        6298  \n",
       "9899            2420        9135  \n",
       "16447           1010        8000  \n",
       "175             1590        1795  \n",
       "2438            2950        6822  \n",
       "\n",
       "[5 rows x 21 columns]"
      ]
     },
     "execution_count": 4,
     "metadata": {},
     "output_type": "execute_result"
    }
   ],
   "source": [
    "data.sample(5) #sampling 5 records"
   ]
  },
  {
   "cell_type": "code",
   "execution_count": 5,
   "id": "67bb29ca-43da-4dee-9fa4-3dcef1732350",
   "metadata": {
    "colab": {
     "base_uri": "https://localhost:8080/"
    },
    "id": "67bb29ca-43da-4dee-9fa4-3dcef1732350",
    "outputId": "d25c43da-9c00-425d-cc54-2d40d53cccfd"
   },
   "outputs": [
    {
     "data": {
      "text/plain": [
       "id                 int64\n",
       "date              object\n",
       "price            float64\n",
       "bedrooms           int64\n",
       "bathrooms        float64\n",
       "sqft_living        int64\n",
       "sqft_lot           int64\n",
       "floors           float64\n",
       "waterfront        object\n",
       "view              object\n",
       "condition         object\n",
       "grade             object\n",
       "sqft_above         int64\n",
       "sqft_basement     object\n",
       "yr_built           int64\n",
       "yr_renovated     float64\n",
       "zipcode            int64\n",
       "lat              float64\n",
       "long             float64\n",
       "sqft_living15      int64\n",
       "sqft_lot15         int64\n",
       "dtype: object"
      ]
     },
     "execution_count": 5,
     "metadata": {},
     "output_type": "execute_result"
    }
   ],
   "source": [
    "data.dtypes ##checking the type of variables we have, ideally for regression we need numerical columns"
   ]
  },
  {
   "cell_type": "code",
   "execution_count": 6,
   "id": "926265a0-e47a-43ba-9807-45e84d951b99",
   "metadata": {
    "colab": {
     "base_uri": "https://localhost:8080/",
     "height": 320
    },
    "id": "926265a0-e47a-43ba-9807-45e84d951b99",
    "outputId": "a47908ef-f583-4fb3-b692-7221540c0dee"
   },
   "outputs": [
    {
     "data": {
      "text/html": [
       "<div>\n",
       "<style scoped>\n",
       "    .dataframe tbody tr th:only-of-type {\n",
       "        vertical-align: middle;\n",
       "    }\n",
       "\n",
       "    .dataframe tbody tr th {\n",
       "        vertical-align: top;\n",
       "    }\n",
       "\n",
       "    .dataframe thead th {\n",
       "        text-align: right;\n",
       "    }\n",
       "</style>\n",
       "<table border=\"1\" class=\"dataframe\">\n",
       "  <thead>\n",
       "    <tr style=\"text-align: right;\">\n",
       "      <th></th>\n",
       "      <th>id</th>\n",
       "      <th>price</th>\n",
       "      <th>bedrooms</th>\n",
       "      <th>bathrooms</th>\n",
       "      <th>sqft_living</th>\n",
       "      <th>sqft_lot</th>\n",
       "      <th>floors</th>\n",
       "      <th>sqft_above</th>\n",
       "      <th>yr_built</th>\n",
       "      <th>yr_renovated</th>\n",
       "      <th>zipcode</th>\n",
       "      <th>lat</th>\n",
       "      <th>long</th>\n",
       "      <th>sqft_living15</th>\n",
       "      <th>sqft_lot15</th>\n",
       "    </tr>\n",
       "  </thead>\n",
       "  <tbody>\n",
       "    <tr>\n",
       "      <th>count</th>\n",
       "      <td>2.159700e+04</td>\n",
       "      <td>2.159700e+04</td>\n",
       "      <td>21597.000000</td>\n",
       "      <td>21597.000000</td>\n",
       "      <td>21597.000000</td>\n",
       "      <td>2.159700e+04</td>\n",
       "      <td>21597.000000</td>\n",
       "      <td>21597.000000</td>\n",
       "      <td>21597.000000</td>\n",
       "      <td>17755.000000</td>\n",
       "      <td>21597.000000</td>\n",
       "      <td>21597.000000</td>\n",
       "      <td>21597.000000</td>\n",
       "      <td>21597.000000</td>\n",
       "      <td>21597.000000</td>\n",
       "    </tr>\n",
       "    <tr>\n",
       "      <th>mean</th>\n",
       "      <td>4.580474e+09</td>\n",
       "      <td>5.402966e+05</td>\n",
       "      <td>3.373200</td>\n",
       "      <td>2.115826</td>\n",
       "      <td>2080.321850</td>\n",
       "      <td>1.509941e+04</td>\n",
       "      <td>1.494096</td>\n",
       "      <td>1788.596842</td>\n",
       "      <td>1970.999676</td>\n",
       "      <td>83.636778</td>\n",
       "      <td>98077.951845</td>\n",
       "      <td>47.560093</td>\n",
       "      <td>-122.213982</td>\n",
       "      <td>1986.620318</td>\n",
       "      <td>12758.283512</td>\n",
       "    </tr>\n",
       "    <tr>\n",
       "      <th>std</th>\n",
       "      <td>2.876736e+09</td>\n",
       "      <td>3.673681e+05</td>\n",
       "      <td>0.926299</td>\n",
       "      <td>0.768984</td>\n",
       "      <td>918.106125</td>\n",
       "      <td>4.141264e+04</td>\n",
       "      <td>0.539683</td>\n",
       "      <td>827.759761</td>\n",
       "      <td>29.375234</td>\n",
       "      <td>399.946414</td>\n",
       "      <td>53.513072</td>\n",
       "      <td>0.138552</td>\n",
       "      <td>0.140724</td>\n",
       "      <td>685.230472</td>\n",
       "      <td>27274.441950</td>\n",
       "    </tr>\n",
       "    <tr>\n",
       "      <th>min</th>\n",
       "      <td>1.000102e+06</td>\n",
       "      <td>7.800000e+04</td>\n",
       "      <td>1.000000</td>\n",
       "      <td>0.500000</td>\n",
       "      <td>370.000000</td>\n",
       "      <td>5.200000e+02</td>\n",
       "      <td>1.000000</td>\n",
       "      <td>370.000000</td>\n",
       "      <td>1900.000000</td>\n",
       "      <td>0.000000</td>\n",
       "      <td>98001.000000</td>\n",
       "      <td>47.155900</td>\n",
       "      <td>-122.519000</td>\n",
       "      <td>399.000000</td>\n",
       "      <td>651.000000</td>\n",
       "    </tr>\n",
       "    <tr>\n",
       "      <th>25%</th>\n",
       "      <td>2.123049e+09</td>\n",
       "      <td>3.220000e+05</td>\n",
       "      <td>3.000000</td>\n",
       "      <td>1.750000</td>\n",
       "      <td>1430.000000</td>\n",
       "      <td>5.040000e+03</td>\n",
       "      <td>1.000000</td>\n",
       "      <td>1190.000000</td>\n",
       "      <td>1951.000000</td>\n",
       "      <td>0.000000</td>\n",
       "      <td>98033.000000</td>\n",
       "      <td>47.471100</td>\n",
       "      <td>-122.328000</td>\n",
       "      <td>1490.000000</td>\n",
       "      <td>5100.000000</td>\n",
       "    </tr>\n",
       "    <tr>\n",
       "      <th>50%</th>\n",
       "      <td>3.904930e+09</td>\n",
       "      <td>4.500000e+05</td>\n",
       "      <td>3.000000</td>\n",
       "      <td>2.250000</td>\n",
       "      <td>1910.000000</td>\n",
       "      <td>7.618000e+03</td>\n",
       "      <td>1.500000</td>\n",
       "      <td>1560.000000</td>\n",
       "      <td>1975.000000</td>\n",
       "      <td>0.000000</td>\n",
       "      <td>98065.000000</td>\n",
       "      <td>47.571800</td>\n",
       "      <td>-122.231000</td>\n",
       "      <td>1840.000000</td>\n",
       "      <td>7620.000000</td>\n",
       "    </tr>\n",
       "    <tr>\n",
       "      <th>75%</th>\n",
       "      <td>7.308900e+09</td>\n",
       "      <td>6.450000e+05</td>\n",
       "      <td>4.000000</td>\n",
       "      <td>2.500000</td>\n",
       "      <td>2550.000000</td>\n",
       "      <td>1.068500e+04</td>\n",
       "      <td>2.000000</td>\n",
       "      <td>2210.000000</td>\n",
       "      <td>1997.000000</td>\n",
       "      <td>0.000000</td>\n",
       "      <td>98118.000000</td>\n",
       "      <td>47.678000</td>\n",
       "      <td>-122.125000</td>\n",
       "      <td>2360.000000</td>\n",
       "      <td>10083.000000</td>\n",
       "    </tr>\n",
       "    <tr>\n",
       "      <th>max</th>\n",
       "      <td>9.900000e+09</td>\n",
       "      <td>7.700000e+06</td>\n",
       "      <td>33.000000</td>\n",
       "      <td>8.000000</td>\n",
       "      <td>13540.000000</td>\n",
       "      <td>1.651359e+06</td>\n",
       "      <td>3.500000</td>\n",
       "      <td>9410.000000</td>\n",
       "      <td>2015.000000</td>\n",
       "      <td>2015.000000</td>\n",
       "      <td>98199.000000</td>\n",
       "      <td>47.777600</td>\n",
       "      <td>-121.315000</td>\n",
       "      <td>6210.000000</td>\n",
       "      <td>871200.000000</td>\n",
       "    </tr>\n",
       "  </tbody>\n",
       "</table>\n",
       "</div>"
      ],
      "text/plain": [
       "                 id         price      bedrooms     bathrooms   sqft_living  \\\n",
       "count  2.159700e+04  2.159700e+04  21597.000000  21597.000000  21597.000000   \n",
       "mean   4.580474e+09  5.402966e+05      3.373200      2.115826   2080.321850   \n",
       "std    2.876736e+09  3.673681e+05      0.926299      0.768984    918.106125   \n",
       "min    1.000102e+06  7.800000e+04      1.000000      0.500000    370.000000   \n",
       "25%    2.123049e+09  3.220000e+05      3.000000      1.750000   1430.000000   \n",
       "50%    3.904930e+09  4.500000e+05      3.000000      2.250000   1910.000000   \n",
       "75%    7.308900e+09  6.450000e+05      4.000000      2.500000   2550.000000   \n",
       "max    9.900000e+09  7.700000e+06     33.000000      8.000000  13540.000000   \n",
       "\n",
       "           sqft_lot        floors    sqft_above      yr_built  yr_renovated  \\\n",
       "count  2.159700e+04  21597.000000  21597.000000  21597.000000  17755.000000   \n",
       "mean   1.509941e+04      1.494096   1788.596842   1970.999676     83.636778   \n",
       "std    4.141264e+04      0.539683    827.759761     29.375234    399.946414   \n",
       "min    5.200000e+02      1.000000    370.000000   1900.000000      0.000000   \n",
       "25%    5.040000e+03      1.000000   1190.000000   1951.000000      0.000000   \n",
       "50%    7.618000e+03      1.500000   1560.000000   1975.000000      0.000000   \n",
       "75%    1.068500e+04      2.000000   2210.000000   1997.000000      0.000000   \n",
       "max    1.651359e+06      3.500000   9410.000000   2015.000000   2015.000000   \n",
       "\n",
       "            zipcode           lat          long  sqft_living15     sqft_lot15  \n",
       "count  21597.000000  21597.000000  21597.000000   21597.000000   21597.000000  \n",
       "mean   98077.951845     47.560093   -122.213982    1986.620318   12758.283512  \n",
       "std       53.513072      0.138552      0.140724     685.230472   27274.441950  \n",
       "min    98001.000000     47.155900   -122.519000     399.000000     651.000000  \n",
       "25%    98033.000000     47.471100   -122.328000    1490.000000    5100.000000  \n",
       "50%    98065.000000     47.571800   -122.231000    1840.000000    7620.000000  \n",
       "75%    98118.000000     47.678000   -122.125000    2360.000000   10083.000000  \n",
       "max    98199.000000     47.777600   -121.315000    6210.000000  871200.000000  "
      ]
     },
     "execution_count": 6,
     "metadata": {},
     "output_type": "execute_result"
    }
   ],
   "source": [
    "data.describe() ## this only pics the numerical columns and gives their summary"
   ]
  },
  {
   "cell_type": "code",
   "execution_count": 7,
   "id": "1e412e2f-38e9-470c-bf1d-ae977c95b092",
   "metadata": {
    "colab": {
     "base_uri": "https://localhost:8080/"
    },
    "id": "1e412e2f-38e9-470c-bf1d-ae977c95b092",
    "outputId": "f79c99d3-dfcd-4e80-8b68-1943cf5e051f"
   },
   "outputs": [
    {
     "name": "stdout",
     "output_type": "stream",
     "text": [
      "<class 'pandas.core.frame.DataFrame'>\n",
      "RangeIndex: 21597 entries, 0 to 21596\n",
      "Data columns (total 21 columns):\n",
      " #   Column         Non-Null Count  Dtype  \n",
      "---  ------         --------------  -----  \n",
      " 0   id             21597 non-null  int64  \n",
      " 1   date           21597 non-null  object \n",
      " 2   price          21597 non-null  float64\n",
      " 3   bedrooms       21597 non-null  int64  \n",
      " 4   bathrooms      21597 non-null  float64\n",
      " 5   sqft_living    21597 non-null  int64  \n",
      " 6   sqft_lot       21597 non-null  int64  \n",
      " 7   floors         21597 non-null  float64\n",
      " 8   waterfront     19221 non-null  object \n",
      " 9   view           21534 non-null  object \n",
      " 10  condition      21597 non-null  object \n",
      " 11  grade          21597 non-null  object \n",
      " 12  sqft_above     21597 non-null  int64  \n",
      " 13  sqft_basement  21597 non-null  object \n",
      " 14  yr_built       21597 non-null  int64  \n",
      " 15  yr_renovated   17755 non-null  float64\n",
      " 16  zipcode        21597 non-null  int64  \n",
      " 17  lat            21597 non-null  float64\n",
      " 18  long           21597 non-null  float64\n",
      " 19  sqft_living15  21597 non-null  int64  \n",
      " 20  sqft_lot15     21597 non-null  int64  \n",
      "dtypes: float64(6), int64(9), object(6)\n",
      "memory usage: 3.5+ MB\n"
     ]
    }
   ],
   "source": [
    "data.info() ## here we can start seeing the columns that have missing values"
   ]
  },
  {
   "cell_type": "code",
   "execution_count": 8,
   "id": "966e92c5-4b38-4fba-821e-a69fa6411d7c",
   "metadata": {
    "colab": {
     "base_uri": "https://localhost:8080/"
    },
    "id": "966e92c5-4b38-4fba-821e-a69fa6411d7c",
    "outputId": "f355e079-d0e8-4f5a-d035-ae8fcb0c83fe"
   },
   "outputs": [
    {
     "data": {
      "text/plain": [
       "id                  0\n",
       "date                0\n",
       "price               0\n",
       "bedrooms            0\n",
       "bathrooms           0\n",
       "sqft_living         0\n",
       "sqft_lot            0\n",
       "floors              0\n",
       "waterfront       2376\n",
       "view               63\n",
       "condition           0\n",
       "grade               0\n",
       "sqft_above          0\n",
       "sqft_basement       0\n",
       "yr_built            0\n",
       "yr_renovated     3842\n",
       "zipcode             0\n",
       "lat                 0\n",
       "long                0\n",
       "sqft_living15       0\n",
       "sqft_lot15          0\n",
       "dtype: int64"
      ]
     },
     "execution_count": 8,
     "metadata": {},
     "output_type": "execute_result"
    }
   ],
   "source": [
    "data.isnull().sum() ## the count of columns with missing values, we can already start decide to drop all the columns with missing values"
   ]
  },
  {
   "cell_type": "markdown",
   "id": "aa65aa9d-7ac8-41a6-a9dc-70106ef76483",
   "metadata": {
    "id": "aa65aa9d-7ac8-41a6-a9dc-70106ef76483"
   },
   "source": [
    "### <span style='color:Green'>Data Cleaning</span>"
   ]
  },
  {
   "cell_type": "markdown",
   "id": "4780a931-9510-48b1-8f28-2c58705c92c0",
   "metadata": {
    "id": "4780a931-9510-48b1-8f28-2c58705c92c0"
   },
   "source": [
    "The column `sqft_basement` has some missing marks in the form of question marks and we will have to clean it. it is ideally a numeric column"
   ]
  },
  {
   "cell_type": "code",
   "execution_count": 9,
   "id": "b66de9b8-a681-4713-8d36-4a513bb417c1",
   "metadata": {
    "colab": {
     "base_uri": "https://localhost:8080/"
    },
    "id": "b66de9b8-a681-4713-8d36-4a513bb417c1",
    "outputId": "7717e0b3-a2b8-425c-9719-61f9bf41774f"
   },
   "outputs": [
    {
     "data": {
      "text/plain": [
       "sqft_basement\n",
       "0.0       12826\n",
       "?           454\n",
       "600.0       217\n",
       "500.0       209\n",
       "700.0       208\n",
       "          ...  \n",
       "1920.0        1\n",
       "3480.0        1\n",
       "2730.0        1\n",
       "2720.0        1\n",
       "248.0         1\n",
       "Name: count, Length: 304, dtype: int64"
      ]
     },
     "execution_count": 9,
     "metadata": {},
     "output_type": "execute_result"
    }
   ],
   "source": [
    "data['sqft_basement'].value_counts()\n",
    "## 1st we can see there are a lot of zeros\n",
    "## the missing values are 454(indicated as ?)"
   ]
  },
  {
   "cell_type": "code",
   "execution_count": 10,
   "id": "6c281197-44cf-48cf-ac21-117d126d7ec4",
   "metadata": {
    "colab": {
     "base_uri": "https://localhost:8080/"
    },
    "id": "6c281197-44cf-48cf-ac21-117d126d7ec4",
    "outputId": "e7acce93-4d96-400c-9812-24f6d26ca0b0"
   },
   "outputs": [
    {
     "data": {
      "text/plain": [
       "454"
      ]
     },
     "execution_count": 10,
     "metadata": {},
     "output_type": "execute_result"
    }
   ],
   "source": [
    "## lets strip the ? to be an empty space then we impute the blanks\n",
    "data['sqft_basement'] = data['sqft_basement'].replace('?',None).astype(\"float\")\n",
    "data['sqft_basement'].isna().sum()"
   ]
  },
  {
   "cell_type": "code",
   "execution_count": 11,
   "id": "7ae529e7-55fa-499a-9aef-4d50c77b3b2a",
   "metadata": {
    "colab": {
     "base_uri": "https://localhost:8080/"
    },
    "id": "7ae529e7-55fa-499a-9aef-4d50c77b3b2a",
    "outputId": "378418bc-0435-40c1-82bf-e6874e55a432"
   },
   "outputs": [
    {
     "name": "stdout",
     "output_type": "stream",
     "text": [
      "Mean: 291.851723974838\n",
      "Median: 0.0\n",
      "Skewness: 1.574329769495408\n"
     ]
    }
   ],
   "source": [
    "print(\"Mean:\",data['sqft_basement'].mean())\n",
    "print(\"Median:\",data['sqft_basement'].median())\n",
    "\n",
    "##lets check the skewness of this variable so that we know how we will impute\n",
    "print(\"Skewness:\",data['sqft_basement'].skew())\n",
    "## this data is positivelskewed/highly skewed/right skewed, the tail is on the right side of the distribution"
   ]
  },
  {
   "cell_type": "code",
   "execution_count": 12,
   "id": "a7e2b326-9a32-41f1-976e-3c01b84cef95",
   "metadata": {
    "colab": {
     "base_uri": "https://localhost:8080/"
    },
    "id": "a7e2b326-9a32-41f1-976e-3c01b84cef95",
    "outputId": "dd43a49a-59cb-40bd-f409-41d70f09ec20"
   },
   "outputs": [
    {
     "data": {
      "text/plain": [
       "0"
      ]
     },
     "execution_count": 12,
     "metadata": {},
     "output_type": "execute_result"
    }
   ],
   "source": [
    "## imputing the missing value using the median\n",
    "data['sqft_basement'].fillna(data['sqft_basement'].median(), inplace=True)\n",
    "data['sqft_basement'].isna().sum() #now there are no missing values"
   ]
  },
  {
   "cell_type": "markdown",
   "id": "3c6fed07-e3bc-45c8-8d20-a34142c68eaa",
   "metadata": {
    "id": "3c6fed07-e3bc-45c8-8d20-a34142c68eaa"
   },
   "source": [
    "### <span style='color:Green'>Columns to drop</span>"
   ]
  },
  {
   "cell_type": "code",
   "execution_count": 13,
   "id": "989e907d-98ac-4fd7-848c-451e96798063",
   "metadata": {
    "colab": {
     "base_uri": "https://localhost:8080/",
     "height": 112
    },
    "id": "989e907d-98ac-4fd7-848c-451e96798063",
    "outputId": "456f6279-6f86-45c7-c94c-a7bb7f03b249"
   },
   "outputs": [
    {
     "data": {
      "text/html": [
       "<div>\n",
       "<style scoped>\n",
       "    .dataframe tbody tr th:only-of-type {\n",
       "        vertical-align: middle;\n",
       "    }\n",
       "\n",
       "    .dataframe tbody tr th {\n",
       "        vertical-align: top;\n",
       "    }\n",
       "\n",
       "    .dataframe thead th {\n",
       "        text-align: right;\n",
       "    }\n",
       "</style>\n",
       "<table border=\"1\" class=\"dataframe\">\n",
       "  <thead>\n",
       "    <tr style=\"text-align: right;\">\n",
       "      <th></th>\n",
       "      <th>price</th>\n",
       "      <th>bedrooms</th>\n",
       "      <th>bathrooms</th>\n",
       "      <th>sqft_living</th>\n",
       "      <th>sqft_lot</th>\n",
       "      <th>floors</th>\n",
       "      <th>waterfront</th>\n",
       "      <th>condition</th>\n",
       "      <th>grade</th>\n",
       "      <th>yr_built</th>\n",
       "    </tr>\n",
       "  </thead>\n",
       "  <tbody>\n",
       "    <tr>\n",
       "      <th>0</th>\n",
       "      <td>221900.0</td>\n",
       "      <td>3</td>\n",
       "      <td>1.00</td>\n",
       "      <td>1180</td>\n",
       "      <td>5650</td>\n",
       "      <td>1.0</td>\n",
       "      <td>NaN</td>\n",
       "      <td>Average</td>\n",
       "      <td>7 Average</td>\n",
       "      <td>1955</td>\n",
       "    </tr>\n",
       "    <tr>\n",
       "      <th>1</th>\n",
       "      <td>538000.0</td>\n",
       "      <td>3</td>\n",
       "      <td>2.25</td>\n",
       "      <td>2570</td>\n",
       "      <td>7242</td>\n",
       "      <td>2.0</td>\n",
       "      <td>NO</td>\n",
       "      <td>Average</td>\n",
       "      <td>7 Average</td>\n",
       "      <td>1951</td>\n",
       "    </tr>\n",
       "  </tbody>\n",
       "</table>\n",
       "</div>"
      ],
      "text/plain": [
       "      price  bedrooms  bathrooms  sqft_living  sqft_lot  floors waterfront  \\\n",
       "0  221900.0         3       1.00         1180      5650     1.0        NaN   \n",
       "1  538000.0         3       2.25         2570      7242     2.0         NO   \n",
       "\n",
       "  condition      grade  yr_built  \n",
       "0   Average  7 Average      1955  \n",
       "1   Average  7 Average      1951  "
      ]
     },
     "execution_count": 13,
     "metadata": {},
     "output_type": "execute_result"
    }
   ],
   "source": [
    "## We have decided to drop these columns\n",
    "\n",
    "dropped_colmns = ['date', 'view', 'sqft_above', 'sqft_basement', 'yr_renovated', 'sqft_living15', 'sqft_lot15', 'long', 'lat', 'id', 'zipcode']\n",
    "data1 = data.drop(columns = dropped_colmns)\n",
    "data1.head(2)"
   ]
  },
  {
   "cell_type": "markdown",
   "id": "5b570479-6ee4-43cd-a1f0-53402a44f249",
   "metadata": {
    "id": "5b570479-6ee4-43cd-a1f0-53402a44f249"
   },
   "source": [
    "### <span style='color:Green'>Missing Values</span>"
   ]
  },
  {
   "cell_type": "markdown",
   "id": "3f245c51-adc1-484b-96d6-d8aa5ff878f0",
   "metadata": {
    "id": "3f245c51-adc1-484b-96d6-d8aa5ff878f0"
   },
   "source": [
    "Column `waterfront` has missing values, we will fill the missing values with `NA` because they are empty spaces; because we dont want to mmanipulate the analysis by increasing the number of `YES's/NO's`"
   ]
  },
  {
   "cell_type": "code",
   "execution_count": 14,
   "id": "a7c863d7-63a3-462f-8ee4-5510d5d4d956",
   "metadata": {
    "colab": {
     "base_uri": "https://localhost:8080/"
    },
    "id": "a7c863d7-63a3-462f-8ee4-5510d5d4d956",
    "outputId": "de8e84a3-bf22-48c7-8dea-9e13ac56778c"
   },
   "outputs": [
    {
     "name": "stdout",
     "output_type": "stream",
     "text": [
      "Missing values: 2376\n",
      "Table BEFORE dealing with missing values\n"
     ]
    },
    {
     "data": {
      "text/plain": [
       "waterfront\n",
       "NO     19075\n",
       "YES      146\n",
       "Name: count, dtype: int64"
      ]
     },
     "execution_count": 14,
     "metadata": {},
     "output_type": "execute_result"
    }
   ],
   "source": [
    "print(\"Missing values:\", data1['waterfront'].isna().sum())\n",
    "print(\"Table BEFORE dealing with missing values\")\n",
    "data1['waterfront'].value_counts()"
   ]
  },
  {
   "cell_type": "code",
   "execution_count": 15,
   "id": "10bf6946-2453-488f-91a5-62af5e183918",
   "metadata": {
    "colab": {
     "base_uri": "https://localhost:8080/"
    },
    "id": "10bf6946-2453-488f-91a5-62af5e183918",
    "outputId": "8cf8d133-aaea-46fa-f81d-4074dc15fc9f"
   },
   "outputs": [
    {
     "name": "stdout",
     "output_type": "stream",
     "text": [
      "Missing values: 0\n",
      "Table AFTER dealing with missing values\n"
     ]
    },
    {
     "data": {
      "text/plain": [
       "waterfront\n",
       "NO     19075\n",
       "NA      2376\n",
       "YES      146\n",
       "Name: count, dtype: int64"
      ]
     },
     "execution_count": 15,
     "metadata": {},
     "output_type": "execute_result"
    }
   ],
   "source": [
    "data1['waterfront'].fillna(\"NA\",inplace=True)\n",
    "print(\"Missing values:\", data1['waterfront'].isna().sum())\n",
    "print(\"Table AFTER dealing with missing values\")\n",
    "data1['waterfront'].value_counts()"
   ]
  },
  {
   "cell_type": "markdown",
   "id": "a094fd79-bea9-4240-9843-ccb968920e9a",
   "metadata": {
    "id": "a094fd79-bea9-4240-9843-ccb968920e9a"
   },
   "source": [
    "### <span style='color:Green'>Encoding categorical variables to numeric</span>"
   ]
  },
  {
   "cell_type": "code",
   "execution_count": 16,
   "id": "30250f4c-e724-4a7d-8d56-9c0ce5a96115",
   "metadata": {
    "colab": {
     "base_uri": "https://localhost:8080/"
    },
    "id": "30250f4c-e724-4a7d-8d56-9c0ce5a96115",
    "outputId": "82fa01a6-bef9-43d7-8c02-ab32c92cb9bc"
   },
   "outputs": [
    {
     "data": {
      "text/plain": [
       "price          float64\n",
       "bedrooms         int64\n",
       "bathrooms      float64\n",
       "sqft_living      int64\n",
       "sqft_lot         int64\n",
       "floors         float64\n",
       "waterfront      object\n",
       "condition       object\n",
       "grade           object\n",
       "yr_built         int64\n",
       "dtype: object"
      ]
     },
     "execution_count": 16,
     "metadata": {},
     "output_type": "execute_result"
    }
   ],
   "source": [
    "data1.dtypes"
   ]
  },
  {
   "cell_type": "markdown",
   "id": "e17841bf-b5bd-4879-b352-d333e5bb6fe7",
   "metadata": {
    "id": "e17841bf-b5bd-4879-b352-d333e5bb6fe7"
   },
   "source": [
    "They are 3 i.e., `waterfront`, `condition` and `grade`<br>\n",
    "Based on our business problem which is ***how home renovations might increase the estimated value of homes, and by what amount using multiple linear regression***, we are going to choose `condition` variable, encode it and use it in our model.<br>\n",
    "The reason is because if we improve the condition of the house e.g from average to good, then the value of the home `might` increase.<br>\n",
    "Following the above decision, we will drop the other two categorical variables i.e., waterfront and grade"
   ]
  },
  {
   "cell_type": "markdown",
   "id": "ef443505-46de-4d69-a54c-e4cf56f06383",
   "metadata": {
    "id": "ef443505-46de-4d69-a54c-e4cf56f06383"
   },
   "source": [
    "We are going to use ordinal encoding to transform our selected categorical variable to numeric variable. Why we have selected ordinal encoding is because the choices observe some sequence/hierachy"
   ]
  },
  {
   "cell_type": "code",
   "execution_count": 17,
   "id": "068cd9ae-c7ca-4964-b188-90ab61609a02",
   "metadata": {
    "colab": {
     "base_uri": "https://localhost:8080/"
    },
    "id": "068cd9ae-c7ca-4964-b188-90ab61609a02",
    "outputId": "066256be-7e8c-4912-ff6c-aa7e0a6fe5b4"
   },
   "outputs": [
    {
     "data": {
      "text/plain": [
       "condition\n",
       "Average      14020\n",
       "Good          5677\n",
       "Very Good     1701\n",
       "Fair           170\n",
       "Poor            29\n",
       "Name: count, dtype: int64"
      ]
     },
     "execution_count": 17,
     "metadata": {},
     "output_type": "execute_result"
    }
   ],
   "source": [
    "data1['condition'].value_counts()"
   ]
  },
  {
   "cell_type": "code",
   "execution_count": 18,
   "id": "a7f980a9-b328-469d-95df-8f15919f7163",
   "metadata": {
    "colab": {
     "base_uri": "https://localhost:8080/",
     "height": 112
    },
    "id": "a7f980a9-b328-469d-95df-8f15919f7163",
    "outputId": "815fe234-3feb-4cea-fbd6-e5ecb2f29415"
   },
   "outputs": [
    {
     "data": {
      "text/html": [
       "<div>\n",
       "<style scoped>\n",
       "    .dataframe tbody tr th:only-of-type {\n",
       "        vertical-align: middle;\n",
       "    }\n",
       "\n",
       "    .dataframe tbody tr th {\n",
       "        vertical-align: top;\n",
       "    }\n",
       "\n",
       "    .dataframe thead th {\n",
       "        text-align: right;\n",
       "    }\n",
       "</style>\n",
       "<table border=\"1\" class=\"dataframe\">\n",
       "  <thead>\n",
       "    <tr style=\"text-align: right;\">\n",
       "      <th></th>\n",
       "      <th>price</th>\n",
       "      <th>bedrooms</th>\n",
       "      <th>bathrooms</th>\n",
       "      <th>sqft_living</th>\n",
       "      <th>sqft_lot</th>\n",
       "      <th>floors</th>\n",
       "      <th>waterfront</th>\n",
       "      <th>condition</th>\n",
       "      <th>grade</th>\n",
       "      <th>yr_built</th>\n",
       "      <th>condition_coded</th>\n",
       "    </tr>\n",
       "  </thead>\n",
       "  <tbody>\n",
       "    <tr>\n",
       "      <th>0</th>\n",
       "      <td>221900.0</td>\n",
       "      <td>3</td>\n",
       "      <td>1.00</td>\n",
       "      <td>1180</td>\n",
       "      <td>5650</td>\n",
       "      <td>1.0</td>\n",
       "      <td>NA</td>\n",
       "      <td>Average</td>\n",
       "      <td>7 Average</td>\n",
       "      <td>1955</td>\n",
       "      <td>3</td>\n",
       "    </tr>\n",
       "    <tr>\n",
       "      <th>1</th>\n",
       "      <td>538000.0</td>\n",
       "      <td>3</td>\n",
       "      <td>2.25</td>\n",
       "      <td>2570</td>\n",
       "      <td>7242</td>\n",
       "      <td>2.0</td>\n",
       "      <td>NO</td>\n",
       "      <td>Average</td>\n",
       "      <td>7 Average</td>\n",
       "      <td>1951</td>\n",
       "      <td>3</td>\n",
       "    </tr>\n",
       "  </tbody>\n",
       "</table>\n",
       "</div>"
      ],
      "text/plain": [
       "      price  bedrooms  bathrooms  sqft_living  sqft_lot  floors waterfront  \\\n",
       "0  221900.0         3       1.00         1180      5650     1.0         NA   \n",
       "1  538000.0         3       2.25         2570      7242     2.0         NO   \n",
       "\n",
       "  condition      grade  yr_built  condition_coded  \n",
       "0   Average  7 Average      1955                3  \n",
       "1   Average  7 Average      1951                3  "
      ]
     },
     "execution_count": 18,
     "metadata": {},
     "output_type": "execute_result"
    }
   ],
   "source": [
    "##create the codes\n",
    "condition_codes = {'Poor':1, 'Fair':2, 'Average':3, 'Good':4, 'Very Good':5}\n",
    "##Inputting our codes back into our dataframe\n",
    "data1['condition_coded'] = data1['condition'].replace(condition_codes)\n",
    "data1.head(2)"
   ]
  },
  {
   "cell_type": "markdown",
   "id": "a249cd85-ebc0-40bf-b466-77f1e152bcb2",
   "metadata": {
    "id": "a249cd85-ebc0-40bf-b466-77f1e152bcb2"
   },
   "source": [
    "Now lets go ahead and drop the object variables to remain with only numeric variables"
   ]
  },
  {
   "cell_type": "code",
   "execution_count": 19,
   "id": "cf3d82ca-bccc-48e8-9376-6e5dca5858dd",
   "metadata": {
    "colab": {
     "base_uri": "https://localhost:8080/",
     "height": 112
    },
    "id": "cf3d82ca-bccc-48e8-9376-6e5dca5858dd",
    "outputId": "4554283c-cb79-41ff-b2a5-daa4167ecc16"
   },
   "outputs": [
    {
     "data": {
      "text/html": [
       "<div>\n",
       "<style scoped>\n",
       "    .dataframe tbody tr th:only-of-type {\n",
       "        vertical-align: middle;\n",
       "    }\n",
       "\n",
       "    .dataframe tbody tr th {\n",
       "        vertical-align: top;\n",
       "    }\n",
       "\n",
       "    .dataframe thead th {\n",
       "        text-align: right;\n",
       "    }\n",
       "</style>\n",
       "<table border=\"1\" class=\"dataframe\">\n",
       "  <thead>\n",
       "    <tr style=\"text-align: right;\">\n",
       "      <th></th>\n",
       "      <th>price</th>\n",
       "      <th>bedrooms</th>\n",
       "      <th>bathrooms</th>\n",
       "      <th>sqft_living</th>\n",
       "      <th>sqft_lot</th>\n",
       "      <th>floors</th>\n",
       "      <th>yr_built</th>\n",
       "      <th>condition_coded</th>\n",
       "    </tr>\n",
       "  </thead>\n",
       "  <tbody>\n",
       "    <tr>\n",
       "      <th>0</th>\n",
       "      <td>221900.0</td>\n",
       "      <td>3</td>\n",
       "      <td>1.00</td>\n",
       "      <td>1180</td>\n",
       "      <td>5650</td>\n",
       "      <td>1.0</td>\n",
       "      <td>1955</td>\n",
       "      <td>3</td>\n",
       "    </tr>\n",
       "    <tr>\n",
       "      <th>1</th>\n",
       "      <td>538000.0</td>\n",
       "      <td>3</td>\n",
       "      <td>2.25</td>\n",
       "      <td>2570</td>\n",
       "      <td>7242</td>\n",
       "      <td>2.0</td>\n",
       "      <td>1951</td>\n",
       "      <td>3</td>\n",
       "    </tr>\n",
       "  </tbody>\n",
       "</table>\n",
       "</div>"
      ],
      "text/plain": [
       "      price  bedrooms  bathrooms  sqft_living  sqft_lot  floors  yr_built  \\\n",
       "0  221900.0         3       1.00         1180      5650     1.0      1955   \n",
       "1  538000.0         3       2.25         2570      7242     2.0      1951   \n",
       "\n",
       "   condition_coded  \n",
       "0                3  \n",
       "1                3  "
      ]
     },
     "execution_count": 19,
     "metadata": {},
     "output_type": "execute_result"
    }
   ],
   "source": [
    "drop_columns = ['waterfront', 'condition', 'grade']\n",
    "data2 = data1.drop(columns = drop_columns)\n",
    "data2.head(2)"
   ]
  },
  {
   "cell_type": "markdown",
   "id": "14d49ab6-9ad2-4cd0-9923-663bf290eee7",
   "metadata": {
    "id": "14d49ab6-9ad2-4cd0-9923-663bf290eee7"
   },
   "source": [
    "### <span style='color:Green'>Running correlation test</span>"
   ]
  },
  {
   "cell_type": "code",
   "execution_count": 20,
   "id": "74996a71-6162-491a-bfe2-21edbc3af544",
   "metadata": {
    "colab": {
     "base_uri": "https://localhost:8080/"
    },
    "id": "74996a71-6162-491a-bfe2-21edbc3af544",
    "outputId": "f86dc632-ca82-40cb-fc8a-f8b51fc29fbb"
   },
   "outputs": [
    {
     "data": {
      "text/plain": [
       "price              1.000000\n",
       "sqft_living        0.701917\n",
       "bathrooms          0.525906\n",
       "bedrooms           0.308787\n",
       "floors             0.256804\n",
       "sqft_lot           0.089876\n",
       "yr_built           0.053953\n",
       "condition_coded    0.036056\n",
       "Name: price, dtype: float64"
      ]
     },
     "execution_count": 20,
     "metadata": {},
     "output_type": "execute_result"
    }
   ],
   "source": [
    "## Correlation of our selected variables to the price\n",
    "data2.corr()['price'].sort_values(ascending = False)"
   ]
  },
  {
   "cell_type": "markdown",
   "id": "de9427f4-da3e-4a49-81d4-c878142820e0",
   "metadata": {
    "id": "de9427f4-da3e-4a49-81d4-c878142820e0"
   },
   "source": [
    "From the correlation results above we can already start to see that variables like sqft_living, bathrooms, bedrooms and floors will produce a better model as compared to their other counterparts.<br>\n",
    "Our newly coded condition variable is the least on the correlation table, implying it will not be very significant to our model when compared to the rest."
   ]
  },
  {
   "cell_type": "code",
   "execution_count": 21,
   "id": "68f4bd4e-e4ac-47cd-9a86-ecfee184a997",
   "metadata": {
    "colab": {
     "base_uri": "https://localhost:8080/"
    },
    "id": "68f4bd4e-e4ac-47cd-9a86-ecfee184a997",
    "outputId": "9fa0e3a9-4074-4acd-802e-a37ee663b9f4"
   },
   "outputs": [
    {
     "name": "stdout",
     "output_type": "stream",
     "text": [
      "<class 'pandas.core.frame.DataFrame'>\n",
      "RangeIndex: 21597 entries, 0 to 21596\n",
      "Data columns (total 8 columns):\n",
      " #   Column           Non-Null Count  Dtype  \n",
      "---  ------           --------------  -----  \n",
      " 0   price            21597 non-null  float64\n",
      " 1   bedrooms         21597 non-null  int64  \n",
      " 2   bathrooms        21597 non-null  float64\n",
      " 3   sqft_living      21597 non-null  int64  \n",
      " 4   sqft_lot         21597 non-null  int64  \n",
      " 5   floors           21597 non-null  float64\n",
      " 6   yr_built         21597 non-null  int64  \n",
      " 7   condition_coded  21597 non-null  int64  \n",
      "dtypes: float64(3), int64(5)\n",
      "memory usage: 1.3 MB\n"
     ]
    }
   ],
   "source": [
    "data2.info()"
   ]
  },
  {
   "cell_type": "code",
   "execution_count": 22,
   "id": "82c8955a-c203-4c20-b233-6efd2b09efcf",
   "metadata": {
    "colab": {
     "base_uri": "https://localhost:8080/"
    },
    "id": "82c8955a-c203-4c20-b233-6efd2b09efcf",
    "outputId": "bf97131c-3074-40a7-b59f-030fc5fe7211"
   },
   "outputs": [
    {
     "data": {
      "text/plain": [
       "price              0\n",
       "bedrooms           0\n",
       "bathrooms          0\n",
       "sqft_living        0\n",
       "sqft_lot           0\n",
       "floors             0\n",
       "yr_built           0\n",
       "condition_coded    0\n",
       "dtype: int64"
      ]
     },
     "execution_count": 22,
     "metadata": {},
     "output_type": "execute_result"
    }
   ],
   "source": [
    "data2.isna().sum()\n",
    "##by now we dont have any missing value"
   ]
  },
  {
   "cell_type": "code",
   "execution_count": 23,
   "id": "774a852b-ce91-40d5-854d-f5b2e375fa94",
   "metadata": {
    "colab": {
     "base_uri": "https://localhost:8080/",
     "height": 206
    },
    "id": "774a852b-ce91-40d5-854d-f5b2e375fa94",
    "outputId": "afb30cba-3693-48b8-9e2b-17f52cdb0ae2"
   },
   "outputs": [
    {
     "data": {
      "text/html": [
       "<div>\n",
       "<style scoped>\n",
       "    .dataframe tbody tr th:only-of-type {\n",
       "        vertical-align: middle;\n",
       "    }\n",
       "\n",
       "    .dataframe tbody tr th {\n",
       "        vertical-align: top;\n",
       "    }\n",
       "\n",
       "    .dataframe thead th {\n",
       "        text-align: right;\n",
       "    }\n",
       "</style>\n",
       "<table border=\"1\" class=\"dataframe\">\n",
       "  <thead>\n",
       "    <tr style=\"text-align: right;\">\n",
       "      <th></th>\n",
       "      <th>price</th>\n",
       "      <th>bedrooms</th>\n",
       "      <th>bathrooms</th>\n",
       "      <th>sqft_living</th>\n",
       "      <th>sqft_lot</th>\n",
       "      <th>floors</th>\n",
       "      <th>yr_built</th>\n",
       "      <th>condition_coded</th>\n",
       "    </tr>\n",
       "  </thead>\n",
       "  <tbody>\n",
       "    <tr>\n",
       "      <th>0</th>\n",
       "      <td>221900.0</td>\n",
       "      <td>3</td>\n",
       "      <td>1.00</td>\n",
       "      <td>1180</td>\n",
       "      <td>5650</td>\n",
       "      <td>1.0</td>\n",
       "      <td>1955</td>\n",
       "      <td>3</td>\n",
       "    </tr>\n",
       "    <tr>\n",
       "      <th>1</th>\n",
       "      <td>538000.0</td>\n",
       "      <td>3</td>\n",
       "      <td>2.25</td>\n",
       "      <td>2570</td>\n",
       "      <td>7242</td>\n",
       "      <td>2.0</td>\n",
       "      <td>1951</td>\n",
       "      <td>3</td>\n",
       "    </tr>\n",
       "    <tr>\n",
       "      <th>2</th>\n",
       "      <td>180000.0</td>\n",
       "      <td>2</td>\n",
       "      <td>1.00</td>\n",
       "      <td>770</td>\n",
       "      <td>10000</td>\n",
       "      <td>1.0</td>\n",
       "      <td>1933</td>\n",
       "      <td>3</td>\n",
       "    </tr>\n",
       "    <tr>\n",
       "      <th>3</th>\n",
       "      <td>604000.0</td>\n",
       "      <td>4</td>\n",
       "      <td>3.00</td>\n",
       "      <td>1960</td>\n",
       "      <td>5000</td>\n",
       "      <td>1.0</td>\n",
       "      <td>1965</td>\n",
       "      <td>5</td>\n",
       "    </tr>\n",
       "    <tr>\n",
       "      <th>4</th>\n",
       "      <td>510000.0</td>\n",
       "      <td>3</td>\n",
       "      <td>2.00</td>\n",
       "      <td>1680</td>\n",
       "      <td>8080</td>\n",
       "      <td>1.0</td>\n",
       "      <td>1987</td>\n",
       "      <td>3</td>\n",
       "    </tr>\n",
       "  </tbody>\n",
       "</table>\n",
       "</div>"
      ],
      "text/plain": [
       "      price  bedrooms  bathrooms  sqft_living  sqft_lot  floors  yr_built  \\\n",
       "0  221900.0         3       1.00         1180      5650     1.0      1955   \n",
       "1  538000.0         3       2.25         2570      7242     2.0      1951   \n",
       "2  180000.0         2       1.00          770     10000     1.0      1933   \n",
       "3  604000.0         4       3.00         1960      5000     1.0      1965   \n",
       "4  510000.0         3       2.00         1680      8080     1.0      1987   \n",
       "\n",
       "   condition_coded  \n",
       "0                3  \n",
       "1                3  \n",
       "2                3  \n",
       "3                5  \n",
       "4                3  "
      ]
     },
     "execution_count": 23,
     "metadata": {},
     "output_type": "execute_result"
    }
   ],
   "source": [
    "## The final data to proceed to the modelling step\n",
    "df = data2.copy(deep=True)\n",
    "df.head()"
   ]
  },
  {
   "cell_type": "markdown",
   "id": "55f86e33-0cfa-4f11-ae05-869837e79c95",
   "metadata": {},
   "source": [
    "# D.) <span style='color:Red'>***Modeling***</span>"
   ]
  },
  {
   "cell_type": "markdown",
   "id": "NR9aF6wALI_W",
   "metadata": {
    "id": "NR9aF6wALI_W"
   },
   "source": [
    "Our dependent variable is the price of the house which we are trying to predict using our independent variables which are: bedrooms,bathrooms,sqft_living,sqft_lot, yr_built, condition_coded and floors.<br>\n",
    "\n",
    "The above two concepts: dependent and independent lead us to the concept we are going to use which is the multiple linear regression and simple linear regression. Multiple linear regression is used when we want to predict a dependent variable using two or more independent variables while simple linear regression is used when predicting a dependent variable using one independent variable"
   ]
  },
  {
   "cell_type": "code",
   "execution_count": 24,
   "id": "th6VmrhPPmz0",
   "metadata": {
    "id": "th6VmrhPPmz0"
   },
   "outputs": [],
   "source": [
    "#Importing libraries\n",
    "import matplotlib.pyplot as plt\n",
    "import seaborn as sns\n",
    "import statsmodels.api as sm\n",
    "import warnings\n",
    "warnings.filterwarnings('ignore')\n"
   ]
  },
  {
   "cell_type": "markdown",
   "id": "7HEWGzdGNRdZ",
   "metadata": {
    "id": "7HEWGzdGNRdZ"
   },
   "source": [
    "### <span style='color:Green'>Simple Linear Regression</span>"
   ]
  },
  {
   "cell_type": "code",
   "execution_count": null,
   "id": "Rzi1VqSHRRbv",
   "metadata": {
    "colab": {
     "base_uri": "https://localhost:8080/",
     "height": 786
    },
    "id": "Rzi1VqSHRRbv",
    "outputId": "28f55064-9aec-4404-ff83-4b47806bd44e"
   },
   "outputs": [],
   "source": [
    "columns = ['bedrooms', 'bathrooms', 'sqft_living', 'sqft_lot', 'floors', 'yr_built', 'condition_coded']\n",
    "\n",
    "# Calculate the number of rows and columns for the subplot grid\n",
    "num_cols = 3\n",
    "num_rows = (len(columns) + num_cols - 1) // num_cols\n",
    "\n",
    "# Create subplots for each column\n",
    "fig, axes = plt.subplots(num_rows, num_cols, figsize=(15, 10), sharey=True)\n",
    "\n",
    "# Flatten the axes array if necessary\n",
    "axes = axes.flatten()\n",
    "\n",
    "# Perform OLS regression for each column and plot the regression line\n",
    "for i, column in enumerate(columns):\n",
    "    # Extract the features and target\n",
    "    X = df[[column]]\n",
    "    y = df['price']\n",
    "\n",
    "    # Add constant term to the features\n",
    "    X = sm.add_constant(X)\n",
    "\n",
    "    # Fit OLS regression model\n",
    "    model = sm.OLS(y, X).fit()\n",
    "\n",
    "    # Plot the scatter plot\n",
    "    sns.scatterplot(x=column, y='price', data=df, ax=axes[i], alpha=0.5)\n",
    "\n",
    "    # Plot the regression line\n",
    "    sns.lineplot(x=X[column], y=model.predict(X), ax=axes[i], color='red')\n",
    "\n",
    "    axes[i].set_title(f'{column.capitalize()} vs Price')\n",
    "    axes[i].set_ylabel('Price')\n",
    "    axes[i].set_xlabel(column.capitalize())\n",
    "\n",
    "# Hide any empty subplots\n",
    "for ax in axes[len(columns):]:\n",
    "    ax.axis('off')\n",
    "\n",
    "plt.tight_layout()\n",
    "plt.show()\n"
   ]
  },
  {
   "cell_type": "markdown",
   "id": "XDeN1w-YQZBz",
   "metadata": {
    "id": "XDeN1w-YQZBz"
   },
   "source": [
    "From the visualizations above we can note that;<br>\n",
    "- The number of bedrooms impacts house  pricing but is not neccessary highly correlated to house pricing <br>\n",
    "- The number of bathrooms plays a role in house pricing .As the number of bathrooms increase,the price of the house goes up <br>\n",
    "- Sqft_living is highly correlated to house prices .The bigger the house the higher the cost <br>\n",
    "- Sqft_lot does not have a great impact on house pricing <br>\n",
    "- The number of floors in a house also does not determine the rise in prices but we also see that houses with 2 floors are the most priced <br>\n",
    "- The year the house was built is not really a determining factor in pricing as it is evenly distributed across the years. <br>\n",
    "- Houses in Average and good conditions are high in price with atleast >3 being the determining condition.<br>"
   ]
  },
  {
   "cell_type": "code",
   "execution_count": null,
   "id": "zJiI0YioQ_mg",
   "metadata": {
    "colab": {
     "base_uri": "https://localhost:8080/"
    },
    "id": "zJiI0YioQ_mg",
    "outputId": "2047998a-df77-4477-b3bc-c4841f34e4df"
   },
   "outputs": [],
   "source": [
    "correlation = df.corr()['price'].sort_values(ascending=False)\n",
    "correlation"
   ]
  },
  {
   "cell_type": "markdown",
   "id": "7fcfacd7-18a1-4ba4-b47b-2c856559bec6",
   "metadata": {},
   "source": [
    "## <span style='color:Green'>Correlation</span>"
   ]
  },
  {
   "cell_type": "markdown",
   "id": "41295f85",
   "metadata": {
    "id": "41295f85"
   },
   "source": [
    "From the correlation heatmap below, we are able to establish that  the sqft_living and number of bathrooms have the highst correlation to house pricing"
   ]
  },
  {
   "cell_type": "code",
   "execution_count": null,
   "id": "461a400b",
   "metadata": {
    "colab": {
     "base_uri": "https://localhost:8080/",
     "height": 627
    },
    "id": "461a400b",
    "outputId": "ebcf240b-6970-4bc9-eb9d-1b4e2a4765b4"
   },
   "outputs": [],
   "source": [
    "plt.figure(figsize=(10,6))\n",
    "sns.heatmap(df.corr(),annot=True,cmap=\"YlGnBu\")\n",
    "plt.show()"
   ]
  },
  {
   "cell_type": "markdown",
   "id": "2710454b-4ddf-48a2-9159-7a6569db3a5c",
   "metadata": {
    "id": "GJ18aAqPRK8g"
   },
   "source": [
    "## <span style='color:Blue'>Linear Regression for each Feature </span>"
   ]
  },
  {
   "cell_type": "markdown",
   "id": "2a78d262-1632-40c9-8a9b-538ff18c479c",
   "metadata": {},
   "source": [
    "#### <span style='color:Green'>Summary of a Linear regression table </span>"
   ]
  },
  {
   "cell_type": "markdown",
   "id": "9cf64253",
   "metadata": {
    "id": "9cf64253"
   },
   "source": [
    "##### <span style='color:Green'>Dependent Variable (MEDV)</span>\n",
    "\n",
    "This is the variable we are trying to predict called median value. In this case Price of the House\n",
    "Model (Ordinary Least Squares)\n",
    "\n",
    "This is the method used for estimating the coefficients of the linear regression model.\n",
    "Coefficients:<br>\n",
    "\n",
    "Represents the estimated value of the dependent variable when all independent variables are zero.\n",
    "\n",
    "RM, CRIM, LSTAT:-For every one unit of change in the independent variable, there is a change in the dependent variable <br>\n",
    "\n",
    "##### <span style='color:Green'>Coefficient Statistics</span>\n",
    "\n",
    "coef (Coefficient Estimate): This is  the estimated value of the coefficient.<br>\n",
    "std err (Standard Error):<br>\n",
    " the precision of the estimate. The smaller the values, the better <br>\n",
    "t (t-statistic): <br>\n",
    "Tests the null hypothesis that the coefficient is equal to zero. Larger absolute values indicate more significance.<br>\n",
    "P>|t| (p-value): The p-value associated with the t-statistic. A small p-value (< 0.05) suggests that the variable is statistically significant.<br>\n",
    "[0.025 0.975] (Confidence Interval): The 95% confidence interval for the coefficient. If it contains zero, the variable may not be significant.<br>\n",
    " Model Fit:\n",
    "\n",
    "R-squared: Represents the proportion of the variance in the dependent variable that is predictable from the independent variable(s). A higher R-squared indicates a better fit.<br>\n",
    "Adj. R-squared: Similar to R-squared but adjusted for the number of predictors. It penalizes excessive use of variables.<br>\n",
    "F-statistic-This is the overall significance of the model. It assesses whether one independent variable is significant in explaining the dependent variable.A small p-value( <0.05)indicates that the model is significant <br>\n",
    "\n",
    "##### <span style='color:Green'>Skewness</span>\n",
    "\n",
    "Meaning: Skewness measures the asymmetry of the distribution of residuals. It indicates whether the residuals are symmetrically distributed around the mean.\n",
    "\n",
    "##### <span style='color:Green'>Kurtosis</span>\n",
    "\n",
    "Meaning: Kurtosis measures the “tailedness” of the distribution of residuals. It indicates the heaviness of the tails relative to a normal distribution."
   ]
  },
  {
   "cell_type": "markdown",
   "id": "feaj2ZSGhWB2",
   "metadata": {
    "id": "feaj2ZSGhWB2"
   },
   "source": [
    "### Individual Simple Linear Regression"
   ]
  },
  {
   "cell_type": "code",
   "execution_count": null,
   "id": "PV8JmHdjXkQl",
   "metadata": {
    "colab": {
     "base_uri": "https://localhost:8080/",
     "height": 931
    },
    "id": "PV8JmHdjXkQl",
    "outputId": "8b151ade-66d2-4054-af1c-87f9ea01b4ff"
   },
   "outputs": [],
   "source": [
    "#Simple Regression for sqft_living\n",
    "X = df['sqft_living']\n",
    "y = df['price']\n",
    "\n",
    "X = sm.add_constant(X)\n",
    "\n",
    "# Fit OLS regression model\n",
    "sqft_living_model = sm.OLS(y, X).fit()\n",
    "y_intercept = sqft_living_model.params[0]\n",
    "slope = sqft_living_model.params[1]\n",
    "\n",
    "# Plotting the scatter plot and regression line\n",
    "plt.figure(figsize=(6, 4))\n",
    "sns.scatterplot(x='sqft_living', y='price', data=df, alpha=0.5)\n",
    "sns.lineplot(x=X['sqft_living'], y=sqft_living_model.predict(X), color='red')\n",
    "\n",
    "plt.title('sqft_living vs Price')\n",
    "plt.xlabel('sqft_living')\n",
    "plt.ylabel('Price')\n",
    "\n",
    "plt.show()\n",
    "\n",
    "# Print the summary of the regression results\n",
    "print(sqft_living_model.summary())\n",
    "print('')\n",
    "print(f\"The equation for this line is: y = {slope}x + {y_intercept}\")\n",
    "print(f\"intercept: {sqft_living_model.rsquared}\")\n",
    "print(\"f_value:\",sqft_living_model.fvalue)\n",
    "print( \"p_value:\",sqft_living_model.f_pvalue)"
   ]
  },
  {
   "cell_type": "markdown",
   "id": "OBa6hmlzc6e-",
   "metadata": {
    "id": "OBa6hmlzc6e-"
   },
   "source": [
    "#### Model Summary (sqft_living)\n",
    "The model explains approximately 49.3% of the variance in price.\n",
    "\n",
    "Model Interpretation:<br>\n",
    "The coefficient for sqft_living suggests that for every additional square foot of living space, there is an associated increase in price of $280.8630.\n",
    "\n",
    "The intercept indicates the estimated price when the square footage of living space is zero,is approximately -$43,880.\n",
    "\n",
    "t-statistic, fstatistic..\n",
    "\n",
    "Model Evaluation:<br>\n",
    "The model's R-squared value indicates that it captures a moderate amount of variation in house prices."
   ]
  },
  {
   "cell_type": "code",
   "execution_count": null,
   "id": "JogbS00PYQWd",
   "metadata": {
    "colab": {
     "base_uri": "https://localhost:8080/",
     "height": 844
    },
    "id": "JogbS00PYQWd",
    "outputId": "4b3a6378-fd10-4f5d-cf87-d12671eba908"
   },
   "outputs": [],
   "source": [
    "#Simple Regression for bathrooms\n",
    "X = df['bathrooms']\n",
    "y = df['price']\n",
    "\n",
    "# Add constant term to the features\n",
    "X = sm.add_constant(X)\n",
    "\n",
    "# Fit OLS regression model\n",
    "bathrooms_model = sm.OLS(y, X).fit()\n",
    "y_intercept = bathrooms_model.params[0]\n",
    "slope = bathrooms_model.params[1]\n",
    "\n",
    "# Plotting the scatter plot and regression line\n",
    "plt.figure(figsize=(6, 4))\n",
    "sns.scatterplot(x='bathrooms', y='price', data=df, alpha=0.5)\n",
    "sns.lineplot(x=X['bathrooms'], y=sqft_living_model.predict(X), color='red')\n",
    "\n",
    "plt.title('bathrooms vs Price')\n",
    "plt.xlabel('bathrooms')\n",
    "plt.ylabel('Price')\n",
    "\n",
    "plt.show()\n",
    "\n",
    "# Print the summary of the regression results\n",
    "print(bathrooms_model.summary())\n",
    "print(f\"The equation for this line is: y = {slope}x + {y_intercept}\")"
   ]
  },
  {
   "cell_type": "markdown",
   "id": "aOSiekvddkPz",
   "metadata": {
    "id": "aOSiekvddkPz"
   },
   "source": [
    "#### Model Summary (bathrooms)\n",
    "The model explains approximately 27.7% of the variance in price.\n",
    "\n",
    "Equation =\n",
    "\n",
    "Model Interpretation:<br>\n",
    "The coefficient for bathrooms suggests that for every additional bathroom, there is an associated increase in price of $251,200.\n",
    "\n",
    "The intercept indicates the estimated price when the number of bathrooms is zero, which is approximately $8,710.\n",
    "\n",
    "Model Evaluation:<br>\n",
    "The model's R-squared value indicates that it captures a moderate amount of variation in house prices.<br>\n",
    "The intercept's p-value suggests that it is not statistically significant at the conventional significance level of 0.05.\n",
    "\n"
   ]
  },
  {
   "cell_type": "code",
   "execution_count": null,
   "id": "l2OIZw8RXuQP",
   "metadata": {
    "colab": {
     "base_uri": "https://localhost:8080/",
     "height": 844
    },
    "id": "l2OIZw8RXuQP",
    "outputId": "cad30abc-df80-436b-e817-87523fb70f00"
   },
   "outputs": [],
   "source": [
    "#Simple Regression for bedrooms\n",
    "X = df['bedrooms']\n",
    "y = df['price']\n",
    "\n",
    "# Add constant term to the features\n",
    "X = sm.add_constant(X)\n",
    "\n",
    "# Fit OLS regression model\n",
    "bedrooms_model = sm.OLS(y, X).fit()\n",
    "y_intercept = bedrooms_model.params[0]\n",
    "slope = bedrooms_model.params[1]\n",
    "\n",
    "# Plot the scatter plot and regression line\n",
    "plt.figure(figsize=(6, 4))\n",
    "sns.scatterplot(x='bedrooms', y='price', data=df, alpha=0.5)\n",
    "sns.lineplot(x=X['bedrooms'], y=sqft_living_model.predict(X), color='red')\n",
    "\n",
    "plt.title('bedrooms vs Price')\n",
    "plt.xlabel('bedrooms')\n",
    "plt.ylabel('Price')\n",
    "\n",
    "plt.show()\n",
    "\n",
    "# Print the summary of the regression results\n",
    "print(bedrooms_model.summary())\n",
    "print(f\"The equation for this line is: y = {slope}x + {y_intercept}\")"
   ]
  },
  {
   "cell_type": "markdown",
   "id": "ZHePIenrd7-I",
   "metadata": {
    "id": "ZHePIenrd7-I"
   },
   "source": [
    "#### Model Summary(bedrooms)\n",
    "The model explains approximately 9.5% of the variance in price.\n",
    "\n",
    "Model Interpretation:<br>\n",
    "The coefficient for bedrooms suggests that for every additional bedroom, there is an associated increase in price of $122,500.\n",
    "\n",
    "The intercept indicates the estimated price when the number of bedrooms is zero, which is approximately $127,200.\n",
    "\n",
    "Model Evaluation:<br>\n",
    "The model's R-squared value indicates that it captures a small amount of variation in house prices.<br>\n",
    "The strong significance of the bedrooms predictor suggests it may have a meaningful impact on price."
   ]
  },
  {
   "cell_type": "code",
   "execution_count": null,
   "id": "l_5P-m3nY0jf",
   "metadata": {
    "colab": {
     "base_uri": "https://localhost:8080/",
     "height": 844
    },
    "id": "l_5P-m3nY0jf",
    "outputId": "e81d8bef-daf7-4dee-c89b-bdbc509a8779"
   },
   "outputs": [],
   "source": [
    "#Simple Regression for floors\n",
    "X = df['floors']\n",
    "y = df['price']\n",
    "\n",
    "X = sm.add_constant(X)\n",
    "\n",
    "# Fit OLS regression model\n",
    "floors_model = sm.OLS(y, X).fit()\n",
    "y_intercept = floors_model.params[0]\n",
    "slope = floors_model.params[1]\n",
    "\n",
    "# Plotting the scatter plot and regression line\n",
    "plt.figure(figsize=(6, 4))\n",
    "sns.scatterplot(x='floors', y='price', data=df, alpha=0.5)\n",
    "sns.lineplot(x=X['floors'], y=sqft_living_model.predict(X), color='red')\n",
    "\n",
    "plt.title('floors vs Price')\n",
    "plt.xlabel('floors')\n",
    "plt.ylabel('Price')\n",
    "\n",
    "plt.show()\n",
    "\n",
    "# Print the summary of the regression results\n",
    "print(floors_model.summary())\n",
    "print(f\"The equation for this line is: y = {slope}x + {y_intercept}\")"
   ]
  },
  {
   "cell_type": "markdown",
   "id": "IHzVlxUjelIp",
   "metadata": {
    "id": "IHzVlxUjelIp"
   },
   "source": [
    "#### Model Summary(floors)\n",
    "The model explains approximately 6.6% of the variance in price.\n",
    "\n",
    "Model Interpretation:<br>\n",
    "The coefficient for floors suggests that for every additional floor, there is an associated increase in price of $174,800.\n",
    "\n",
    "The intercept indicates the estimated price when the number of floors is zero, which is approximately $279,100.\n",
    "\n",
    "Model Evaluation:<br>\n",
    "The model's R-squared value indicates that it captures a small amount of variation in house prices.<br>\n",
    "The strong significance of the floors predictor suggests it may have a meaningful impact on price."
   ]
  },
  {
   "cell_type": "code",
   "execution_count": null,
   "id": "n0ubc3ZvYzJG",
   "metadata": {
    "colab": {
     "base_uri": "https://localhost:8080/",
     "height": 879
    },
    "id": "n0ubc3ZvYzJG",
    "outputId": "03ef673f-0366-4c2c-9542-2d682a9b1880"
   },
   "outputs": [],
   "source": [
    "#Simple Regression for sqft_lot\n",
    "X = df['sqft_lot']\n",
    "y = df['price']\n",
    "\n",
    "X = sm.add_constant(X)\n",
    "\n",
    "# Fit OLS regression model\n",
    "sqft_lot_model = sm.OLS(y, X).fit()\n",
    "y_intercept = sqft_lot_model.params[0]\n",
    "slope = sqft_lot_model.params[1]\n",
    "\n",
    "# Plotting the scatter plot and regression line\n",
    "plt.figure(figsize=(6, 4))\n",
    "sns.scatterplot(x='sqft_lot', y='price', data=df, alpha=0.5)\n",
    "sns.lineplot(x=X['sqft_lot'], y=sqft_living_model.predict(X), color='red')\n",
    "\n",
    "plt.title('sqft_lot vs Price')\n",
    "plt.xlabel('sqft_lot')\n",
    "plt.ylabel('Price')\n",
    "\n",
    "plt.show()\n",
    "\n",
    "# Print the summary of the regression results\n",
    "print(sqft_lot_model.summary())\n",
    "print(f\"The equation for this line is: y = {slope}x + {y_intercept}\")"
   ]
  },
  {
   "cell_type": "markdown",
   "id": "M6hGOZhHfOF1",
   "metadata": {
    "id": "M6hGOZhHfOF1"
   },
   "source": [
    "#### Model Summary (sqft_lot)\n",
    "\n",
    "The model explains approximately 0.8% of the variance in price.\n",
    "\n",
    "Model Interpretation:<br>\n",
    "The coefficient for sqft_lot suggests that for every additional square foot of lot area, there is an associated increase in price of $0.7973.\n",
    "\n",
    "The intercept indicates the estimated price when the lot area is zero, which is approximately $528,300.\n",
    "\n",
    "Model Evaluation:<br>\n",
    "The model's R-squared value indicates that it captures a very small amount of variation in house prices.<br>\n",
    "However, the predictor for lot area remains statistically significant, suggesting it may have a modest impact on price.\n",
    "\n"
   ]
  },
  {
   "cell_type": "code",
   "execution_count": null,
   "id": "c6X7NkZmY1JO",
   "metadata": {
    "colab": {
     "base_uri": "https://localhost:8080/",
     "height": 879
    },
    "id": "c6X7NkZmY1JO",
    "outputId": "898024c8-550a-4d84-bdff-6fa9dd7df385"
   },
   "outputs": [],
   "source": [
    "# Simple Regression for yr_built\n",
    "X = df['yr_built']\n",
    "y = df['price']\n",
    "\n",
    "X = sm.add_constant(X)\n",
    "\n",
    "# Fit OLS regression model\n",
    "yr_built_model = sm.OLS(y, X).fit()\n",
    "y_intercept = yr_built_model.params[0]\n",
    "slope = yr_built_model.params[1]\n",
    "\n",
    "# Plotting the scatter plot and regression line\n",
    "plt.figure(figsize=(6, 4))\n",
    "sns.scatterplot(x='yr_built', y='price', data=df, alpha=0.5)\n",
    "sns.lineplot(x=X['yr_built'], y=sqft_living_model.predict(X), color='red')\n",
    "\n",
    "plt.title('yr_built vs Price')\n",
    "plt.xlabel('yr_built')\n",
    "plt.ylabel('Price')\n",
    "\n",
    "plt.show()\n",
    "\n",
    "# Print the summary of the regression results\n",
    "print(yr_built_model.summary())\n",
    "print(f\"The equation for this line is: y = {slope}x + {y_intercept}\")"
   ]
  },
  {
   "cell_type": "markdown",
   "id": "iqtlp1VAfqGE",
   "metadata": {
    "id": "iqtlp1VAfqGE"
   },
   "source": [
    "#### Model Summary (yr_built)\n",
    "\n",
    "The model explains approximately 0.3% of the variance in price.\n",
    "\n",
    "Model Interpretation:<br>\n",
    "The coefficient for yr_built suggests that for every additional year of construction, there is an associated increase in price of $674.7431.\n",
    "\n",
    "The intercept indicates the estimated price when the year built is zero, which is approximately -$789,600.???\n",
    "\n",
    "Model Evaluation:<br>\n",
    "The model's R-squared value indicates that it captures a very small amount of variation in house prices.<br>\n",
    "However, the predictor for year built remains statistically significant, suggesting it may have a modest impact on price."
   ]
  },
  {
   "cell_type": "code",
   "execution_count": null,
   "id": "iO6eJt2oY1tg",
   "metadata": {
    "colab": {
     "base_uri": "https://localhost:8080/",
     "height": 844
    },
    "id": "iO6eJt2oY1tg",
    "outputId": "9f533ab0-4375-49a4-fb4e-5e6faecd8d87"
   },
   "outputs": [],
   "source": [
    "#Simple Regression for condition_coded\n",
    "X = df['condition_coded']\n",
    "y = df['price']\n",
    "\n",
    "X = sm.add_constant(X)\n",
    "\n",
    "# Fit OLS regression model\n",
    "condition_coded_model = sm.OLS(y, X).fit()\n",
    "y_intercept = condition_coded_model.params[0]\n",
    "slope = condition_coded_model.params[1]\n",
    "\n",
    "# Plotting the scatter plot and regression line\n",
    "plt.figure(figsize=(6, 4))\n",
    "sns.scatterplot(x='condition_coded', y='price', data=df, alpha=0.5)\n",
    "sns.lineplot(x=X['condition_coded'], y=sqft_living_model.predict(X), color='red')\n",
    "\n",
    "plt.title('condition_coded vs Price')\n",
    "plt.xlabel('condition_coded')\n",
    "plt.ylabel('Price')\n",
    "\n",
    "plt.show()\n",
    "\n",
    "# Print the summary of the regression results\n",
    "print(condition_coded_model.summary())\n",
    "print(f\"The equation for this line is: y = {slope}x + {y_intercept}\")"
   ]
  },
  {
   "cell_type": "markdown",
   "id": "vz1jZxNEb9ia",
   "metadata": {
    "id": "vz1jZxNEb9ia"
   },
   "source": [
    "#### Model Summary (condition_coded)\n",
    "The model explains only 0.1% of the variance in price.\n",
    "\n",
    "Model Interpretation:<br>\n",
    "The coefficient for Condition_coded suggests that for every unit increase in the coded condition variable, there is an associated increase in price of $20,360.\n",
    "\n",
    "The intercept indicates the estimated price when the condition coded is zero, is approximately $470,900.\n",
    "\n",
    "Model Evaluation:<br>\n",
    "The model's R-squared value indicates that it explains very little of the variance in house prices.\n",
    "The significance of the condition_coded predictor suggests it may have some influence on price, but the overall model performance is poor."
   ]
  },
  {
   "cell_type": "code",
   "execution_count": null,
   "id": "UT2tso1pd6uk",
   "metadata": {
    "colab": {
     "base_uri": "https://localhost:8080/"
    },
    "id": "UT2tso1pd6uk",
    "outputId": "7860bbd1-c89b-465d-e1b5-f30f36dcc2f5"
   },
   "outputs": [],
   "source": [
    "correlation"
   ]
  },
  {
   "cell_type": "code",
   "execution_count": null,
   "id": "79679e3d-7575-417f-85e6-3c8032850841",
   "metadata": {},
   "outputs": [],
   "source": []
  },
  {
   "cell_type": "markdown",
   "id": "Rj_oN7TvYsQM",
   "metadata": {
    "id": "Rj_oN7TvYsQM"
   },
   "source": [
    "## Multiple Linear Regression\n",
    "From the simple linear regression the columns with adequate linear relationship to be used in the multiple linear regression are sqft_living,bathrooms and bedrooms"
   ]
  },
  {
   "cell_type": "code",
   "execution_count": null,
   "id": "8JJn0mdGYvSU",
   "metadata": {
    "colab": {
     "base_uri": "https://localhost:8080/",
     "height": 1000
    },
    "id": "8JJn0mdGYvSU",
    "outputId": "646f6756-834d-4213-9821-f746b98d0e0e"
   },
   "outputs": [],
   "source": [
    "# Extract the feature variables and target variable\n",
    "X = df[['sqft_living', 'bathrooms', 'bedrooms']]\n",
    "y = df['price']\n",
    "\n",
    "X = sm.add_constant(X)\n",
    "\n",
    "# Fit OLS regression model\n",
    "multiple_model = sm.OLS(y, X).fit()\n",
    "\n",
    "# Scatter plot\n",
    "plt.figure(figsize=(8, 6))\n",
    "sns.scatterplot(x=multiple_model.fittedvalues, y=multiple_model.resid, alpha=0.5)\n",
    "plt.axhline(y=0, color='red', linestyle='--')\n",
    "plt.title('Residual Plot')\n",
    "plt.xlabel('Fitted values')\n",
    "plt.ylabel('Residuals')\n",
    "plt.show()\n",
    "\n",
    "# Print the summary of the regression results\n",
    "print(multiple_model.summary())\n"
   ]
  },
  {
   "cell_type": "code",
   "execution_count": null,
   "id": "f97f1c3c-37c6-4942-9340-b28eb76bc911",
   "metadata": {},
   "outputs": [],
   "source": [
    "# Extract the feature variables and target variable\n",
    "X = df[['sqft_living', 'bathrooms', 'bedrooms','floors','sqft_lot','yr_built','condition_coded']]\n",
    "y = df['price']\n",
    "\n",
    "X = sm.add_constant(X)\n",
    "\n",
    "# Fit OLS regression model\n",
    "multiple_model = sm.OLS(y, X).fit()\n",
    "\n",
    "# Scatter plot\n",
    "plt.figure(figsize=(8, 6))\n",
    "sns.scatterplot(x=multiple_model.fittedvalues, y=multiple_model.resid, alpha=0.5)\n",
    "plt.axhline(y=0, color='red', linestyle='--')\n",
    "plt.title('Residual Plot')\n",
    "plt.xlabel('Fitted values')\n",
    "plt.ylabel('Residuals')\n",
    "plt.show()\n",
    "\n",
    "# Print the summary of the regression results\n",
    "print(multiple_model.summary())"
   ]
  },
  {
   "cell_type": "code",
   "execution_count": null,
   "id": "a15a5802-bc68-4048-b94f-ea470aa403fb",
   "metadata": {},
   "outputs": [],
   "source": [
    "## Addressing the multicollinearity even before dropping any columns\n",
    "\n",
    "from statsmodels.stats.outliers_influence import variance_inflation_factor\n",
    "from statsmodels.tools.tools import add_constant\n",
    "\n",
    "# Add a constant term for the intercept\n",
    "X = add_constant(df[['bedrooms', 'sqft_living', 'sqft_lot', 'floors', 'yr_built', 'condition_coded', 'bathrooms']])\n",
    "\n",
    "# Calculate VIF for each explanatory variable\n",
    "VIFs = pd.DataFrame()\n",
    "VIFs[\"Variable\"] = X.columns\n",
    "VIFs[\"VIF\"] = [variance_inflation_factor(X.values, i) for i in range(X.shape[1])]\n",
    "\n",
    "print(VIFs)"
   ]
  },
  {
   "cell_type": "markdown",
   "id": "tWBCFuhUbF2t",
   "metadata": {
    "id": "tWBCFuhUbF2t"
   },
   "source": [
    "### Model Summary\n",
    "The model explains approximately 50.7% of the variance price.\n",
    "\n",
    "Model Interpretation:<br>\n",
    "The coefficient for Sqft_living suggests that for every additional square foot of living space, there is an associated increase in price of $310.1848.\n",
    "\n",
    "The coefficient for Bathrooms indicates that for every additional bathroom, there is an associated increase in price of $7659.0953.\n",
    "\n",
    "The coefficient for Bedrooms suggests that for every additional bedroom, there is an associated decrease in price of $58,570.\n",
    "\n",
    "The intercept indicates the baseline price when all predictors are zero, which is approximately $76,390.\n",
    "\n",
    "Model Evaluation:<br>\n",
    "The model's R-squared value suggests that it captures a moderate amount of variation in house prices.\n",
    "\n",
    "### Comparing to other models\n",
    "\n",
    "(Sqft_living): R-squared = 0.493<br>\n",
    "(Condition_coded): R-squared = 0.001<br>\n",
    "(Sqft_lot): R-squared = 0.008<br>\n",
    "(Yr_built): R-squared = 0.277<br>\n",
    "(Bathrooms): R-squared = 0.066<br>\n",
    "(Bedrooms): R-squared = 0.095<br>\n",
    "As we can see, all models have lower R-squared values compared the multiple regression model(R-squared = 0.507).<br>\n",
    " This indicates that the model explains a higher proportion of the variance in house prices compared to the other models.<br>\n",
    " Therefore, based on the R-squared values alone, the model appears to be the best among these models in terms of explaining the variation in house prices"
   ]
  },
  {
   "cell_type": "markdown",
   "id": "b36cb33e-de18-4879-b50a-5aa21a226d36",
   "metadata": {},
   "source": [
    "## Multicollinearity"
   ]
  },
  {
   "cell_type": "markdown",
   "id": "66f1f007-5ec3-401b-9543-9a0f5a0d265e",
   "metadata": {},
   "source": [
    "#### Method from canvas"
   ]
  },
  {
   "cell_type": "markdown",
   "id": "11409c28-ce07-482b-8bbd-826c70b7a1f4",
   "metadata": {},
   "source": [
    "To understand the correlation structure of the predictors, you'll take a copy of the data but this time without the target variable (price) in it."
   ]
  },
  {
   "cell_type": "code",
   "execution_count": null,
   "id": "_rB9T2HC6HrL",
   "metadata": {
    "id": "_rB9T2HC6HrL"
   },
   "outputs": [],
   "source": [
    "import matplotlib.pyplot as plt"
   ]
  },
  {
   "cell_type": "code",
   "execution_count": null,
   "id": "db0f175e-915d-4a20-9375-5cbd8966278c",
   "metadata": {},
   "outputs": [],
   "source": [
    "# Previwing our data\n",
    "df.head()"
   ]
  },
  {
   "cell_type": "code",
   "execution_count": null,
   "id": "8NGM3XE5zzlS",
   "metadata": {
    "colab": {
     "base_uri": "https://localhost:8080/"
    },
    "id": "8NGM3XE5zzlS",
    "outputId": "07edfcfe-b4e9-4507-bbf7-d3a5df607666"
   },
   "outputs": [],
   "source": [
    "X = df.drop('price', axis=1)\n",
    "X.corr()"
   ]
  },
  {
   "cell_type": "markdown",
   "id": "e1820613-4441-40bf-a44b-6cdccbdfb6e7",
   "metadata": {},
   "source": [
    "For an initial idea of how the predictors relate, you can take a look at scatterplots between predictors."
   ]
  },
  {
   "cell_type": "code",
   "execution_count": null,
   "id": "9_gtuHY41eXM",
   "metadata": {
    "colab": {
     "base_uri": "https://localhost:8080/"
    },
    "id": "9_gtuHY41eXM",
    "outputId": "134df301-119b-43f4-b5b7-443e445330d4"
   },
   "outputs": [],
   "source": [
    "# Scatterplot\n",
    "\n",
    "pd.plotting.scatter_matrix(X,figsize  = [9, 9]);\n",
    "plt.show()"
   ]
  },
  {
   "cell_type": "code",
   "execution_count": null,
   "id": "E-aZF02k1WT0",
   "metadata": {
    "colab": {
     "base_uri": "https://localhost:8080/"
    },
    "id": "E-aZF02k1WT0",
    "outputId": "eeebc7e4-1dd6-431b-a86a-285e7ce2dbb3"
   },
   "outputs": [],
   "source": [
    "## Getting the independent variables correlation \n",
    "X.corr()"
   ]
  },
  {
   "cell_type": "markdown",
   "id": "207005f2-d7e2-48f5-9c12-64a1936cee82",
   "metadata": {
    "colab": {
     "base_uri": "https://localhost:8080/"
    },
    "id": "iD840mG31aY9",
    "outputId": "d3f511fd-7bb8-42af-a856-633ca234ed8e"
   },
   "source": [
    "Note that correlations on the diagonal are automatically equal to one as they represent correlations between a variable and the variable itself. So when would you consider a correlation \"high\"? Generally, a correlation with an absolute value around 0.7-0.8 or higher is considered a high correlation. If we take 0.75 as a cut-off, how many high correlations do we have?"
   ]
  },
  {
   "cell_type": "code",
   "execution_count": null,
   "id": "A7kKcuO32D2Y",
   "metadata": {
    "colab": {
     "base_uri": "https://localhost:8080/"
    },
    "id": "A7kKcuO32D2Y",
    "outputId": "f5d9920a-6226-4aad-a4ed-6dc651c9f0e1"
   },
   "outputs": [],
   "source": [
    "abs(X.corr()) > 0.75"
   ]
  },
  {
   "cell_type": "markdown",
   "id": "229c1f10-a34c-40dc-89da-e66e878c28ba",
   "metadata": {
    "colab": {
     "base_uri": "https://localhost:8080/"
    },
    "id": "GV2I0nYL2XDM",
    "outputId": "3acee661-563c-40d2-e8d1-3eb3da173c79"
   },
   "source": [
    "The matrix shows pairwise correlations between features, where \"True\" indicates correlations greater than 0.75. Note that, \"bathrooms\" and \"sqft_living\" are highly correlated, suggesting redundancy. \n",
    "Also, \"bathrooms\" and \"bedrooms\" show moderate correlation.\n",
    "Such relationships may influence regression model stability and interpretation."
   ]
  },
  {
   "cell_type": "code",
   "execution_count": null,
   "id": "n1xBt8jb255V",
   "metadata": {
    "colab": {
     "base_uri": "https://localhost:8080/"
    },
    "id": "n1xBt8jb255V",
    "outputId": "816385b6-0adf-412a-8262-6ff6b0955e89"
   },
   "outputs": [],
   "source": [
    "# save absolute value of correlation matrix as a data frame\n",
    "# converts all values to absolute value\n",
    "# stacks the row:column pairs into a multindex\n",
    "# reset the index to set the multindex to seperate columns\n",
    "# sort values. 0 is the column automatically generated by the stacking\n",
    "\n",
    "df2=X.corr().abs().stack().reset_index().sort_values(0, ascending=False)\n",
    "\n",
    "# zip the variable name columns (Which were only named level_0 and level_1 by default) in a new column named \"pairs\"\n",
    "df2['pairs'] = list(zip(df2.level_0, df2.level_1))\n",
    "\n",
    "# set index to pairs\n",
    "df2.set_index(['pairs'], inplace = True)\n",
    "\n",
    "#d rop level columns\n",
    "df2.drop(columns=['level_1', 'level_0'], inplace = True)\n",
    "\n",
    "# rename correlation column as cc rather than 0\n",
    "df2.columns = ['cc']\n",
    "\n",
    "# drop duplicates. This could be dangerous if you have variables perfectly correlated with variables other than themselves.\n",
    "# for the sake of exercise, kept it in.\n",
    "df2.drop_duplicates(inplace=True)"
   ]
  },
  {
   "cell_type": "code",
   "execution_count": null,
   "id": "qK8cMSqf4XrH",
   "metadata": {
    "colab": {
     "base_uri": "https://localhost:8080/"
    },
    "id": "qK8cMSqf4XrH",
    "outputId": "57b546da-7a4c-483a-db01-6c9f1f7c60af"
   },
   "outputs": [],
   "source": [
    "# Returning pairs that are highly correlated \n",
    "\n",
    "df2[(df2.cc>.75) & (df2.cc <1)]"
   ]
  },
  {
   "cell_type": "code",
   "execution_count": null,
   "id": "ec4f5d31-87cd-421a-af0d-220160ae7a76",
   "metadata": {},
   "outputs": [],
   "source": [
    "## Lets use heatmap to check the correlation\n",
    "\n",
    "import seaborn as sns\n",
    "sns.heatmap(X.corr(), center=0);"
   ]
  },
  {
   "cell_type": "markdown",
   "id": "06345996-c52f-45e7-bd10-540895fa133e",
   "metadata": {},
   "source": [
    "Instead of dropping either bathrooms, sqft_living, we are going to create a new column to capture their joint effects\n",
    "\n",
    "sqft_living - Square footage of living space in the home\n",
    "\n",
    "bathrooms - Number of bathrooms\n",
    "\n",
    "bedrooms - Number of bedrooms\n",
    "\n",
    "We will create a "
   ]
  },
  {
   "cell_type": "code",
   "execution_count": null,
   "id": "85cd48d5-1829-4a01-8152-7391b42cae11",
   "metadata": {},
   "outputs": [],
   "source": [
    "# Preview the new df\n",
    "df.head()"
   ]
  },
  {
   "cell_type": "code",
   "execution_count": null,
   "id": "b4a47dd5-2d47-4724-be52-fd8d41f15fe0",
   "metadata": {},
   "outputs": [],
   "source": [
    "# Create new df\n",
    "data = df.copy()\n",
    "data.head()"
   ]
  },
  {
   "cell_type": "code",
   "execution_count": null,
   "id": "ed2b7f6a-22d3-49e6-9b21-ca1aa24dc432",
   "metadata": {},
   "outputs": [],
   "source": [
    "## Method 1\n",
    "# We will only address the 2 highly correlated columns bathrooms and sqft_living\n",
    "\n",
    "# The ratio of bathrooms to the number of bedrooms\n",
    "\n",
    "data['bathroom_density'] = data['bathrooms'] / data['bedrooms']\n",
    "\n",
    "# Represents the ratio of total rooms (including bedrooms and bathrooms) to the living space of each property\n",
    "# data['total_rooms_per_sqft'] = (data['bedrooms'] + data['bathrooms']) / data['sqft_living']\n",
    "\n",
    "# Preview our new data frame\n",
    "data.head()"
   ]
  },
  {
   "cell_type": "markdown",
   "id": "636a6f12-3b7e-4481-9c17-025c90f0e4e0",
   "metadata": {},
   "source": [
    "## Dropping column bathrooms\n",
    "\"Bathrooms\" has a correlation coefficient of 0.76 with \"sqft_living\", indicating a high positive correlation.\n",
    "\"Bathrooms\" has a correlation coefficient of 0.51 with \"bedrooms\", indicating a moderate positive correlation\n",
    "\n",
    "Also \n",
    "\n",
    "\"Bathrooms\" has a correlation coefficient of 0.525906 with \"price\", indicating a moderate positive correlation.\n",
    "\"Sqft_living\" has a higher correlation coefficient of 0.701917 with \"price\", indicating a stronger positive correlation.\n",
    "\n",
    "So we will drop the bathrooms column"
   ]
  },
  {
   "cell_type": "code",
   "execution_count": null,
   "id": "c6f7e3ed-6cac-419c-9c84-f9c2e1f6ef54",
   "metadata": {},
   "outputs": [],
   "source": [
    "# Drop the 'bathrooms' column from the DataFrame\n",
    "data.drop('bathrooms', axis=1, inplace=True)\n",
    "data.head()"
   ]
  },
  {
   "cell_type": "code",
   "execution_count": null,
   "id": "6123c007-76e8-4087-92a6-8a46e571bf72",
   "metadata": {},
   "outputs": [],
   "source": [
    "data.corr()"
   ]
  },
  {
   "cell_type": "code",
   "execution_count": null,
   "id": "ee4cf43f-5028-4c4d-8233-b52cb15caa97",
   "metadata": {},
   "outputs": [],
   "source": [
    "## Rechecking the correlation between the features\n",
    "abs(data.corr()) > 0.75"
   ]
  },
  {
   "cell_type": "code",
   "execution_count": null,
   "id": "3568ba96-d733-4d28-a1b8-ebbf23423d17",
   "metadata": {},
   "outputs": [],
   "source": [
    "# creating another copy of the data with the updated columns\n",
    "df = data.copy()"
   ]
  },
  {
   "cell_type": "code",
   "execution_count": 36,
   "id": "1a0d10fe-75e0-440c-85d5-76b51f6ba159",
   "metadata": {},
   "outputs": [
    {
     "ename": "KeyError",
     "evalue": "'bathroom_density'",
     "output_type": "error",
     "traceback": [
      "\u001b[1;31m---------------------------------------------------------------------------\u001b[0m",
      "\u001b[1;31mKeyError\u001b[0m                                  Traceback (most recent call last)",
      "File \u001b[1;32m~\\anaconda3\\Lib\\site-packages\\pandas\\core\\indexes\\base.py:3791\u001b[0m, in \u001b[0;36mIndex.get_loc\u001b[1;34m(self, key)\u001b[0m\n\u001b[0;32m   3790\u001b[0m \u001b[38;5;28;01mtry\u001b[39;00m:\n\u001b[1;32m-> 3791\u001b[0m     \u001b[38;5;28;01mreturn\u001b[39;00m \u001b[38;5;28mself\u001b[39m\u001b[38;5;241m.\u001b[39m_engine\u001b[38;5;241m.\u001b[39mget_loc(casted_key)\n\u001b[0;32m   3792\u001b[0m \u001b[38;5;28;01mexcept\u001b[39;00m \u001b[38;5;167;01mKeyError\u001b[39;00m \u001b[38;5;28;01mas\u001b[39;00m err:\n",
      "File \u001b[1;32mindex.pyx:152\u001b[0m, in \u001b[0;36mpandas._libs.index.IndexEngine.get_loc\u001b[1;34m()\u001b[0m\n",
      "File \u001b[1;32mindex.pyx:181\u001b[0m, in \u001b[0;36mpandas._libs.index.IndexEngine.get_loc\u001b[1;34m()\u001b[0m\n",
      "File \u001b[1;32mpandas\\_libs\\hashtable_class_helper.pxi:7080\u001b[0m, in \u001b[0;36mpandas._libs.hashtable.PyObjectHashTable.get_item\u001b[1;34m()\u001b[0m\n",
      "File \u001b[1;32mpandas\\_libs\\hashtable_class_helper.pxi:7088\u001b[0m, in \u001b[0;36mpandas._libs.hashtable.PyObjectHashTable.get_item\u001b[1;34m()\u001b[0m\n",
      "\u001b[1;31mKeyError\u001b[0m: 'bathroom_density'",
      "\nThe above exception was the direct cause of the following exception:\n",
      "\u001b[1;31mKeyError\u001b[0m                                  Traceback (most recent call last)",
      "Cell \u001b[1;32mIn[36], line 2\u001b[0m\n\u001b[0;32m      1\u001b[0m \u001b[38;5;66;03m# Simple Regression for bathroom_density\u001b[39;00m\n\u001b[1;32m----> 2\u001b[0m X \u001b[38;5;241m=\u001b[39m df[\u001b[38;5;124m'\u001b[39m\u001b[38;5;124mbathroom_density\u001b[39m\u001b[38;5;124m'\u001b[39m]\n\u001b[0;32m      3\u001b[0m y \u001b[38;5;241m=\u001b[39m df[\u001b[38;5;124m'\u001b[39m\u001b[38;5;124mprice\u001b[39m\u001b[38;5;124m'\u001b[39m]\n\u001b[0;32m      5\u001b[0m X \u001b[38;5;241m=\u001b[39m sm\u001b[38;5;241m.\u001b[39madd_constant(X)\n",
      "File \u001b[1;32m~\\anaconda3\\Lib\\site-packages\\pandas\\core\\frame.py:3893\u001b[0m, in \u001b[0;36mDataFrame.__getitem__\u001b[1;34m(self, key)\u001b[0m\n\u001b[0;32m   3891\u001b[0m \u001b[38;5;28;01mif\u001b[39;00m \u001b[38;5;28mself\u001b[39m\u001b[38;5;241m.\u001b[39mcolumns\u001b[38;5;241m.\u001b[39mnlevels \u001b[38;5;241m>\u001b[39m \u001b[38;5;241m1\u001b[39m:\n\u001b[0;32m   3892\u001b[0m     \u001b[38;5;28;01mreturn\u001b[39;00m \u001b[38;5;28mself\u001b[39m\u001b[38;5;241m.\u001b[39m_getitem_multilevel(key)\n\u001b[1;32m-> 3893\u001b[0m indexer \u001b[38;5;241m=\u001b[39m \u001b[38;5;28mself\u001b[39m\u001b[38;5;241m.\u001b[39mcolumns\u001b[38;5;241m.\u001b[39mget_loc(key)\n\u001b[0;32m   3894\u001b[0m \u001b[38;5;28;01mif\u001b[39;00m is_integer(indexer):\n\u001b[0;32m   3895\u001b[0m     indexer \u001b[38;5;241m=\u001b[39m [indexer]\n",
      "File \u001b[1;32m~\\anaconda3\\Lib\\site-packages\\pandas\\core\\indexes\\base.py:3798\u001b[0m, in \u001b[0;36mIndex.get_loc\u001b[1;34m(self, key)\u001b[0m\n\u001b[0;32m   3793\u001b[0m     \u001b[38;5;28;01mif\u001b[39;00m \u001b[38;5;28misinstance\u001b[39m(casted_key, \u001b[38;5;28mslice\u001b[39m) \u001b[38;5;129;01mor\u001b[39;00m (\n\u001b[0;32m   3794\u001b[0m         \u001b[38;5;28misinstance\u001b[39m(casted_key, abc\u001b[38;5;241m.\u001b[39mIterable)\n\u001b[0;32m   3795\u001b[0m         \u001b[38;5;129;01mand\u001b[39;00m \u001b[38;5;28many\u001b[39m(\u001b[38;5;28misinstance\u001b[39m(x, \u001b[38;5;28mslice\u001b[39m) \u001b[38;5;28;01mfor\u001b[39;00m x \u001b[38;5;129;01min\u001b[39;00m casted_key)\n\u001b[0;32m   3796\u001b[0m     ):\n\u001b[0;32m   3797\u001b[0m         \u001b[38;5;28;01mraise\u001b[39;00m InvalidIndexError(key)\n\u001b[1;32m-> 3798\u001b[0m     \u001b[38;5;28;01mraise\u001b[39;00m \u001b[38;5;167;01mKeyError\u001b[39;00m(key) \u001b[38;5;28;01mfrom\u001b[39;00m \u001b[38;5;21;01merr\u001b[39;00m\n\u001b[0;32m   3799\u001b[0m \u001b[38;5;28;01mexcept\u001b[39;00m \u001b[38;5;167;01mTypeError\u001b[39;00m:\n\u001b[0;32m   3800\u001b[0m     \u001b[38;5;66;03m# If we have a listlike key, _check_indexing_error will raise\u001b[39;00m\n\u001b[0;32m   3801\u001b[0m     \u001b[38;5;66;03m#  InvalidIndexError. Otherwise we fall through and re-raise\u001b[39;00m\n\u001b[0;32m   3802\u001b[0m     \u001b[38;5;66;03m#  the TypeError.\u001b[39;00m\n\u001b[0;32m   3803\u001b[0m     \u001b[38;5;28mself\u001b[39m\u001b[38;5;241m.\u001b[39m_check_indexing_error(key)\n",
      "\u001b[1;31mKeyError\u001b[0m: 'bathroom_density'"
     ]
    }
   ],
   "source": [
    "# Simple Regression for bathroom_density\n",
    "X = df['bathroom_density']\n",
    "y = df['price']\n",
    "\n",
    "X = sm.add_constant(X)\n",
    "\n",
    "# Fit OLS regression model\n",
    "condition_coded_model = sm.OLS(y, X).fit()\n",
    "y_intercept = condition_coded_model.params[0]\n",
    "slope = condition_coded_model.params[1]\n",
    "\n",
    "# Plotting the scatter plot and regression line\n",
    "plt.figure(figsize=(6, 4))\n",
    "sns.scatterplot(x='bathroom_density', y='price', data=df, alpha=0.5)\n",
    "sns.lineplot(x=X['bathroom_density'], y=sqft_living_model.predict(X), color='red')\n",
    "\n",
    "plt.title('bathroom_density vs Price')\n",
    "plt.xlabel('bathroom_density')\n",
    "plt.ylabel('Price')\n",
    "\n",
    "plt.show()\n",
    "\n",
    "# Print the summary of the regression results\n",
    "print(condition_coded_model.summary())\n",
    "print(f\"The equation for this line is: y = {slope}x + {y_intercept}\")"
   ]
  },
  {
   "cell_type": "code",
   "execution_count": 56,
   "id": "bb0c481f-74a8-44ff-a319-12b130c54009",
   "metadata": {},
   "outputs": [
    {
     "data": {
      "text/plain": [
       "price               1.000000\n",
       "sqft_living         0.701917\n",
       "bedrooms            0.308787\n",
       "bathroom_density    0.281227\n",
       "floors              0.256804\n",
       "sqft_lot            0.089876\n",
       "yr_built            0.053953\n",
       "condition_coded     0.036056\n",
       "Name: price, dtype: float64"
      ]
     },
     "execution_count": 56,
     "metadata": {},
     "output_type": "execute_result"
    }
   ],
   "source": [
    "# Explain Results\n",
    "df.corr()['price'].sort_values(ascending = False)"
   ]
  },
  {
   "cell_type": "code",
   "execution_count": 57,
   "id": "59b4706b-dcf0-423d-bdde-1b5fe431ad83",
   "metadata": {},
   "outputs": [
    {
     "data": {
      "image/png": "[encoded data removed]",
      "text/plain": [
       "<Figure size 800x600 with 1 Axes>"
      ]
     },
     "metadata": {},
     "output_type": "display_data"
    },
    {
     "name": "stdout",
     "output_type": "stream",
     "text": [
      "                            OLS Regression Results                            \n",
      "==============================================================================\n",
      "Dep. Variable:                  price   R-squared:                       0.507\n",
      "Model:                            OLS   Adj. R-squared:                  0.507\n",
      "Method:                 Least Squares   F-statistic:                     7398.\n",
      "Date:                Fri, 05 Apr 2024   Prob (F-statistic):               0.00\n",
      "Time:                        16:16:52   Log-Likelihood:            -2.9976e+05\n",
      "No. Observations:               21597   AIC:                         5.995e+05\n",
      "Df Residuals:                   21593   BIC:                         5.996e+05\n",
      "Df Model:                           3                                         \n",
      "Covariance Type:            nonrobust                                         \n",
      "====================================================================================\n",
      "                       coef    std err          t      P>|t|      [0.025      0.975]\n",
      "------------------------------------------------------------------------------------\n",
      "const             7.547e+04   1.06e+04      7.115      0.000    5.47e+04    9.63e+04\n",
      "sqft_living        313.5493      2.838    110.464      0.000     307.986     319.113\n",
      "bedrooms         -5.686e+04   2751.949    -20.663      0.000   -6.23e+04   -5.15e+04\n",
      "bathroom_density  6790.8166   1.03e+04      0.657      0.511   -1.35e+04    2.71e+04\n",
      "==============================================================================\n",
      "Omnibus:                    14402.045   Durbin-Watson:                   1.985\n",
      "Prob(Omnibus):                  0.000   Jarque-Bera (JB):           489902.451\n",
      "Skew:                           2.730   Prob(JB):                         0.00\n",
      "Kurtosis:                      25.685   Cond. No.                     1.83e+04\n",
      "==============================================================================\n",
      "\n",
      "Notes:\n",
      "[1] Standard Errors assume that the covariance matrix of the errors is correctly specified.\n",
      "[2] The condition number is large, 1.83e+04. This might indicate that there are\n",
      "strong multicollinearity or other numerical problems.\n"
     ]
    }
   ],
   "source": [
    "# Multiple Regression (top 3 most corr)\n",
    "# Extract the feature variables and target variable\n",
    "\n",
    "X = df[['sqft_living', 'bedrooms', 'bathroom_density']]\n",
    "y = df['price']\n",
    "\n",
    "X = sm.add_constant(X)\n",
    "\n",
    "# Fit OLS regression model\n",
    "multiple_model = sm.OLS(y, X).fit()\n",
    "\n",
    "# Scatter plot\n",
    "plt.figure(figsize=(8, 6))\n",
    "sns.scatterplot(x=multiple_model.fittedvalues, y=multiple_model.resid, alpha=0.5)\n",
    "plt.axhline(y=0, color='red', linestyle='--')\n",
    "plt.title('Residual Plot')\n",
    "plt.xlabel('Fitted values')\n",
    "plt.ylabel('Residuals')\n",
    "plt.show()\n",
    "\n",
    "# Print the summary of the regression results\n",
    "print(multiple_model.summary())"
   ]
  },
  {
   "cell_type": "code",
   "execution_count": 58,
   "id": "18976788-a2c4-4b05-a5e9-3a61eb4ad483",
   "metadata": {},
   "outputs": [
    {
     "data": {
      "image/png": "[encoded data removed]",
      "text/plain": [
       "<Figure size 800x600 with 1 Axes>"
      ]
     },
     "metadata": {},
     "output_type": "display_data"
    },
    {
     "name": "stdout",
     "output_type": "stream",
     "text": [
      "                            OLS Regression Results                            \n",
      "==============================================================================\n",
      "Dep. Variable:                  price   R-squared:                       0.555\n",
      "Model:                            OLS   Adj. R-squared:                  0.555\n",
      "Method:                 Least Squares   F-statistic:                     3844.\n",
      "Date:                Fri, 05 Apr 2024   Prob (F-statistic):               0.00\n",
      "Time:                        16:16:53   Log-Likelihood:            -2.9865e+05\n",
      "No. Observations:               21597   AIC:                         5.973e+05\n",
      "Df Residuals:                   21589   BIC:                         5.974e+05\n",
      "Df Model:                           7                                         \n",
      "Covariance Type:            nonrobust                                         \n",
      "====================================================================================\n",
      "                       coef    std err          t      P>|t|      [0.025      0.975]\n",
      "------------------------------------------------------------------------------------\n",
      "const             5.893e+06   1.41e+05     41.802      0.000    5.62e+06    6.17e+06\n",
      "bedrooms         -4.179e+04   2714.144    -15.398      0.000   -4.71e+04   -3.65e+04\n",
      "sqft_living        316.7426      2.748    115.261      0.000     311.356     322.129\n",
      "sqft_lot            -0.3161      0.041     -7.673      0.000      -0.397      -0.235\n",
      "floors            6.048e+04   3832.368     15.781      0.000     5.3e+04     6.8e+04\n",
      "yr_built         -3103.1370     72.353    -42.889      0.000   -3244.954   -2961.320\n",
      "condition_coded   1.867e+04   2788.513      6.697      0.000    1.32e+04    2.41e+04\n",
      "bathroom_density  1.503e+05   1.12e+04     13.433      0.000    1.28e+05    1.72e+05\n",
      "==============================================================================\n",
      "Omnibus:                    14415.251   Durbin-Watson:                   1.985\n",
      "Prob(Omnibus):                  0.000   Jarque-Bera (JB):           540910.746\n",
      "Skew:                           2.699   Prob(JB):                         0.00\n",
      "Kurtosis:                      26.915   Cond. No.                     3.73e+06\n",
      "==============================================================================\n",
      "\n",
      "Notes:\n",
      "[1] Standard Errors assume that the covariance matrix of the errors is correctly specified.\n",
      "[2] The condition number is large, 3.73e+06. This might indicate that there are\n",
      "strong multicollinearity or other numerical problems.\n"
     ]
    }
   ],
   "source": [
    "# All features\n",
    "\n",
    "X = df[['bedrooms','sqft_living','sqft_lot','floors','yr_built','condition_coded','bathroom_density']]\n",
    "y = df['price']\n",
    "\n",
    "X = sm.add_constant(X)\n",
    "\n",
    "# Fit OLS regression model\n",
    "multiple_model = sm.OLS(y, X).fit()\n",
    "\n",
    "# Scatter plot\n",
    "plt.figure(figsize=(8, 6))\n",
    "sns.scatterplot(x=multiple_model.fittedvalues, y=multiple_model.resid, alpha=0.5)\n",
    "plt.axhline(y=0, color='red', linestyle='--')\n",
    "plt.title('Residual Plot')\n",
    "plt.xlabel('Fitted values')\n",
    "plt.ylabel('Residuals')\n",
    "plt.show()\n",
    "\n",
    "# Print the summary of the regression results\n",
    "print(multiple_model.summary())"
   ]
  },
  {
   "cell_type": "code",
   "execution_count": 59,
   "id": "3e288ccd-591e-4730-bb5f-31e00b9b458c",
   "metadata": {},
   "outputs": [
    {
     "name": "stdout",
     "output_type": "stream",
     "text": [
      "           Variable          VIF\n",
      "0             const  7142.252457\n",
      "1          bedrooms     2.271432\n",
      "2       sqft_living     2.287514\n",
      "3          sqft_lot     1.045762\n",
      "4            floors     1.537246\n",
      "5          yr_built     1.623319\n",
      "6   condition_coded     1.182586\n",
      "7  bathroom_density     2.014988\n"
     ]
    }
   ],
   "source": [
    "## Addressing the multicollinearity even after dropping bathrooms\n",
    "\n",
    "from statsmodels.stats.outliers_influence import variance_inflation_factor\n",
    "from statsmodels.tools.tools import add_constant\n",
    "\n",
    "# Add a constant term for the intercept\n",
    "X = add_constant(df[['bedrooms', 'sqft_living', 'sqft_lot', 'floors', 'yr_built', 'condition_coded', 'bathroom_density']])\n",
    "\n",
    "# Calculate VIF for each explanatory variable\n",
    "VIFs = pd.DataFrame()\n",
    "VIFs[\"Variable\"] = X.columns\n",
    "VIFs[\"VIF\"] = [variance_inflation_factor(X.values, i) for i in range(X.shape[1])]\n",
    "\n",
    "print(VIFs)"
   ]
  },
  {
   "cell_type": "code",
   "execution_count": 60,
   "id": "0877bdac-49aa-44b3-9552-b1f3182a1d2f",
   "metadata": {},
   "outputs": [],
   "source": [
    "# Results\n",
    "\n",
    "# Compare the model with bathroom and the model with ratio of bathroom to bedroom - check their R-squared\n",
    "# Compare the linear model with multiple regression\n",
    "# Given the VIFs results both model. Both sets of VIF results suggest that the model is relatively free from severe multicollinearity issues. While bathrooms directly introduces a bit more \n",
    "# collinearity than bathroom_density, the effect is still within acceptable limits."
   ]
  },
  {
   "cell_type": "code",
   "execution_count": 61,
   "id": "4cafb9ec-8e67-4c59-aef4-0191584f3b6e",
   "metadata": {},
   "outputs": [],
   "source": [
    "# Conclusion\n",
    "# Create linear equation for all regressions y = mx + c"
   ]
  },
  {
   "cell_type": "code",
   "execution_count": null,
   "id": "7861d848-30ab-4097-ba43-a9194d97f6d4",
   "metadata": {},
   "outputs": [],
   "source": []
  }
 ],
 "metadata": {
  "colab": {
   "provenance": []
  },
  "kernelspec": {
   "display_name": "Python 3 (ipykernel)",
   "language": "python",
   "name": "python3"
  },
  "language_info": {
   "codemirror_mode": {
    "name": "ipython",
    "version": 3
   },
   "file_extension": ".py",
   "mimetype": "text/x-python",
   "name": "python",
   "nbconvert_exporter": "python",
   "pygments_lexer": "ipython3",
   "version": "3.11.5"
  }
 },
 "nbformat": 4,
 "nbformat_minor": 5
}
