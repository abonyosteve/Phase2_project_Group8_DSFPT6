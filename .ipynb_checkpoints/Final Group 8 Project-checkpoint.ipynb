{
 "cells": [
  {
   "cell_type": "markdown",
   "id": "49844ea7-6172-400b-b8f1-38eae23ce74a",
   "metadata": {},
   "source": [
    "# **Group 8 DSF PT6-Phase 2 Project**\n",
    "\n",
    "**`Members`**\n",
    "* *steve.abonyo@student.moringaschool.com*\n",
    "* *brian.kariithi@student.moringaschool.com*\n",
    "* *rosaline.mungai@student.moringaschool.com*\n",
    "* *ruth.nyakio@student.moringaschool.com*\n",
    "* *lynette.mwiti@student.moringaschool.com*\n",
    "* *ivan.wawire@student.moringaschool.com*"
   ]
  },
  {
   "cell_type": "markdown",
   "id": "5091d0cd-a40f-44a3-94e1-a27fae55920e",
   "metadata": {},
   "source": [
    "# 1. Business Understanding"
   ]
  },
  {
   "cell_type": "markdown",
   "id": "30dab337-d325-45de-ba7c-b49eb86f95bf",
   "metadata": {},
   "source": [
    "***Overview*** : <br>\n",
    "Housing sales in a northwestern county between the year `2014` and `2015`\n",
    "\n",
    "***Problem Statement*** : <br>\n",
    "Finsco Limited, a real estate group investing in USA real estate has opened a consultancy arm. for their first project, they would like to understand how home renovations might increase the estimated value of homes, and by what amount.\n",
    "\n",
    "The goal is to get insights to provide advice to homeowners, real estate investors and clients who do house-flipping\n",
    "\n",
    "They have tasked the Hepta Group to conduct multiple linear regression modelling to analyze house sales in a Northwestern County they have been provided with.\n",
    "\n",
    "***Stakeholders*** : <br>\n",
    "-Homeowners : *These are the people who want to increase the value of their homes and want to know the kind of renovations to do*.<br>\n",
    "-Real estate agency : *The company that is conducting this model to help homeowners know what renovations to do to increase the value of their homes.*\n",
    "\n",
    "***Understanding*** : <br>\n",
    "We have several parameters/variables in our data that when adjusted/improved, may positively affect the value of homes in this county. `We need to find and observe which parameter greatly influences the value of the homes and perhaps, what parameters might give the best value of the homes.`<br>\n",
    "*Our dependent variable is the value of homes; what we are trying to predict.*<br>\n",
    "*Our independent variables are the home renovations, and there are several, we will use this to help us find the best possible values of the homes.*\n",
    "\n",
    "The above two concepts (`dependent` and `independent`) lead us to the concept we are going to use which is the multiple linear regression. `Multiple linear regression` is used when we want to predict a dependent variable (value of homes) using two or more independent variables (the several parameters present in our data).\n",
    "\n",
    "Key items to check before we build the model;\n",
    "* Have a basic understanding of the data\n",
    "* Which parameters greatly/least influence the value of homes for the homeowners?\n",
    "* Which parameters are irrelevant to our model (*through observation after understanding our problem*)\n",
    "\n",
    "***Implications***\n",
    "* With the insights provided, Finsco Limited and its clients can strategically invest in real estate by choosing renovations that significantly increase home values.\n",
    "* Homeowners working with Finsco's consultancy learn which renovations offer the best returns, helping them wisely enhance their properties.\n",
    "* House flippers working with FINSCO consultancy can tailor their strategies to target high-ROI renovations.\n",
    "* The consultancy's success not only benefits Finsco and its clients but also stimulates economic growth through increased renovation and property transaction activities."
   ]
  },
  {
   "cell_type": "markdown",
   "id": "4adfc716-dfbc-43fe-92ce-0e936cd9a724",
   "metadata": {},
   "source": [
    "# 2. Data understanding"
   ]
  },
  {
   "cell_type": "markdown",
   "id": "ae099d42-1d6d-4a98-b568-9958e86cdbdd",
   "metadata": {},
   "source": [
    "***Data Source & Size***<br>\n",
    "The data we are going to use is called `kc_house_data.csv` from the `King County House Sales` and `it has 21597 records`.\n",
    "\n",
    "***Variables description***<br>\n",
    "Below is the description of our variables;\n",
    "* `id` - Unique identifier for a house\n",
    "* `date` - Date house was sold\n",
    "* `price` - Sale price (prediction target)\n",
    "* `bedrooms` - Number of bedrooms\n",
    "* `bathrooms` - Number of bathrooms\n",
    "* `sqft_living` - Square footage of living space in the home\n",
    "* `sqft_lot` - Square footage of the lot\n",
    "* `floors` - Number of floors (levels) in house\n",
    "* `waterfront` - Whether the house is on a waterfront\n",
    "  * Includes Duwamish, Elliott Bay, Puget Sound, Lake Union, Ship Canal, Lake Washington, Lake Sammamish, other lake, and river/slough waterfronts\n",
    "* `view` - Quality of view from house\n",
    "  * Includes views of Mt. Rainier, Olympics, Cascades, Territorial, Seattle Skyline, Puget Sound, Lake Washington, Lake Sammamish, small lake / river / creek, and other\n",
    "* `condition` - How good the overall condition of the house is. Related to maintenance of house.\n",
    "  * See the [King County Assessor Website](https://info.kingcounty.gov/assessor/esales/Glossary.aspx?type=r) for further explanation of each condition code\n",
    "* `grade` - Overall grade of the house. Related to the construction and design of the house.\n",
    "  * See the [King County Assessor Website](https://info.kingcounty.gov/assessor/esales/Glossary.aspx?type=r) for further explanation of each building grade code\n",
    "* `sqft_above` - Square footage of house apart from basement\n",
    "* `sqft_basement` - Square footage of the basement\n",
    "* `yr_built` - Year when house was built\n",
    "* `yr_renovated` - Year when house was renovated\n",
    "* `zipcode` - ZIP Code used by the United States Postal Service\n",
    "* `lat` - Latitude coordinate\n",
    "* `long` - Longitude coordinate\n",
    "* `sqft_living15` - The square footage of interior housing living space for the nearest 15 neighbors\n",
    "* `sqft_lot15` - The square footage of the land lots of .the nearest 15 neighbors"
   ]
  },
  {
   "cell_type": "markdown",
   "id": "62bdf21a-4ceb-49f9-9b0b-a026de01a6b0",
   "metadata": {},
   "source": [
    "The `target variable from the above dataset is the price`, where as the `others form the predictor/independent variables`. From these datasets we can already start seeing some predictor variables that may have an impact on the target variable (*ofcourse this is by observation*), for example how will changing the number of bedrooms affect the house prices for the home owners."
   ]
  },
  {
   "cell_type": "markdown",
   "id": "96aeee58-c894-44ea-910d-821b9878523e",
   "metadata": {},
   "source": [
    "***Limitations*** :<br>\n",
    "From a quick observation of the data, we have noticed the `presence of missing values` in some of the predictor variables like waterfront and view. We will first have to check if the variables having missing values significantly affect the value of homes or not.<br>\n",
    "Also we have noticed that `there are non-numerical variables`. Linear regression only uses numerical columns. We will have to adjust this columns to numbers if at all we are going to use them in building our model (NB: it is a requirement that we use atleast one non-numeric column)"
   ]
  },
  {
   "cell_type": "code",
   "execution_count": 1,
   "id": "bd27edec-a487-4b59-b853-2935bd4acc91",
   "metadata": {},
   "outputs": [
    {
     "data": {
      "text/html": [
       "<div>\n",
       "<style scoped>\n",
       "    .dataframe tbody tr th:only-of-type {\n",
       "        vertical-align: middle;\n",
       "    }\n",
       "\n",
       "    .dataframe tbody tr th {\n",
       "        vertical-align: top;\n",
       "    }\n",
       "\n",
       "    .dataframe thead th {\n",
       "        text-align: right;\n",
       "    }\n",
       "</style>\n",
       "<table border=\"1\" class=\"dataframe\">\n",
       "  <thead>\n",
       "    <tr style=\"text-align: right;\">\n",
       "      <th></th>\n",
       "      <th>id</th>\n",
       "      <th>date</th>\n",
       "      <th>price</th>\n",
       "      <th>bedrooms</th>\n",
       "      <th>bathrooms</th>\n",
       "      <th>sqft_living</th>\n",
       "      <th>sqft_lot</th>\n",
       "      <th>floors</th>\n",
       "      <th>waterfront</th>\n",
       "      <th>view</th>\n",
       "      <th>...</th>\n",
       "      <th>grade</th>\n",
       "      <th>sqft_above</th>\n",
       "      <th>sqft_basement</th>\n",
       "      <th>yr_built</th>\n",
       "      <th>yr_renovated</th>\n",
       "      <th>zipcode</th>\n",
       "      <th>lat</th>\n",
       "      <th>long</th>\n",
       "      <th>sqft_living15</th>\n",
       "      <th>sqft_lot15</th>\n",
       "    </tr>\n",
       "  </thead>\n",
       "  <tbody>\n",
       "    <tr>\n",
       "      <th>0</th>\n",
       "      <td>7129300520</td>\n",
       "      <td>10/13/2014</td>\n",
       "      <td>221900.0</td>\n",
       "      <td>3</td>\n",
       "      <td>1.00</td>\n",
       "      <td>1180</td>\n",
       "      <td>5650</td>\n",
       "      <td>1.0</td>\n",
       "      <td>NaN</td>\n",
       "      <td>NONE</td>\n",
       "      <td>...</td>\n",
       "      <td>7 Average</td>\n",
       "      <td>1180</td>\n",
       "      <td>0.0</td>\n",
       "      <td>1955</td>\n",
       "      <td>0.0</td>\n",
       "      <td>98178</td>\n",
       "      <td>47.5112</td>\n",
       "      <td>-122.257</td>\n",
       "      <td>1340</td>\n",
       "      <td>5650</td>\n",
       "    </tr>\n",
       "    <tr>\n",
       "      <th>1</th>\n",
       "      <td>6414100192</td>\n",
       "      <td>12/9/2014</td>\n",
       "      <td>538000.0</td>\n",
       "      <td>3</td>\n",
       "      <td>2.25</td>\n",
       "      <td>2570</td>\n",
       "      <td>7242</td>\n",
       "      <td>2.0</td>\n",
       "      <td>NO</td>\n",
       "      <td>NONE</td>\n",
       "      <td>...</td>\n",
       "      <td>7 Average</td>\n",
       "      <td>2170</td>\n",
       "      <td>400.0</td>\n",
       "      <td>1951</td>\n",
       "      <td>1991.0</td>\n",
       "      <td>98125</td>\n",
       "      <td>47.7210</td>\n",
       "      <td>-122.319</td>\n",
       "      <td>1690</td>\n",
       "      <td>7639</td>\n",
       "    </tr>\n",
       "    <tr>\n",
       "      <th>2</th>\n",
       "      <td>5631500400</td>\n",
       "      <td>2/25/2015</td>\n",
       "      <td>180000.0</td>\n",
       "      <td>2</td>\n",
       "      <td>1.00</td>\n",
       "      <td>770</td>\n",
       "      <td>10000</td>\n",
       "      <td>1.0</td>\n",
       "      <td>NO</td>\n",
       "      <td>NONE</td>\n",
       "      <td>...</td>\n",
       "      <td>6 Low Average</td>\n",
       "      <td>770</td>\n",
       "      <td>0.0</td>\n",
       "      <td>1933</td>\n",
       "      <td>NaN</td>\n",
       "      <td>98028</td>\n",
       "      <td>47.7379</td>\n",
       "      <td>-122.233</td>\n",
       "      <td>2720</td>\n",
       "      <td>8062</td>\n",
       "    </tr>\n",
       "    <tr>\n",
       "      <th>3</th>\n",
       "      <td>2487200875</td>\n",
       "      <td>12/9/2014</td>\n",
       "      <td>604000.0</td>\n",
       "      <td>4</td>\n",
       "      <td>3.00</td>\n",
       "      <td>1960</td>\n",
       "      <td>5000</td>\n",
       "      <td>1.0</td>\n",
       "      <td>NO</td>\n",
       "      <td>NONE</td>\n",
       "      <td>...</td>\n",
       "      <td>7 Average</td>\n",
       "      <td>1050</td>\n",
       "      <td>910.0</td>\n",
       "      <td>1965</td>\n",
       "      <td>0.0</td>\n",
       "      <td>98136</td>\n",
       "      <td>47.5208</td>\n",
       "      <td>-122.393</td>\n",
       "      <td>1360</td>\n",
       "      <td>5000</td>\n",
       "    </tr>\n",
       "    <tr>\n",
       "      <th>4</th>\n",
       "      <td>1954400510</td>\n",
       "      <td>2/18/2015</td>\n",
       "      <td>510000.0</td>\n",
       "      <td>3</td>\n",
       "      <td>2.00</td>\n",
       "      <td>1680</td>\n",
       "      <td>8080</td>\n",
       "      <td>1.0</td>\n",
       "      <td>NO</td>\n",
       "      <td>NONE</td>\n",
       "      <td>...</td>\n",
       "      <td>8 Good</td>\n",
       "      <td>1680</td>\n",
       "      <td>0.0</td>\n",
       "      <td>1987</td>\n",
       "      <td>0.0</td>\n",
       "      <td>98074</td>\n",
       "      <td>47.6168</td>\n",
       "      <td>-122.045</td>\n",
       "      <td>1800</td>\n",
       "      <td>7503</td>\n",
       "    </tr>\n",
       "  </tbody>\n",
       "</table>\n",
       "<p>5 rows × 21 columns</p>\n",
       "</div>"
      ],
      "text/plain": [
       "           id        date     price  bedrooms  bathrooms  sqft_living  \\\n",
       "0  7129300520  10/13/2014  221900.0         3       1.00         1180   \n",
       "1  6414100192   12/9/2014  538000.0         3       2.25         2570   \n",
       "2  5631500400   2/25/2015  180000.0         2       1.00          770   \n",
       "3  2487200875   12/9/2014  604000.0         4       3.00         1960   \n",
       "4  1954400510   2/18/2015  510000.0         3       2.00         1680   \n",
       "\n",
       "   sqft_lot  floors waterfront  view  ...          grade sqft_above  \\\n",
       "0      5650     1.0        NaN  NONE  ...      7 Average       1180   \n",
       "1      7242     2.0         NO  NONE  ...      7 Average       2170   \n",
       "2     10000     1.0         NO  NONE  ...  6 Low Average        770   \n",
       "3      5000     1.0         NO  NONE  ...      7 Average       1050   \n",
       "4      8080     1.0         NO  NONE  ...         8 Good       1680   \n",
       "\n",
       "   sqft_basement yr_built  yr_renovated  zipcode      lat     long  \\\n",
       "0            0.0     1955           0.0    98178  47.5112 -122.257   \n",
       "1          400.0     1951        1991.0    98125  47.7210 -122.319   \n",
       "2            0.0     1933           NaN    98028  47.7379 -122.233   \n",
       "3          910.0     1965           0.0    98136  47.5208 -122.393   \n",
       "4            0.0     1987           0.0    98074  47.6168 -122.045   \n",
       "\n",
       "   sqft_living15  sqft_lot15  \n",
       "0           1340        5650  \n",
       "1           1690        7639  \n",
       "2           2720        8062  \n",
       "3           1360        5000  \n",
       "4           1800        7503  \n",
       "\n",
       "[5 rows x 21 columns]"
      ]
     },
     "execution_count": 1,
     "metadata": {},
     "output_type": "execute_result"
    }
   ],
   "source": [
    "# Importing libraries\n",
    "import pandas as pd\n",
    "import numpy as np\n",
    "import matplotlib.pyplot as plt\n",
    "\n",
    "# Load the dataset\n",
    "data = pd.read_csv('kc_house_data.csv')\n",
    "\n",
    "# Displaying the first few rows of the data frame\n",
    "data.head()"
   ]
  },
  {
   "cell_type": "code",
   "execution_count": 2,
   "id": "3e05387f-225c-4286-9e54-0d27089a4d26",
   "metadata": {},
   "outputs": [
    {
     "name": "stdout",
     "output_type": "stream",
     "text": [
      "<class 'pandas.core.frame.DataFrame'>\n",
      "RangeIndex: 21597 entries, 0 to 21596\n",
      "Data columns (total 21 columns):\n",
      " #   Column         Non-Null Count  Dtype  \n",
      "---  ------         --------------  -----  \n",
      " 0   id             21597 non-null  int64  \n",
      " 1   date           21597 non-null  object \n",
      " 2   price          21597 non-null  float64\n",
      " 3   bedrooms       21597 non-null  int64  \n",
      " 4   bathrooms      21597 non-null  float64\n",
      " 5   sqft_living    21597 non-null  int64  \n",
      " 6   sqft_lot       21597 non-null  int64  \n",
      " 7   floors         21597 non-null  float64\n",
      " 8   waterfront     19221 non-null  object \n",
      " 9   view           21534 non-null  object \n",
      " 10  condition      21597 non-null  object \n",
      " 11  grade          21597 non-null  object \n",
      " 12  sqft_above     21597 non-null  int64  \n",
      " 13  sqft_basement  21597 non-null  object \n",
      " 14  yr_built       21597 non-null  int64  \n",
      " 15  yr_renovated   17755 non-null  float64\n",
      " 16  zipcode        21597 non-null  int64  \n",
      " 17  lat            21597 non-null  float64\n",
      " 18  long           21597 non-null  float64\n",
      " 19  sqft_living15  21597 non-null  int64  \n",
      " 20  sqft_lot15     21597 non-null  int64  \n",
      "dtypes: float64(6), int64(9), object(6)\n",
      "memory usage: 3.5+ MB\n",
      "None\n"
     ]
    }
   ],
   "source": [
    "# Getting basic information about the datatype\n",
    "print(data.info())"
   ]
  },
  {
   "cell_type": "code",
   "execution_count": 3,
   "id": "1e06b19e-3cc2-4678-ab7c-a7f20d4533eb",
   "metadata": {},
   "outputs": [
    {
     "data": {
      "text/html": [
       "<div>\n",
       "<style scoped>\n",
       "    .dataframe tbody tr th:only-of-type {\n",
       "        vertical-align: middle;\n",
       "    }\n",
       "\n",
       "    .dataframe tbody tr th {\n",
       "        vertical-align: top;\n",
       "    }\n",
       "\n",
       "    .dataframe thead th {\n",
       "        text-align: right;\n",
       "    }\n",
       "</style>\n",
       "<table border=\"1\" class=\"dataframe\">\n",
       "  <thead>\n",
       "    <tr style=\"text-align: right;\">\n",
       "      <th></th>\n",
       "      <th>id</th>\n",
       "      <th>price</th>\n",
       "      <th>bedrooms</th>\n",
       "      <th>bathrooms</th>\n",
       "      <th>sqft_living</th>\n",
       "      <th>sqft_lot</th>\n",
       "      <th>floors</th>\n",
       "      <th>sqft_above</th>\n",
       "      <th>yr_built</th>\n",
       "      <th>yr_renovated</th>\n",
       "      <th>zipcode</th>\n",
       "      <th>lat</th>\n",
       "      <th>long</th>\n",
       "      <th>sqft_living15</th>\n",
       "      <th>sqft_lot15</th>\n",
       "    </tr>\n",
       "  </thead>\n",
       "  <tbody>\n",
       "    <tr>\n",
       "      <th>count</th>\n",
       "      <td>2.159700e+04</td>\n",
       "      <td>2.159700e+04</td>\n",
       "      <td>21597.000000</td>\n",
       "      <td>21597.000000</td>\n",
       "      <td>21597.000000</td>\n",
       "      <td>2.159700e+04</td>\n",
       "      <td>21597.000000</td>\n",
       "      <td>21597.000000</td>\n",
       "      <td>21597.000000</td>\n",
       "      <td>17755.000000</td>\n",
       "      <td>21597.000000</td>\n",
       "      <td>21597.000000</td>\n",
       "      <td>21597.000000</td>\n",
       "      <td>21597.000000</td>\n",
       "      <td>21597.000000</td>\n",
       "    </tr>\n",
       "    <tr>\n",
       "      <th>mean</th>\n",
       "      <td>4.580474e+09</td>\n",
       "      <td>5.402966e+05</td>\n",
       "      <td>3.373200</td>\n",
       "      <td>2.115826</td>\n",
       "      <td>2080.321850</td>\n",
       "      <td>1.509941e+04</td>\n",
       "      <td>1.494096</td>\n",
       "      <td>1788.596842</td>\n",
       "      <td>1970.999676</td>\n",
       "      <td>83.636778</td>\n",
       "      <td>98077.951845</td>\n",
       "      <td>47.560093</td>\n",
       "      <td>-122.213982</td>\n",
       "      <td>1986.620318</td>\n",
       "      <td>12758.283512</td>\n",
       "    </tr>\n",
       "    <tr>\n",
       "      <th>std</th>\n",
       "      <td>2.876736e+09</td>\n",
       "      <td>3.673681e+05</td>\n",
       "      <td>0.926299</td>\n",
       "      <td>0.768984</td>\n",
       "      <td>918.106125</td>\n",
       "      <td>4.141264e+04</td>\n",
       "      <td>0.539683</td>\n",
       "      <td>827.759761</td>\n",
       "      <td>29.375234</td>\n",
       "      <td>399.946414</td>\n",
       "      <td>53.513072</td>\n",
       "      <td>0.138552</td>\n",
       "      <td>0.140724</td>\n",
       "      <td>685.230472</td>\n",
       "      <td>27274.441950</td>\n",
       "    </tr>\n",
       "    <tr>\n",
       "      <th>min</th>\n",
       "      <td>1.000102e+06</td>\n",
       "      <td>7.800000e+04</td>\n",
       "      <td>1.000000</td>\n",
       "      <td>0.500000</td>\n",
       "      <td>370.000000</td>\n",
       "      <td>5.200000e+02</td>\n",
       "      <td>1.000000</td>\n",
       "      <td>370.000000</td>\n",
       "      <td>1900.000000</td>\n",
       "      <td>0.000000</td>\n",
       "      <td>98001.000000</td>\n",
       "      <td>47.155900</td>\n",
       "      <td>-122.519000</td>\n",
       "      <td>399.000000</td>\n",
       "      <td>651.000000</td>\n",
       "    </tr>\n",
       "    <tr>\n",
       "      <th>25%</th>\n",
       "      <td>2.123049e+09</td>\n",
       "      <td>3.220000e+05</td>\n",
       "      <td>3.000000</td>\n",
       "      <td>1.750000</td>\n",
       "      <td>1430.000000</td>\n",
       "      <td>5.040000e+03</td>\n",
       "      <td>1.000000</td>\n",
       "      <td>1190.000000</td>\n",
       "      <td>1951.000000</td>\n",
       "      <td>0.000000</td>\n",
       "      <td>98033.000000</td>\n",
       "      <td>47.471100</td>\n",
       "      <td>-122.328000</td>\n",
       "      <td>1490.000000</td>\n",
       "      <td>5100.000000</td>\n",
       "    </tr>\n",
       "    <tr>\n",
       "      <th>50%</th>\n",
       "      <td>3.904930e+09</td>\n",
       "      <td>4.500000e+05</td>\n",
       "      <td>3.000000</td>\n",
       "      <td>2.250000</td>\n",
       "      <td>1910.000000</td>\n",
       "      <td>7.618000e+03</td>\n",
       "      <td>1.500000</td>\n",
       "      <td>1560.000000</td>\n",
       "      <td>1975.000000</td>\n",
       "      <td>0.000000</td>\n",
       "      <td>98065.000000</td>\n",
       "      <td>47.571800</td>\n",
       "      <td>-122.231000</td>\n",
       "      <td>1840.000000</td>\n",
       "      <td>7620.000000</td>\n",
       "    </tr>\n",
       "    <tr>\n",
       "      <th>75%</th>\n",
       "      <td>7.308900e+09</td>\n",
       "      <td>6.450000e+05</td>\n",
       "      <td>4.000000</td>\n",
       "      <td>2.500000</td>\n",
       "      <td>2550.000000</td>\n",
       "      <td>1.068500e+04</td>\n",
       "      <td>2.000000</td>\n",
       "      <td>2210.000000</td>\n",
       "      <td>1997.000000</td>\n",
       "      <td>0.000000</td>\n",
       "      <td>98118.000000</td>\n",
       "      <td>47.678000</td>\n",
       "      <td>-122.125000</td>\n",
       "      <td>2360.000000</td>\n",
       "      <td>10083.000000</td>\n",
       "    </tr>\n",
       "    <tr>\n",
       "      <th>max</th>\n",
       "      <td>9.900000e+09</td>\n",
       "      <td>7.700000e+06</td>\n",
       "      <td>33.000000</td>\n",
       "      <td>8.000000</td>\n",
       "      <td>13540.000000</td>\n",
       "      <td>1.651359e+06</td>\n",
       "      <td>3.500000</td>\n",
       "      <td>9410.000000</td>\n",
       "      <td>2015.000000</td>\n",
       "      <td>2015.000000</td>\n",
       "      <td>98199.000000</td>\n",
       "      <td>47.777600</td>\n",
       "      <td>-121.315000</td>\n",
       "      <td>6210.000000</td>\n",
       "      <td>871200.000000</td>\n",
       "    </tr>\n",
       "  </tbody>\n",
       "</table>\n",
       "</div>"
      ],
      "text/plain": [
       "                 id         price      bedrooms     bathrooms   sqft_living  \\\n",
       "count  2.159700e+04  2.159700e+04  21597.000000  21597.000000  21597.000000   \n",
       "mean   4.580474e+09  5.402966e+05      3.373200      2.115826   2080.321850   \n",
       "std    2.876736e+09  3.673681e+05      0.926299      0.768984    918.106125   \n",
       "min    1.000102e+06  7.800000e+04      1.000000      0.500000    370.000000   \n",
       "25%    2.123049e+09  3.220000e+05      3.000000      1.750000   1430.000000   \n",
       "50%    3.904930e+09  4.500000e+05      3.000000      2.250000   1910.000000   \n",
       "75%    7.308900e+09  6.450000e+05      4.000000      2.500000   2550.000000   \n",
       "max    9.900000e+09  7.700000e+06     33.000000      8.000000  13540.000000   \n",
       "\n",
       "           sqft_lot        floors    sqft_above      yr_built  yr_renovated  \\\n",
       "count  2.159700e+04  21597.000000  21597.000000  21597.000000  17755.000000   \n",
       "mean   1.509941e+04      1.494096   1788.596842   1970.999676     83.636778   \n",
       "std    4.141264e+04      0.539683    827.759761     29.375234    399.946414   \n",
       "min    5.200000e+02      1.000000    370.000000   1900.000000      0.000000   \n",
       "25%    5.040000e+03      1.000000   1190.000000   1951.000000      0.000000   \n",
       "50%    7.618000e+03      1.500000   1560.000000   1975.000000      0.000000   \n",
       "75%    1.068500e+04      2.000000   2210.000000   1997.000000      0.000000   \n",
       "max    1.651359e+06      3.500000   9410.000000   2015.000000   2015.000000   \n",
       "\n",
       "            zipcode           lat          long  sqft_living15     sqft_lot15  \n",
       "count  21597.000000  21597.000000  21597.000000   21597.000000   21597.000000  \n",
       "mean   98077.951845     47.560093   -122.213982    1986.620318   12758.283512  \n",
       "std       53.513072      0.138552      0.140724     685.230472   27274.441950  \n",
       "min    98001.000000     47.155900   -122.519000     399.000000     651.000000  \n",
       "25%    98033.000000     47.471100   -122.328000    1490.000000    5100.000000  \n",
       "50%    98065.000000     47.571800   -122.231000    1840.000000    7620.000000  \n",
       "75%    98118.000000     47.678000   -122.125000    2360.000000   10083.000000  \n",
       "max    98199.000000     47.777600   -121.315000    6210.000000  871200.000000  "
      ]
     },
     "execution_count": 3,
     "metadata": {},
     "output_type": "execute_result"
    }
   ],
   "source": [
    "# Descriptive statistics of our dataset\n",
    "data.describe()"
   ]
  },
  {
   "cell_type": "code",
   "execution_count": 4,
   "id": "33c74205-6773-4019-a21c-9b3d0815a351",
   "metadata": {},
   "outputs": [
    {
     "name": "stdout",
     "output_type": "stream",
     "text": [
      "id                  0\n",
      "date                0\n",
      "price               0\n",
      "bedrooms            0\n",
      "bathrooms           0\n",
      "sqft_living         0\n",
      "sqft_lot            0\n",
      "floors              0\n",
      "waterfront       2376\n",
      "view               63\n",
      "condition           0\n",
      "grade               0\n",
      "sqft_above          0\n",
      "sqft_basement       0\n",
      "yr_built            0\n",
      "yr_renovated     3842\n",
      "zipcode             0\n",
      "lat                 0\n",
      "long                0\n",
      "sqft_living15       0\n",
      "sqft_lot15          0\n",
      "dtype: int64\n"
     ]
    }
   ],
   "source": [
    "# Check for missing values\n",
    "print(data.isnull().sum())"
   ]
  },
  {
   "cell_type": "code",
   "execution_count": 5,
   "id": "520e5cd8-f12b-4172-93f8-a1a6635be353",
   "metadata": {},
   "outputs": [
    {
     "data": {
      "text/html": [
       "<div>\n",
       "<style scoped>\n",
       "    .dataframe tbody tr th:only-of-type {\n",
       "        vertical-align: middle;\n",
       "    }\n",
       "\n",
       "    .dataframe tbody tr th {\n",
       "        vertical-align: top;\n",
       "    }\n",
       "\n",
       "    .dataframe thead th {\n",
       "        text-align: right;\n",
       "    }\n",
       "</style>\n",
       "<table border=\"1\" class=\"dataframe\">\n",
       "  <thead>\n",
       "    <tr style=\"text-align: right;\">\n",
       "      <th></th>\n",
       "      <th>id</th>\n",
       "      <th>date</th>\n",
       "      <th>price</th>\n",
       "      <th>bedrooms</th>\n",
       "      <th>bathrooms</th>\n",
       "      <th>sqft_living</th>\n",
       "      <th>sqft_lot</th>\n",
       "      <th>floors</th>\n",
       "      <th>waterfront</th>\n",
       "      <th>view</th>\n",
       "      <th>...</th>\n",
       "      <th>grade</th>\n",
       "      <th>sqft_above</th>\n",
       "      <th>sqft_basement</th>\n",
       "      <th>yr_built</th>\n",
       "      <th>yr_renovated</th>\n",
       "      <th>zipcode</th>\n",
       "      <th>lat</th>\n",
       "      <th>long</th>\n",
       "      <th>sqft_living15</th>\n",
       "      <th>sqft_lot15</th>\n",
       "    </tr>\n",
       "  </thead>\n",
       "  <tbody>\n",
       "    <tr>\n",
       "      <th>1833</th>\n",
       "      <td>7015200335</td>\n",
       "      <td>6/19/2014</td>\n",
       "      <td>1530000.0</td>\n",
       "      <td>4</td>\n",
       "      <td>3.25</td>\n",
       "      <td>3620</td>\n",
       "      <td>5131</td>\n",
       "      <td>2.0</td>\n",
       "      <td>NO</td>\n",
       "      <td>GOOD</td>\n",
       "      <td>...</td>\n",
       "      <td>11 Excellent</td>\n",
       "      <td>2350</td>\n",
       "      <td>1270.0</td>\n",
       "      <td>1927</td>\n",
       "      <td>0.0</td>\n",
       "      <td>98119</td>\n",
       "      <td>47.6499</td>\n",
       "      <td>-122.370</td>\n",
       "      <td>2550</td>\n",
       "      <td>5174</td>\n",
       "    </tr>\n",
       "    <tr>\n",
       "      <th>13670</th>\n",
       "      <td>2024089011</td>\n",
       "      <td>8/26/2014</td>\n",
       "      <td>550000.0</td>\n",
       "      <td>5</td>\n",
       "      <td>1.00</td>\n",
       "      <td>2150</td>\n",
       "      <td>262231</td>\n",
       "      <td>1.5</td>\n",
       "      <td>NO</td>\n",
       "      <td>NONE</td>\n",
       "      <td>...</td>\n",
       "      <td>7 Average</td>\n",
       "      <td>2150</td>\n",
       "      <td>0.0</td>\n",
       "      <td>1900</td>\n",
       "      <td>NaN</td>\n",
       "      <td>98065</td>\n",
       "      <td>47.5519</td>\n",
       "      <td>-121.803</td>\n",
       "      <td>1460</td>\n",
       "      <td>46609</td>\n",
       "    </tr>\n",
       "    <tr>\n",
       "      <th>3166</th>\n",
       "      <td>525049085</td>\n",
       "      <td>9/18/2014</td>\n",
       "      <td>575000.0</td>\n",
       "      <td>3</td>\n",
       "      <td>1.75</td>\n",
       "      <td>1720</td>\n",
       "      <td>4050</td>\n",
       "      <td>1.0</td>\n",
       "      <td>NO</td>\n",
       "      <td>NONE</td>\n",
       "      <td>...</td>\n",
       "      <td>7 Average</td>\n",
       "      <td>860</td>\n",
       "      <td>860.0</td>\n",
       "      <td>1906</td>\n",
       "      <td>0.0</td>\n",
       "      <td>98115</td>\n",
       "      <td>47.6782</td>\n",
       "      <td>-122.314</td>\n",
       "      <td>1720</td>\n",
       "      <td>4410</td>\n",
       "    </tr>\n",
       "    <tr>\n",
       "      <th>1837</th>\n",
       "      <td>1313500070</td>\n",
       "      <td>8/20/2014</td>\n",
       "      <td>249000.0</td>\n",
       "      <td>3</td>\n",
       "      <td>1.50</td>\n",
       "      <td>1580</td>\n",
       "      <td>7200</td>\n",
       "      <td>1.0</td>\n",
       "      <td>NO</td>\n",
       "      <td>NONE</td>\n",
       "      <td>...</td>\n",
       "      <td>7 Average</td>\n",
       "      <td>1080</td>\n",
       "      <td>500.0</td>\n",
       "      <td>1976</td>\n",
       "      <td>0.0</td>\n",
       "      <td>98092</td>\n",
       "      <td>47.2761</td>\n",
       "      <td>-122.152</td>\n",
       "      <td>1580</td>\n",
       "      <td>7470</td>\n",
       "    </tr>\n",
       "    <tr>\n",
       "      <th>21483</th>\n",
       "      <td>6891100090</td>\n",
       "      <td>10/14/2014</td>\n",
       "      <td>850000.0</td>\n",
       "      <td>5</td>\n",
       "      <td>3.50</td>\n",
       "      <td>4200</td>\n",
       "      <td>5400</td>\n",
       "      <td>2.0</td>\n",
       "      <td>NaN</td>\n",
       "      <td>NONE</td>\n",
       "      <td>...</td>\n",
       "      <td>9 Better</td>\n",
       "      <td>3140</td>\n",
       "      <td>1060.0</td>\n",
       "      <td>2012</td>\n",
       "      <td>NaN</td>\n",
       "      <td>98052</td>\n",
       "      <td>47.7077</td>\n",
       "      <td>-122.120</td>\n",
       "      <td>3300</td>\n",
       "      <td>5564</td>\n",
       "    </tr>\n",
       "  </tbody>\n",
       "</table>\n",
       "<p>5 rows × 21 columns</p>\n",
       "</div>"
      ],
      "text/plain": [
       "               id        date      price  bedrooms  bathrooms  sqft_living  \\\n",
       "1833   7015200335   6/19/2014  1530000.0         4       3.25         3620   \n",
       "13670  2024089011   8/26/2014   550000.0         5       1.00         2150   \n",
       "3166    525049085   9/18/2014   575000.0         3       1.75         1720   \n",
       "1837   1313500070   8/20/2014   249000.0         3       1.50         1580   \n",
       "21483  6891100090  10/14/2014   850000.0         5       3.50         4200   \n",
       "\n",
       "       sqft_lot  floors waterfront  view  ...         grade sqft_above  \\\n",
       "1833       5131     2.0         NO  GOOD  ...  11 Excellent       2350   \n",
       "13670    262231     1.5         NO  NONE  ...     7 Average       2150   \n",
       "3166       4050     1.0         NO  NONE  ...     7 Average        860   \n",
       "1837       7200     1.0         NO  NONE  ...     7 Average       1080   \n",
       "21483      5400     2.0        NaN  NONE  ...      9 Better       3140   \n",
       "\n",
       "       sqft_basement yr_built  yr_renovated  zipcode      lat     long  \\\n",
       "1833          1270.0     1927           0.0    98119  47.6499 -122.370   \n",
       "13670            0.0     1900           NaN    98065  47.5519 -121.803   \n",
       "3166           860.0     1906           0.0    98115  47.6782 -122.314   \n",
       "1837           500.0     1976           0.0    98092  47.2761 -122.152   \n",
       "21483         1060.0     2012           NaN    98052  47.7077 -122.120   \n",
       "\n",
       "       sqft_living15  sqft_lot15  \n",
       "1833            2550        5174  \n",
       "13670           1460       46609  \n",
       "3166            1720        4410  \n",
       "1837            1580        7470  \n",
       "21483           3300        5564  \n",
       "\n",
       "[5 rows x 21 columns]"
      ]
     },
     "execution_count": 5,
     "metadata": {},
     "output_type": "execute_result"
    }
   ],
   "source": [
    "# Sampling 5 random rows of our dataset\n",
    "data.sample(5)"
   ]
  },
  {
   "cell_type": "code",
   "execution_count": 6,
   "id": "63491d95-1fde-45f9-9358-92bc0b017713",
   "metadata": {},
   "outputs": [
    {
     "data": {
      "text/plain": [
       "id                 int64\n",
       "date              object\n",
       "price            float64\n",
       "bedrooms           int64\n",
       "bathrooms        float64\n",
       "sqft_living        int64\n",
       "sqft_lot           int64\n",
       "floors           float64\n",
       "waterfront        object\n",
       "view              object\n",
       "condition         object\n",
       "grade             object\n",
       "sqft_above         int64\n",
       "sqft_basement     object\n",
       "yr_built           int64\n",
       "yr_renovated     float64\n",
       "zipcode            int64\n",
       "lat              float64\n",
       "long             float64\n",
       "sqft_living15      int64\n",
       "sqft_lot15         int64\n",
       "dtype: object"
      ]
     },
     "execution_count": 6,
     "metadata": {},
     "output_type": "execute_result"
    }
   ],
   "source": [
    "# Getting data types of our dataset\n",
    "data.dtypes"
   ]
  },
  {
   "cell_type": "code",
   "execution_count": 7,
   "id": "8b5eda25-86ae-4dcc-8534-17a9fec87927",
   "metadata": {},
   "outputs": [
    {
     "name": "stdout",
     "output_type": "stream",
     "text": [
      "waterfront\n",
      "NO     19075\n",
      "YES      146\n",
      "Name: count, dtype: int64\n",
      "view\n",
      "NONE         19422\n",
      "AVERAGE        957\n",
      "GOOD           508\n",
      "FAIR           330\n",
      "EXCELLENT      317\n",
      "Name: count, dtype: int64\n",
      "condition\n",
      "Average      14020\n",
      "Good          5677\n",
      "Very Good     1701\n",
      "Fair           170\n",
      "Poor            29\n",
      "Name: count, dtype: int64\n",
      "grade\n",
      "7 Average        8974\n",
      "8 Good           6065\n",
      "9 Better         2615\n",
      "6 Low Average    2038\n",
      "10 Very Good     1134\n",
      "11 Excellent      399\n",
      "5 Fair            242\n",
      "12 Luxury          89\n",
      "4 Low              27\n",
      "13 Mansion         13\n",
      "3 Poor              1\n",
      "Name: count, dtype: int64\n",
      "zipcode\n",
      "98103    602\n",
      "98038    589\n",
      "98115    583\n",
      "98052    574\n",
      "98117    553\n",
      "        ... \n",
      "98102    104\n",
      "98010    100\n",
      "98024     80\n",
      "98148     57\n",
      "98039     50\n",
      "Name: count, Length: 70, dtype: int64\n"
     ]
    }
   ],
   "source": [
    "# Explore unique values and frequency counts for categorical variables\n",
    "categorical_cols = ['waterfront', 'view', 'condition', 'grade', 'zipcode']\n",
    "for col in categorical_cols:\n",
    "    print(data[col].value_counts())"
   ]
  },
  {
   "cell_type": "code",
   "execution_count": 8,
   "id": "b7a109c0-fca6-4b6e-9926-e8ace6c0976d",
   "metadata": {},
   "outputs": [
    {
     "data": {
      "image/png": "[encoded data removed]",
      "text/plain": [
       "<Figure size 1500x1000 with 16 Axes>"
      ]
     },
     "metadata": {},
     "output_type": "display_data"
    }
   ],
   "source": [
    "# Visualising how data using histogram\n",
    "# Histograms for only numerical variables\n",
    "\n",
    "data.hist(bins=20, figsize=(15,10))\n",
    "plt.show()"
   ]
  },
  {
   "cell_type": "markdown",
   "id": "4cd7d2c8-7e31-4a99-8c7a-efa90b1d0705",
   "metadata": {},
   "source": [
    "## A. Data Cleaning"
   ]
  },
  {
   "cell_type": "code",
   "execution_count": 9,
   "id": "fe3cec63-fb2c-40e5-8481-61f8d0b4e8f6",
   "metadata": {},
   "outputs": [
    {
     "data": {
      "text/plain": [
       "sqft_basement\n",
       "0.0       12826\n",
       "?           454\n",
       "600.0       217\n",
       "500.0       209\n",
       "700.0       208\n",
       "          ...  \n",
       "1920.0        1\n",
       "3480.0        1\n",
       "2730.0        1\n",
       "2720.0        1\n",
       "248.0         1\n",
       "Name: count, Length: 304, dtype: int64"
      ]
     },
     "execution_count": 9,
     "metadata": {},
     "output_type": "execute_result"
    }
   ],
   "source": [
    "data['sqft_basement'].value_counts()\n",
    "## 1st we can see there are a lot of zeros\n",
    "## the missing values are 454(indicated as ?)"
   ]
  },
  {
   "cell_type": "code",
   "execution_count": 10,
   "id": "f384ada8-d625-4024-923b-c94973134b45",
   "metadata": {},
   "outputs": [
    {
     "data": {
      "text/plain": [
       "454"
      ]
     },
     "execution_count": 10,
     "metadata": {},
     "output_type": "execute_result"
    }
   ],
   "source": [
    "## lets strip the ? to be an empty space then we impute the blanks\n",
    "data['sqft_basement'] = data['sqft_basement'].replace('?',None).astype(\"float\")\n",
    "data['sqft_basement'].isna().sum()"
   ]
  },
  {
   "cell_type": "code",
   "execution_count": 11,
   "id": "9c55279d-876f-47b2-925d-f63db0c2d075",
   "metadata": {},
   "outputs": [
    {
     "name": "stdout",
     "output_type": "stream",
     "text": [
      "Mean: 291.851723974838\n",
      "Median: 0.0\n",
      "Skewness: 1.574329769495408\n"
     ]
    }
   ],
   "source": [
    "print(\"Mean:\",data['sqft_basement'].mean())\n",
    "print(\"Median:\",data['sqft_basement'].median())\n",
    "\n",
    "## let's check the skewness of this variable so that we know how we will impute\n",
    "print(\"Skewness:\",data['sqft_basement'].skew())\n",
    "## this data is positively skewed/highly skewed/right skewed, the tail is on the right side of the distribution"
   ]
  },
  {
   "cell_type": "code",
   "execution_count": 12,
   "id": "beeb334a-91f4-45c0-80b9-96156153ca77",
   "metadata": {},
   "outputs": [
    {
     "data": {
      "text/plain": [
       "0"
      ]
     },
     "execution_count": 12,
     "metadata": {},
     "output_type": "execute_result"
    }
   ],
   "source": [
    "## imputing the missing value using the median\n",
    "data['sqft_basement'].fillna(data['sqft_basement'].median(), inplace=True)\n",
    "data['sqft_basement'].isna().sum() #now there are no missing values"
   ]
  },
  {
   "cell_type": "markdown",
   "id": "ca0dbdf4-60e8-409f-b730-f9828dd3a237",
   "metadata": {},
   "source": [
    "#### Dropping Columns"
   ]
  },
  {
   "cell_type": "code",
   "execution_count": 13,
   "id": "87dc89ff-993e-4b4e-ac20-b4b62b63af35",
   "metadata": {},
   "outputs": [
    {
     "data": {
      "text/html": [
       "<div>\n",
       "<style scoped>\n",
       "    .dataframe tbody tr th:only-of-type {\n",
       "        vertical-align: middle;\n",
       "    }\n",
       "\n",
       "    .dataframe tbody tr th {\n",
       "        vertical-align: top;\n",
       "    }\n",
       "\n",
       "    .dataframe thead th {\n",
       "        text-align: right;\n",
       "    }\n",
       "</style>\n",
       "<table border=\"1\" class=\"dataframe\">\n",
       "  <thead>\n",
       "    <tr style=\"text-align: right;\">\n",
       "      <th></th>\n",
       "      <th>price</th>\n",
       "      <th>bedrooms</th>\n",
       "      <th>bathrooms</th>\n",
       "      <th>sqft_living</th>\n",
       "      <th>sqft_lot</th>\n",
       "      <th>floors</th>\n",
       "      <th>waterfront</th>\n",
       "      <th>condition</th>\n",
       "      <th>grade</th>\n",
       "      <th>yr_built</th>\n",
       "    </tr>\n",
       "  </thead>\n",
       "  <tbody>\n",
       "    <tr>\n",
       "      <th>0</th>\n",
       "      <td>221900.0</td>\n",
       "      <td>3</td>\n",
       "      <td>1.00</td>\n",
       "      <td>1180</td>\n",
       "      <td>5650</td>\n",
       "      <td>1.0</td>\n",
       "      <td>NaN</td>\n",
       "      <td>Average</td>\n",
       "      <td>7 Average</td>\n",
       "      <td>1955</td>\n",
       "    </tr>\n",
       "    <tr>\n",
       "      <th>1</th>\n",
       "      <td>538000.0</td>\n",
       "      <td>3</td>\n",
       "      <td>2.25</td>\n",
       "      <td>2570</td>\n",
       "      <td>7242</td>\n",
       "      <td>2.0</td>\n",
       "      <td>NO</td>\n",
       "      <td>Average</td>\n",
       "      <td>7 Average</td>\n",
       "      <td>1951</td>\n",
       "    </tr>\n",
       "  </tbody>\n",
       "</table>\n",
       "</div>"
      ],
      "text/plain": [
       "      price  bedrooms  bathrooms  sqft_living  sqft_lot  floors waterfront  \\\n",
       "0  221900.0         3       1.00         1180      5650     1.0        NaN   \n",
       "1  538000.0         3       2.25         2570      7242     2.0         NO   \n",
       "\n",
       "  condition      grade  yr_built  \n",
       "0   Average  7 Average      1955  \n",
       "1   Average  7 Average      1951  "
      ]
     },
     "execution_count": 13,
     "metadata": {},
     "output_type": "execute_result"
    }
   ],
   "source": [
    "## We have decided to drop these columns\n",
    "\n",
    "dropped_columns = ['date', 'view', 'sqft_above', 'sqft_basement', 'yr_renovated', 'sqft_living15', 'sqft_lot15', 'long', 'lat', 'id', 'zipcode']\n",
    "data1 = data.drop(columns = dropped_columns)\n",
    "data1.head(2)"
   ]
  },
  {
   "cell_type": "markdown",
   "id": "802da8f8-ad2a-465a-943d-480b76703698",
   "metadata": {},
   "source": [
    "#### Missing Data"
   ]
  },
  {
   "cell_type": "markdown",
   "id": "43cc3fbe-a32e-4f72-a008-0063300635d3",
   "metadata": {},
   "source": [
    "Column `waterfront` has missing values, we will fill the missing values with `NA` as they are empty spaces.  We don't want to manipulate the analysis by increasing the number of `YES's/ NO's`"
   ]
  },
  {
   "cell_type": "code",
   "execution_count": 14,
   "id": "06db1238-c2a9-4f25-9113-198cfc48e455",
   "metadata": {},
   "outputs": [
    {
     "name": "stdout",
     "output_type": "stream",
     "text": [
      "Missing values: 2376\n",
      "Table BEFORE dealing with missing values\n"
     ]
    },
    {
     "data": {
      "text/plain": [
       "waterfront\n",
       "NO     19075\n",
       "YES      146\n",
       "Name: count, dtype: int64"
      ]
     },
     "execution_count": 14,
     "metadata": {},
     "output_type": "execute_result"
    }
   ],
   "source": [
    "print(\"Missing values:\", data1['waterfront'].isna().sum())\n",
    "print(\"Table BEFORE dealing with missing values\")\n",
    "data1['waterfront'].value_counts()"
   ]
  },
  {
   "cell_type": "code",
   "execution_count": 15,
   "id": "2ad3c6e3-7b76-439f-8b99-ba9fbd7849c8",
   "metadata": {},
   "outputs": [
    {
     "name": "stdout",
     "output_type": "stream",
     "text": [
      "Missing values: 0\n",
      "Table AFTER dealing with missing values\n"
     ]
    },
    {
     "data": {
      "text/plain": [
       "waterfront\n",
       "NO     19075\n",
       "NA      2376\n",
       "YES      146\n",
       "Name: count, dtype: int64"
      ]
     },
     "execution_count": 15,
     "metadata": {},
     "output_type": "execute_result"
    }
   ],
   "source": [
    "data1['waterfront'].fillna(\"NA\",inplace=True)\n",
    "print(\"Missing values:\", data1['waterfront'].isna().sum())\n",
    "print(\"Table AFTER dealing with missing values\")\n",
    "data1['waterfront'].value_counts()"
   ]
  },
  {
   "cell_type": "markdown",
   "id": "8b5bda41-3264-434a-b259-53ffc2d8d381",
   "metadata": {},
   "source": [
    "#### Encoding Data"
   ]
  },
  {
   "cell_type": "code",
   "execution_count": 16,
   "id": "67aeba5e-1a78-43f7-99a1-fd7009020b18",
   "metadata": {},
   "outputs": [
    {
     "data": {
      "text/plain": [
       "price          float64\n",
       "bedrooms         int64\n",
       "bathrooms      float64\n",
       "sqft_living      int64\n",
       "sqft_lot         int64\n",
       "floors         float64\n",
       "waterfront      object\n",
       "condition       object\n",
       "grade           object\n",
       "yr_built         int64\n",
       "dtype: object"
      ]
     },
     "execution_count": 16,
     "metadata": {},
     "output_type": "execute_result"
    }
   ],
   "source": [
    "# Checking the data types of our columns\n",
    "data1.dtypes"
   ]
  },
  {
   "cell_type": "markdown",
   "id": "e7a00383-6177-4663-8c64-edb35db7eb75",
   "metadata": {},
   "source": [
    "They are 3 i.e., `waterfront`, `condition` and `grade`<br>\n",
    "Based on our business problem which is ***Advice to homeowners by a real estate agency on how `home renovations` might increase the estimated `values of their homes` and by what amount using multiple linear regression***, we are going to choose `condition` variable, encode it and use it in our model.<br>\n",
    "The reason is because if we improve the condition of the house e.g from average to good, then the value of the home might increase.<br>\n",
    "Following the above decision, we will drop the other two categorical variables i.e., waterfront and grade"
   ]
  },
  {
   "cell_type": "markdown",
   "id": "b33eb5d0-20d4-4bfd-bf41-b0d922ee20ec",
   "metadata": {},
   "source": [
    "We are going to use ordinal encoding to transform our selected categorical variable to numeric variable. Why we have selected ordinal encoding is because the choices observe some sequence/hierachy"
   ]
  },
  {
   "cell_type": "code",
   "execution_count": 17,
   "id": "89394b33-8e46-42ef-a457-15fe221619c8",
   "metadata": {},
   "outputs": [
    {
     "data": {
      "text/plain": [
       "condition\n",
       "Average      14020\n",
       "Good          5677\n",
       "Very Good     1701\n",
       "Fair           170\n",
       "Poor            29\n",
       "Name: count, dtype: int64"
      ]
     },
     "execution_count": 17,
     "metadata": {},
     "output_type": "execute_result"
    }
   ],
   "source": [
    "# Summary and count of the condition column values\n",
    "data1['condition'].value_counts()"
   ]
  },
  {
   "cell_type": "code",
   "execution_count": 18,
   "id": "a2ab9bfd-297e-4668-87f4-3e19143be4ec",
   "metadata": {},
   "outputs": [
    {
     "data": {
      "text/html": [
       "<div>\n",
       "<style scoped>\n",
       "    .dataframe tbody tr th:only-of-type {\n",
       "        vertical-align: middle;\n",
       "    }\n",
       "\n",
       "    .dataframe tbody tr th {\n",
       "        vertical-align: top;\n",
       "    }\n",
       "\n",
       "    .dataframe thead th {\n",
       "        text-align: right;\n",
       "    }\n",
       "</style>\n",
       "<table border=\"1\" class=\"dataframe\">\n",
       "  <thead>\n",
       "    <tr style=\"text-align: right;\">\n",
       "      <th></th>\n",
       "      <th>price</th>\n",
       "      <th>bedrooms</th>\n",
       "      <th>bathrooms</th>\n",
       "      <th>sqft_living</th>\n",
       "      <th>sqft_lot</th>\n",
       "      <th>floors</th>\n",
       "      <th>waterfront</th>\n",
       "      <th>condition</th>\n",
       "      <th>grade</th>\n",
       "      <th>yr_built</th>\n",
       "      <th>condition_coded</th>\n",
       "    </tr>\n",
       "  </thead>\n",
       "  <tbody>\n",
       "    <tr>\n",
       "      <th>0</th>\n",
       "      <td>221900.0</td>\n",
       "      <td>3</td>\n",
       "      <td>1.00</td>\n",
       "      <td>1180</td>\n",
       "      <td>5650</td>\n",
       "      <td>1.0</td>\n",
       "      <td>NA</td>\n",
       "      <td>Average</td>\n",
       "      <td>7 Average</td>\n",
       "      <td>1955</td>\n",
       "      <td>3</td>\n",
       "    </tr>\n",
       "    <tr>\n",
       "      <th>1</th>\n",
       "      <td>538000.0</td>\n",
       "      <td>3</td>\n",
       "      <td>2.25</td>\n",
       "      <td>2570</td>\n",
       "      <td>7242</td>\n",
       "      <td>2.0</td>\n",
       "      <td>NO</td>\n",
       "      <td>Average</td>\n",
       "      <td>7 Average</td>\n",
       "      <td>1951</td>\n",
       "      <td>3</td>\n",
       "    </tr>\n",
       "  </tbody>\n",
       "</table>\n",
       "</div>"
      ],
      "text/plain": [
       "      price  bedrooms  bathrooms  sqft_living  sqft_lot  floors waterfront  \\\n",
       "0  221900.0         3       1.00         1180      5650     1.0         NA   \n",
       "1  538000.0         3       2.25         2570      7242     2.0         NO   \n",
       "\n",
       "  condition      grade  yr_built  condition_coded  \n",
       "0   Average  7 Average      1955                3  \n",
       "1   Average  7 Average      1951                3  "
      ]
     },
     "execution_count": 18,
     "metadata": {},
     "output_type": "execute_result"
    }
   ],
   "source": [
    "## Create the codes\n",
    "condition_codes = {'Poor':1, 'Fair':2, 'Average':3, 'Good':4, 'Very Good':5}\n",
    "\n",
    "## Inputting our codes back into our data frame\n",
    "data1['condition_coded'] = data1['condition'].replace(condition_codes)\n",
    "data1.head(2)"
   ]
  },
  {
   "cell_type": "code",
   "execution_count": 19,
   "id": "a5722552-5041-43e0-a5b6-b0b25a8b354b",
   "metadata": {},
   "outputs": [
    {
     "data": {
      "text/html": [
       "<div>\n",
       "<style scoped>\n",
       "    .dataframe tbody tr th:only-of-type {\n",
       "        vertical-align: middle;\n",
       "    }\n",
       "\n",
       "    .dataframe tbody tr th {\n",
       "        vertical-align: top;\n",
       "    }\n",
       "\n",
       "    .dataframe thead th {\n",
       "        text-align: right;\n",
       "    }\n",
       "</style>\n",
       "<table border=\"1\" class=\"dataframe\">\n",
       "  <thead>\n",
       "    <tr style=\"text-align: right;\">\n",
       "      <th></th>\n",
       "      <th>price</th>\n",
       "      <th>bedrooms</th>\n",
       "      <th>bathrooms</th>\n",
       "      <th>sqft_living</th>\n",
       "      <th>sqft_lot</th>\n",
       "      <th>floors</th>\n",
       "      <th>yr_built</th>\n",
       "      <th>condition_coded</th>\n",
       "    </tr>\n",
       "  </thead>\n",
       "  <tbody>\n",
       "    <tr>\n",
       "      <th>0</th>\n",
       "      <td>221900.0</td>\n",
       "      <td>3</td>\n",
       "      <td>1.00</td>\n",
       "      <td>1180</td>\n",
       "      <td>5650</td>\n",
       "      <td>1.0</td>\n",
       "      <td>1955</td>\n",
       "      <td>3</td>\n",
       "    </tr>\n",
       "    <tr>\n",
       "      <th>1</th>\n",
       "      <td>538000.0</td>\n",
       "      <td>3</td>\n",
       "      <td>2.25</td>\n",
       "      <td>2570</td>\n",
       "      <td>7242</td>\n",
       "      <td>2.0</td>\n",
       "      <td>1951</td>\n",
       "      <td>3</td>\n",
       "    </tr>\n",
       "  </tbody>\n",
       "</table>\n",
       "</div>"
      ],
      "text/plain": [
       "      price  bedrooms  bathrooms  sqft_living  sqft_lot  floors  yr_built  \\\n",
       "0  221900.0         3       1.00         1180      5650     1.0      1955   \n",
       "1  538000.0         3       2.25         2570      7242     2.0      1951   \n",
       "\n",
       "   condition_coded  \n",
       "0                3  \n",
       "1                3  "
      ]
     },
     "execution_count": 19,
     "metadata": {},
     "output_type": "execute_result"
    }
   ],
   "source": [
    "# Dropping more columns that contain objects\n",
    "\n",
    "drop_columns = ['waterfront', 'condition', 'grade']\n",
    "data2 = data1.drop(columns = drop_columns)\n",
    "data2.head(2)"
   ]
  },
  {
   "cell_type": "markdown",
   "id": "fc14770b-fed8-430b-a3f1-102050cf402e",
   "metadata": {},
   "source": [
    "#### Correlation "
   ]
  },
  {
   "cell_type": "code",
   "execution_count": 20,
   "id": "68f424b5-3357-48ed-8bea-920e2e20dac8",
   "metadata": {},
   "outputs": [
    {
     "data": {
      "text/plain": [
       "price              1.000000\n",
       "sqft_living        0.701917\n",
       "bathrooms          0.525906\n",
       "bedrooms           0.308787\n",
       "floors             0.256804\n",
       "sqft_lot           0.089876\n",
       "yr_built           0.053953\n",
       "condition_coded    0.036056\n",
       "Name: price, dtype: float64"
      ]
     },
     "execution_count": 20,
     "metadata": {},
     "output_type": "execute_result"
    }
   ],
   "source": [
    "## Correlation of our selected variables to the price\n",
    "data2.corr()['price'].sort_values(ascending = False)"
   ]
  },
  {
   "cell_type": "markdown",
   "id": "81870229-644c-4da5-a7bd-bdbc7a55219a",
   "metadata": {},
   "source": [
    "From the correlation results above we can already start to see that variables like sqft_living, bathrooms, bedrooms and floors will produce a better model as compared to their other counterparts.<br>\n",
    "Our newly coded condition variable is the least on the correlation table, implying it will not be very significant to our model when compared to the rest."
   ]
  },
  {
   "cell_type": "code",
   "execution_count": 21,
   "id": "aa220750-78dd-457c-8594-d5b71e6bd777",
   "metadata": {},
   "outputs": [
    {
     "name": "stdout",
     "output_type": "stream",
     "text": [
      "<class 'pandas.core.frame.DataFrame'>\n",
      "RangeIndex: 21597 entries, 0 to 21596\n",
      "Data columns (total 8 columns):\n",
      " #   Column           Non-Null Count  Dtype  \n",
      "---  ------           --------------  -----  \n",
      " 0   price            21597 non-null  float64\n",
      " 1   bedrooms         21597 non-null  int64  \n",
      " 2   bathrooms        21597 non-null  float64\n",
      " 3   sqft_living      21597 non-null  int64  \n",
      " 4   sqft_lot         21597 non-null  int64  \n",
      " 5   floors           21597 non-null  float64\n",
      " 6   yr_built         21597 non-null  int64  \n",
      " 7   condition_coded  21597 non-null  int64  \n",
      "dtypes: float64(3), int64(5)\n",
      "memory usage: 1.3 MB\n"
     ]
    }
   ],
   "source": [
    "data2.info()"
   ]
  },
  {
   "cell_type": "code",
   "execution_count": 22,
   "id": "43aac8c7-fcee-47ff-9c1e-5255a5aef0c9",
   "metadata": {},
   "outputs": [
    {
     "data": {
      "text/plain": [
       "price              0\n",
       "bedrooms           0\n",
       "bathrooms          0\n",
       "sqft_living        0\n",
       "sqft_lot           0\n",
       "floors             0\n",
       "yr_built           0\n",
       "condition_coded    0\n",
       "dtype: int64"
      ]
     },
     "execution_count": 22,
     "metadata": {},
     "output_type": "execute_result"
    }
   ],
   "source": [
    "data2.isna().sum()\n",
    "##by now we dont have any missing value"
   ]
  },
  {
   "cell_type": "code",
   "execution_count": 23,
   "id": "21f6daed-e0a2-4771-974b-fac8669be9e3",
   "metadata": {},
   "outputs": [
    {
     "data": {
      "text/html": [
       "<div>\n",
       "<style scoped>\n",
       "    .dataframe tbody tr th:only-of-type {\n",
       "        vertical-align: middle;\n",
       "    }\n",
       "\n",
       "    .dataframe tbody tr th {\n",
       "        vertical-align: top;\n",
       "    }\n",
       "\n",
       "    .dataframe thead th {\n",
       "        text-align: right;\n",
       "    }\n",
       "</style>\n",
       "<table border=\"1\" class=\"dataframe\">\n",
       "  <thead>\n",
       "    <tr style=\"text-align: right;\">\n",
       "      <th></th>\n",
       "      <th>price</th>\n",
       "      <th>bedrooms</th>\n",
       "      <th>bathrooms</th>\n",
       "      <th>sqft_living</th>\n",
       "      <th>sqft_lot</th>\n",
       "      <th>floors</th>\n",
       "      <th>yr_built</th>\n",
       "      <th>condition_coded</th>\n",
       "    </tr>\n",
       "  </thead>\n",
       "  <tbody>\n",
       "    <tr>\n",
       "      <th>0</th>\n",
       "      <td>221900.0</td>\n",
       "      <td>3</td>\n",
       "      <td>1.00</td>\n",
       "      <td>1180</td>\n",
       "      <td>5650</td>\n",
       "      <td>1.0</td>\n",
       "      <td>1955</td>\n",
       "      <td>3</td>\n",
       "    </tr>\n",
       "    <tr>\n",
       "      <th>1</th>\n",
       "      <td>538000.0</td>\n",
       "      <td>3</td>\n",
       "      <td>2.25</td>\n",
       "      <td>2570</td>\n",
       "      <td>7242</td>\n",
       "      <td>2.0</td>\n",
       "      <td>1951</td>\n",
       "      <td>3</td>\n",
       "    </tr>\n",
       "    <tr>\n",
       "      <th>2</th>\n",
       "      <td>180000.0</td>\n",
       "      <td>2</td>\n",
       "      <td>1.00</td>\n",
       "      <td>770</td>\n",
       "      <td>10000</td>\n",
       "      <td>1.0</td>\n",
       "      <td>1933</td>\n",
       "      <td>3</td>\n",
       "    </tr>\n",
       "    <tr>\n",
       "      <th>3</th>\n",
       "      <td>604000.0</td>\n",
       "      <td>4</td>\n",
       "      <td>3.00</td>\n",
       "      <td>1960</td>\n",
       "      <td>5000</td>\n",
       "      <td>1.0</td>\n",
       "      <td>1965</td>\n",
       "      <td>5</td>\n",
       "    </tr>\n",
       "    <tr>\n",
       "      <th>4</th>\n",
       "      <td>510000.0</td>\n",
       "      <td>3</td>\n",
       "      <td>2.00</td>\n",
       "      <td>1680</td>\n",
       "      <td>8080</td>\n",
       "      <td>1.0</td>\n",
       "      <td>1987</td>\n",
       "      <td>3</td>\n",
       "    </tr>\n",
       "  </tbody>\n",
       "</table>\n",
       "</div>"
      ],
      "text/plain": [
       "      price  bedrooms  bathrooms  sqft_living  sqft_lot  floors  yr_built  \\\n",
       "0  221900.0         3       1.00         1180      5650     1.0      1955   \n",
       "1  538000.0         3       2.25         2570      7242     2.0      1951   \n",
       "2  180000.0         2       1.00          770     10000     1.0      1933   \n",
       "3  604000.0         4       3.00         1960      5000     1.0      1965   \n",
       "4  510000.0         3       2.00         1680      8080     1.0      1987   \n",
       "\n",
       "   condition_coded  \n",
       "0                3  \n",
       "1                3  \n",
       "2                3  \n",
       "3                5  \n",
       "4                3  "
      ]
     },
     "execution_count": 23,
     "metadata": {},
     "output_type": "execute_result"
    }
   ],
   "source": [
    "## The final data to proceed to the modelling step\n",
    "df = data2.copy(deep=True)\n",
    "df.head()"
   ]
  },
  {
   "cell_type": "markdown",
   "id": "db3fd0c8-2743-4982-a762-d679b22ce3df",
   "metadata": {},
   "source": [
    "# 3. Modelling"
   ]
  },
  {
   "cell_type": "markdown",
   "id": "cfdc1707-165a-4278-be45-9e99cb60aa43",
   "metadata": {},
   "source": [
    "### A. Data Splitting\n",
    "\n",
    "* Variable X contains all the independent features except the 'price' column.\n",
    "* y contains the 'price' column, the target variable.\n",
    "* We will use 20% of the data for testing and 80% for training."
   ]
  },
  {
   "cell_type": "code",
   "execution_count": 24,
   "id": "cebf1455-7381-48e2-af84-8e83e855e749",
   "metadata": {},
   "outputs": [],
   "source": [
    "from sklearn.model_selection import train_test_split\n",
    "\n",
    "# Getting out independent features. We will exclude the price\n",
    "X = df.drop('price', axis=1)  \n",
    "\n",
    "# Dependent variable price which is our target\n",
    "y = df['price']\n",
    "\n",
    "# Split the data into training and testing sets\n",
    "# We will use 20% of the data for testing and 80% for training.\n",
    "\n",
    "X_train, X_test, y_train, y_test = train_test_split(X, y, test_size=0.2, random_state=40)"
   ]
  },
  {
   "cell_type": "markdown",
   "id": "b9837830-39c5-40c7-8b2f-f453972737dc",
   "metadata": {},
   "source": [
    "### B. Simple Linear Regression for each Independent Variable"
   ]
  },
  {
   "cell_type": "code",
   "execution_count": 25,
   "id": "4174f767-1aef-48df-845f-ff5fcea88d54",
   "metadata": {},
   "outputs": [],
   "source": [
    "# We are going to create a function for plotting a simple linear regression model\n",
    "# This will make the plotting of linear regression models for all our features efficient\n",
    "\n",
    "# Importing necessary libraries\n",
    "import statsmodels.api as sm\n",
    "import seaborn as sns\n",
    "\n",
    "# Creating a function for simple linear regression\n",
    "def simple_linear_regression(X, y):\n",
    "    # Add constant to X\n",
    "    X = sm.add_constant(X)\n",
    "\n",
    "    # Fit OLS regression model\n",
    "    model = sm.OLS(y, X).fit()\n",
    "\n",
    "    # Get the coefficients\n",
    "    intercept = model.params.iloc[0]\n",
    "    slope = model.params.iloc[1]\n",
    "\n",
    "    # Predictions\n",
    "    y_pred = model.predict(X)\n",
    "\n",
    "    # Plotting\n",
    "    # plt.figure(figsize=(6, 4))\n",
    "    # sns.scatterplot(x=X.iloc[:, 1], y=y, alpha=0.5)\n",
    "    # sns.lineplot(x=X.iloc[:, 1], y=y_pred, color='red')\n",
    "\n",
    "    # plt.title(f'{X.columns[1]} vs Price')\n",
    "    # plt.xlabel(X.columns[1])\n",
    "    # plt.ylabel('Price')\n",
    "    # plt.show()\n",
    "\n",
    "    plt.figure(figsize=(8, 6))  #Set figure size\n",
    "    plt.scatter(X.iloc[:, 1], y ,color=\"blue\", label=\"Data points\") #original data points\n",
    "    plt.plot(X.iloc[:, 1], y_pred, color=\"red\", label=\"Line of best fit\") ## notice we've fixed the regression equation here\n",
    "    plt.title(f'{X.columns[1]} vs Price')\n",
    "    plt.xlabel(X.columns[1])\n",
    "    plt.ylabel('Price')\n",
    "    plt.legend()\n",
    "    plt.grid(True)\n",
    "    plt.show()\n",
    "\n",
    "    # Print the summary of the regression results\n",
    "    print(model.summary())\n",
    "    print('')\n",
    "    print(f\"price = {slope}*({X.columns[1]}) + {intercept}, This is in the form y = mx+c\") # Creatiing and printing our function\n",
    "    print(\"f_value:\", model.fvalue)\n",
    "    print(\"p_value:\", model.f_pvalue)\n",
    "    print('')"
   ]
  },
  {
   "cell_type": "markdown",
   "id": "c753ef47-5e08-470d-83fe-66c7aa314326",
   "metadata": {},
   "source": [
    "#### i. sqft_living"
   ]
  },
  {
   "cell_type": "code",
   "execution_count": 26,
   "id": "04138505-09a9-486b-9743-a57804df2344",
   "metadata": {},
   "outputs": [
    {
     "data": {
      "image/png": "[encoded data removed]",
      "text/plain": [
       "<Figure size 800x600 with 1 Axes>"
      ]
     },
     "metadata": {},
     "output_type": "display_data"
    },
    {
     "name": "stdout",
     "output_type": "stream",
     "text": [
      "                            OLS Regression Results                            \n",
      "==============================================================================\n",
      "Dep. Variable:                  price   R-squared:                       0.489\n",
      "Model:                            OLS   Adj. R-squared:                  0.489\n",
      "Method:                 Least Squares   F-statistic:                 1.656e+04\n",
      "Date:                Tue, 09 Apr 2024   Prob (F-statistic):               0.00\n",
      "Time:                        13:12:00   Log-Likelihood:            -2.4012e+05\n",
      "No. Observations:               17277   AIC:                         4.802e+05\n",
      "Df Residuals:                   17275   BIC:                         4.803e+05\n",
      "Df Model:                           1                                         \n",
      "Covariance Type:            nonrobust                                         \n",
      "===============================================================================\n",
      "                  coef    std err          t      P>|t|      [0.025      0.975]\n",
      "-------------------------------------------------------------------------------\n",
      "const       -4.074e+04   4945.683     -8.238      0.000   -5.04e+04   -3.11e+04\n",
      "sqft_living   279.2624      2.170    128.675      0.000     275.008     283.516\n",
      "==============================================================================\n",
      "Omnibus:                    12143.926   Durbin-Watson:                   2.010\n",
      "Prob(Omnibus):                  0.000   Jarque-Bera (JB):           489855.060\n",
      "Skew:                           2.894   Prob(JB):                         0.00\n",
      "Kurtosis:                      28.435   Cond. No.                     5.64e+03\n",
      "==============================================================================\n",
      "\n",
      "Notes:\n",
      "[1] Standard Errors assume that the covariance matrix of the errors is correctly specified.\n",
      "[2] The condition number is large, 5.64e+03. This might indicate that there are\n",
      "strong multicollinearity or other numerical problems.\n",
      "\n",
      "price = 279.262427562963*(sqft_living) + -40744.59249028359, This is in the form y = mx+c\n",
      "f_value: 16557.204671729098\n",
      "p_value: 0.0\n",
      "\n"
     ]
    }
   ],
   "source": [
    "X_sqft_living = X_train[['sqft_living']]\n",
    "y = y_train\n",
    "simple_linear_regression(X_sqft_living, y)"
   ]
  },
  {
   "cell_type": "markdown",
   "id": "cc12d591-7301-4e16-a10c-124086863a83",
   "metadata": {},
   "source": [
    "* The coefficient for sqft_living is approximately 279. For every 1 unit increase in square footage of living space (sqft_living), the house price is estimated to increase by $282.2015, while other variables are constant.\n",
    "* Given a p-value of 0.000, the coefficient for sqft_living is statistically significant. This means that the sqft_living space has a significant impact on the house price.\n",
    "* The R-squared value is 0.489, indicating that ~ 49.2% of the variance in house prices is explained by the sqft_living space. This suggests that the model provides a moderate fit to the data.\n",
    "* The F-statistic is 1.656e+04, with a p-value of 0.000, which means that our regression model is statistically significant."
   ]
  },
  {
   "cell_type": "markdown",
   "id": "f0d13dad-816a-45c4-a9dc-2098b246692b",
   "metadata": {},
   "source": [
    "#### ii. Bedrooms"
   ]
  },
  {
   "cell_type": "code",
   "execution_count": 27,
   "id": "bebde292-e8a4-4451-82e3-05273606c7b9",
   "metadata": {},
   "outputs": [
    {
     "name": "stdout",
     "output_type": "stream",
     "text": [
      "Regression results for bedrooms:\n"
     ]
    },
    {
     "data": {
      "image/png": "[encoded data removed]",
      "text/plain": [
       "<Figure size 800x600 with 1 Axes>"
      ]
     },
     "metadata": {},
     "output_type": "display_data"
    },
    {
     "name": "stdout",
     "output_type": "stream",
     "text": [
      "                            OLS Regression Results                            \n",
      "==============================================================================\n",
      "Dep. Variable:                  price   R-squared:                       0.095\n",
      "Model:                            OLS   Adj. R-squared:                  0.095\n",
      "Method:                 Least Squares   F-statistic:                     1820.\n",
      "Date:                Tue, 09 Apr 2024   Prob (F-statistic):               0.00\n",
      "Time:                        13:12:00   Log-Likelihood:            -2.4506e+05\n",
      "No. Observations:               17277   AIC:                         4.901e+05\n",
      "Df Residuals:                   17275   BIC:                         4.901e+05\n",
      "Df Model:                           1                                         \n",
      "Covariance Type:            nonrobust                                         \n",
      "==============================================================================\n",
      "                 coef    std err          t      P>|t|      [0.025      0.975]\n",
      "------------------------------------------------------------------------------\n",
      "const       1.301e+05      1e+04     13.006      0.000     1.1e+05     1.5e+05\n",
      "bedrooms    1.218e+05   2855.071     42.659      0.000    1.16e+05    1.27e+05\n",
      "==============================================================================\n",
      "Omnibus:                    15325.768   Durbin-Watson:                   2.012\n",
      "Prob(Omnibus):                  0.000   Jarque-Bera (JB):          1091222.015\n",
      "Skew:                           3.965   Prob(JB):                         0.00\n",
      "Kurtosis:                      41.118   Cond. No.                         14.2\n",
      "==============================================================================\n",
      "\n",
      "Notes:\n",
      "[1] Standard Errors assume that the covariance matrix of the errors is correctly specified.\n",
      "\n",
      "price = 121794.12831776463*(bedrooms) + 130065.79490555076, This is in the form y = mx+c\n",
      "f_value: 1819.779672482757\n",
      "p_value: 0.0\n",
      "\n"
     ]
    }
   ],
   "source": [
    "# Call the function for bedrooms\n",
    "X_bedrooms = X_train[['bedrooms']]\n",
    "print(\"Regression results for bedrooms:\")\n",
    "simple_linear_regression(X_bedrooms, y)"
   ]
  },
  {
   "cell_type": "markdown",
   "id": "bb352e0e-394d-4e3d-90b5-8d270c508bef",
   "metadata": {},
   "source": [
    "* The coefficient for bedrooms is around 121,794. Meaning additional bedroom in a house, the price of the house might increase by USD 121,794 if there are no other changes in the house.\n",
    "* The p-value of 0.000 means the coefficient for bedrooms is statistically significant\n",
    "* The R-squared value is 0.095, meaning ~ 9.5% of the variance in house prices is explained by the number of bedrooms.\n",
    "* The F-statistic is 1820.0, with a p-value of 0.000, meaning the regression model is statistically significant."
   ]
  },
  {
   "cell_type": "markdown",
   "id": "74e351b1-cbfd-40d1-938e-9ce5336bcd49",
   "metadata": {},
   "source": [
    "#### iii. Bathrooms"
   ]
  },
  {
   "cell_type": "code",
   "execution_count": 28,
   "id": "49e552fb-0ab9-4a3b-9ebc-a1448e7d578b",
   "metadata": {},
   "outputs": [
    {
     "name": "stdout",
     "output_type": "stream",
     "text": [
      "Regression results for bathrooms:\n"
     ]
    },
    {
     "data": {
      "image/png": "[encoded data removed]",
      "text/plain": [
       "<Figure size 800x600 with 1 Axes>"
      ]
     },
     "metadata": {},
     "output_type": "display_data"
    },
    {
     "name": "stdout",
     "output_type": "stream",
     "text": [
      "                            OLS Regression Results                            \n",
      "==============================================================================\n",
      "Dep. Variable:                  price   R-squared:                       0.276\n",
      "Model:                            OLS   Adj. R-squared:                  0.275\n",
      "Method:                 Least Squares   F-statistic:                     6569.\n",
      "Date:                Tue, 09 Apr 2024   Prob (F-statistic):               0.00\n",
      "Time:                        13:12:01   Log-Likelihood:            -2.4314e+05\n",
      "No. Observations:               17277   AIC:                         4.863e+05\n",
      "Df Residuals:                   17275   BIC:                         4.863e+05\n",
      "Df Model:                           1                                         \n",
      "Covariance Type:            nonrobust                                         \n",
      "==============================================================================\n",
      "                 coef    std err          t      P>|t|      [0.025      0.975]\n",
      "------------------------------------------------------------------------------\n",
      "const       1.141e+04   6958.084      1.640      0.101   -2228.620     2.5e+04\n",
      "bathrooms     2.5e+05   3084.344     81.052      0.000    2.44e+05    2.56e+05\n",
      "==============================================================================\n",
      "Omnibus:                    14070.987   Durbin-Watson:                   2.027\n",
      "Prob(Omnibus):                  0.000   Jarque-Bera (JB):           794843.170\n",
      "Skew:                           3.522   Prob(JB):                         0.00\n",
      "Kurtosis:                      35.473   Cond. No.                         7.76\n",
      "==============================================================================\n",
      "\n",
      "Notes:\n",
      "[1] Standard Errors assume that the covariance matrix of the errors is correctly specified.\n",
      "\n",
      "price = 249991.5449970878*(bathrooms) + 11409.928954557778, This is in the form y = mx+c\n",
      "f_value: 6569.388742409433\n",
      "p_value: 0.0\n",
      "\n"
     ]
    }
   ],
   "source": [
    "# Call the function for bathrooms\n",
    "X_bathrooms = X_train[['bathrooms']]\n",
    "print(\"Regression results for bathrooms:\")\n",
    "simple_linear_regression(X_bathrooms, y)"
   ]
  },
  {
   "cell_type": "markdown",
   "id": "b50736c8-648c-40a7-80b6-a08760f84476",
   "metadata": {},
   "source": [
    "* The coefficient for bathrooms is approximately 250,000. This means that for an additional bathroom in a house, the price of the house will increase by USD 250,000 if no other feature in the house will change.\n",
    "* The coefficient for bathrooms is statistically significant, as indicated by the p-value of 0.000.\n",
    "* This suggests that the number of bathrooms has a significant impact on the house price."
   ]
  },
  {
   "cell_type": "markdown",
   "id": "69ee9866-e6ed-44bf-8e45-bb9e4ba09c5e",
   "metadata": {},
   "source": [
    "#### iv. Sqft Lot"
   ]
  },
  {
   "cell_type": "code",
   "execution_count": 29,
   "id": "92a666a0-d5de-49c6-9d7f-43f4b230fb67",
   "metadata": {},
   "outputs": [
    {
     "name": "stdout",
     "output_type": "stream",
     "text": [
      "Regression results for sqft_lot:\n"
     ]
    },
    {
     "data": {
      "image/png": "[encoded data removed]",
      "text/plain": [
       "<Figure size 800x600 with 1 Axes>"
      ]
     },
     "metadata": {},
     "output_type": "display_data"
    },
    {
     "name": "stdout",
     "output_type": "stream",
     "text": [
      "                            OLS Regression Results                            \n",
      "==============================================================================\n",
      "Dep. Variable:                  price   R-squared:                       0.007\n",
      "Model:                            OLS   Adj. R-squared:                  0.007\n",
      "Method:                 Least Squares   F-statistic:                     119.0\n",
      "Date:                Tue, 09 Apr 2024   Prob (F-statistic):           1.26e-27\n",
      "Time:                        13:12:01   Log-Likelihood:            -2.4587e+05\n",
      "No. Observations:               17277   AIC:                         4.917e+05\n",
      "Df Residuals:                   17275   BIC:                         4.918e+05\n",
      "Df Model:                           1                                         \n",
      "Covariance Type:            nonrobust                                         \n",
      "==============================================================================\n",
      "                 coef    std err          t      P>|t|      [0.025      0.975]\n",
      "------------------------------------------------------------------------------\n",
      "const       5.303e+05   2966.401    178.759      0.000    5.24e+05    5.36e+05\n",
      "sqft_lot       0.7275      0.067     10.911      0.000       0.597       0.858\n",
      "==============================================================================\n",
      "Omnibus:                    15595.690   Durbin-Watson:                   2.006\n",
      "Prob(Omnibus):                  0.000   Jarque-Bera (JB):          1044159.618\n",
      "Skew:                           4.109   Prob(JB):                         0.00\n",
      "Kurtosis:                      40.188   Cond. No.                     4.73e+04\n",
      "==============================================================================\n",
      "\n",
      "Notes:\n",
      "[1] Standard Errors assume that the covariance matrix of the errors is correctly specified.\n",
      "[2] The condition number is large, 4.73e+04. This might indicate that there are\n",
      "strong multicollinearity or other numerical problems.\n",
      "\n",
      "price = 0.7274845493935727*(sqft_lot) + 530271.7004753138, This is in the form y = mx+c\n",
      "f_value: 119.0405586196337\n",
      "p_value: 1.2627869637889872e-27\n",
      "\n"
     ]
    }
   ],
   "source": [
    "# Call the function for sqft_lot\n",
    "X_sqft_lot = X_train[['sqft_lot']]\n",
    "print(\"Regression results for sqft_lot:\")\n",
    "simple_linear_regression(X_sqft_lot, y)"
   ]
  },
  {
   "cell_type": "markdown",
   "id": "770dccf5-b99b-4b18-bcb3-3e52192d28a8",
   "metadata": {},
   "source": [
    "* The coefficient for sqft_lot is approximately 0.727, meaning a one-unit increase in the square footage of the lot, the price of the house will increase by USD 0.8217 if no other feature changes in the house.\n",
    "* Given the p-value of 0.000, This suggests that the square footage of the lot has a significant impact on the house price.\n",
    "* Approximately 0.8% of the variance in house prices is explained by the square footage of the lot (sqft_lot).\n",
    "* The overall regression model is statistically significant."
   ]
  },
  {
   "cell_type": "markdown",
   "id": "ea70d3ab-5217-4e4a-b1d1-25d6f3943d5f",
   "metadata": {},
   "source": [
    "#### v. Floors"
   ]
  },
  {
   "cell_type": "code",
   "execution_count": 30,
   "id": "3f4d84d0-efd2-44c4-9e40-e42ecb10ce99",
   "metadata": {},
   "outputs": [
    {
     "name": "stdout",
     "output_type": "stream",
     "text": [
      "Regression results for floors:\n"
     ]
    },
    {
     "data": {
      "image/png": "[encoded data removed]",
      "text/plain": [
       "<Figure size 800x600 with 1 Axes>"
      ]
     },
     "metadata": {},
     "output_type": "display_data"
    },
    {
     "name": "stdout",
     "output_type": "stream",
     "text": [
      "                            OLS Regression Results                            \n",
      "==============================================================================\n",
      "Dep. Variable:                  price   R-squared:                       0.066\n",
      "Model:                            OLS   Adj. R-squared:                  0.066\n",
      "Method:                 Least Squares   F-statistic:                     1213.\n",
      "Date:                Tue, 09 Apr 2024   Prob (F-statistic):          5.31e-257\n",
      "Time:                        13:12:01   Log-Likelihood:            -2.4534e+05\n",
      "No. Observations:               17277   AIC:                         4.907e+05\n",
      "Df Residuals:                   17275   BIC:                         4.907e+05\n",
      "Df Model:                           1                                         \n",
      "Covariance Type:            nonrobust                                         \n",
      "==============================================================================\n",
      "                 coef    std err          t      P>|t|      [0.025      0.975]\n",
      "------------------------------------------------------------------------------\n",
      "const       2.801e+05   7971.267     35.139      0.000    2.64e+05    2.96e+05\n",
      "floors      1.745e+05   5008.961     34.834      0.000    1.65e+05    1.84e+05\n",
      "==============================================================================\n",
      "Omnibus:                    15790.117   Durbin-Watson:                   2.008\n",
      "Prob(Omnibus):                  0.000   Jarque-Bera (JB):          1148912.256\n",
      "Skew:                           4.163   Prob(JB):                         0.00\n",
      "Kurtosis:                      42.073   Cond. No.                         6.38\n",
      "==============================================================================\n",
      "\n",
      "Notes:\n",
      "[1] Standard Errors assume that the covariance matrix of the errors is correctly specified.\n",
      "\n",
      "price = 174483.3344052792*(floors) + 280103.3012835714, This is in the form y = mx+c\n",
      "f_value: 1213.423949281076\n",
      "p_value: 5.308358683083986e-257\n",
      "\n"
     ]
    }
   ],
   "source": [
    "# Call the function for floors\n",
    "X_floors = X_train[['floors']]\n",
    "print(\"Regression results for floors:\")\n",
    "simple_linear_regression(X_floors, y)"
   ]
  },
  {
   "cell_type": "markdown",
   "id": "49fa65eb-3ada-4f3e-b938-a7b085cd05b2",
   "metadata": {},
   "source": [
    "* The coefficient for floors is approximately 174,483. This means that for every additional floor in a house, the price of the house will increase by USD 174,483 if all features in the house are not changed. \n",
    "* As indicated by the p-value of 0.000, the number of floors has a significant impact on the house price.\n",
    "* Around 6.7% of the variance in house prices is explained by the number of floors (floors)\n",
    "* The overall regression model is statistically significant given the F-statistic"
   ]
  },
  {
   "cell_type": "markdown",
   "id": "00248cdf-2b35-4323-9fdb-00d9446440b5",
   "metadata": {},
   "source": [
    "#### vi. Year Built"
   ]
  },
  {
   "cell_type": "code",
   "execution_count": 31,
   "id": "1c8ce2ab-7b9d-4349-a6d5-d7aab8a819c7",
   "metadata": {},
   "outputs": [
    {
     "name": "stdout",
     "output_type": "stream",
     "text": [
      "Regression results for yr_built:\n"
     ]
    },
    {
     "data": {
      "image/png": "[encoded data removed]",
      "text/plain": [
       "<Figure size 800x600 with 1 Axes>"
      ]
     },
     "metadata": {},
     "output_type": "display_data"
    },
    {
     "name": "stdout",
     "output_type": "stream",
     "text": [
      "                            OLS Regression Results                            \n",
      "==============================================================================\n",
      "Dep. Variable:                  price   R-squared:                       0.002\n",
      "Model:                            OLS   Adj. R-squared:                  0.002\n",
      "Method:                 Least Squares   F-statistic:                     40.19\n",
      "Date:                Tue, 09 Apr 2024   Prob (F-statistic):           2.36e-10\n",
      "Time:                        13:12:02   Log-Likelihood:            -2.4591e+05\n",
      "No. Observations:               17277   AIC:                         4.918e+05\n",
      "Df Residuals:                   17275   BIC:                         4.918e+05\n",
      "Df Model:                           1                                         \n",
      "Covariance Type:            nonrobust                                         \n",
      "==============================================================================\n",
      "                 coef    std err          t      P>|t|      [0.025      0.975]\n",
      "------------------------------------------------------------------------------\n",
      "const      -6.465e+05   1.87e+05     -3.450      0.001   -1.01e+06   -2.79e+05\n",
      "yr_built     602.6068     95.054      6.340      0.000     416.292     788.922\n",
      "==============================================================================\n",
      "Omnibus:                    15607.659   Durbin-Watson:                   2.005\n",
      "Prob(Omnibus):                  0.000   Jarque-Bera (JB):          1044645.468\n",
      "Skew:                           4.115   Prob(JB):                         0.00\n",
      "Kurtosis:                      40.194   Cond. No.                     1.32e+05\n",
      "==============================================================================\n",
      "\n",
      "Notes:\n",
      "[1] Standard Errors assume that the covariance matrix of the errors is correctly specified.\n",
      "[2] The condition number is large, 1.32e+05. This might indicate that there are\n",
      "strong multicollinearity or other numerical problems.\n",
      "\n",
      "price = 602.6068272638458*(yr_built) + -646471.1768189413, This is in the form y = mx+c\n",
      "f_value: 40.19104577848836\n",
      "p_value: 2.3601119184005135e-10\n",
      "\n"
     ]
    }
   ],
   "source": [
    "# Call the function for yr_built\n",
    "X_yr_built = X_train[['yr_built']]\n",
    "print(\"Regression results for yr_built:\")\n",
    "simple_linear_regression(X_yr_built, y)"
   ]
  },
  {
   "cell_type": "markdown",
   "id": "2ca9a325-0d70-41fa-9f5f-e94dd3b831c4",
   "metadata": {},
   "source": [
    "* The coefficient for yr_built is approximately 602.61. For every additional year since the year built, the price of the house is estimated to increase by USD 602.61 if the house is not renovated.\n",
    "* The year the house was built has a significant influence on the house price.\n",
    "* 0.2% of the variance in house prices is explained by the year the house was built\n",
    "* The regression model is statistically significant given the F-statistic"
   ]
  },
  {
   "cell_type": "markdown",
   "id": "6022eee1-6412-4a5f-8555-25b0c19cc3bb",
   "metadata": {},
   "source": [
    "#### vii. Condition Coded"
   ]
  },
  {
   "cell_type": "code",
   "execution_count": 32,
   "id": "95cc1726-8b13-48b9-b9d9-fec73d951ae3",
   "metadata": {},
   "outputs": [
    {
     "name": "stdout",
     "output_type": "stream",
     "text": [
      "Regression results for condition_coded:\n"
     ]
    },
    {
     "data": {
      "image/png": "[encoded data removed]",
      "text/plain": [
       "<Figure size 800x600 with 1 Axes>"
      ]
     },
     "metadata": {},
     "output_type": "display_data"
    },
    {
     "name": "stdout",
     "output_type": "stream",
     "text": [
      "                            OLS Regression Results                            \n",
      "==============================================================================\n",
      "Dep. Variable:                  price   R-squared:                       0.001\n",
      "Model:                            OLS   Adj. R-squared:                  0.001\n",
      "Method:                 Least Squares   F-statistic:                     24.91\n",
      "Date:                Tue, 09 Apr 2024   Prob (F-statistic):           6.08e-07\n",
      "Time:                        13:12:02   Log-Likelihood:            -2.4591e+05\n",
      "No. Observations:               17277   AIC:                         4.918e+05\n",
      "Df Residuals:                   17275   BIC:                         4.918e+05\n",
      "Df Model:                           1                                         \n",
      "Covariance Type:            nonrobust                                         \n",
      "===================================================================================\n",
      "                      coef    std err          t      P>|t|      [0.025      0.975]\n",
      "-----------------------------------------------------------------------------------\n",
      "const            4.681e+05   1.49e+04     31.367      0.000    4.39e+05    4.97e+05\n",
      "condition_coded  2.146e+04   4300.180      4.991      0.000     1.3e+04    2.99e+04\n",
      "==============================================================================\n",
      "Omnibus:                    15577.833   Durbin-Watson:                   2.003\n",
      "Prob(Omnibus):                  0.000   Jarque-Bera (JB):          1036374.512\n",
      "Skew:                           4.104   Prob(JB):                         0.00\n",
      "Kurtosis:                      40.045   Cond. No.                         20.0\n",
      "==============================================================================\n",
      "\n",
      "Notes:\n",
      "[1] Standard Errors assume that the covariance matrix of the errors is correctly specified.\n",
      "\n",
      "price = 21460.518165208247*(condition_coded) + 468134.58549233497, This is in the form y = mx+c\n",
      "f_value: 24.906181000021636\n",
      "p_value: 6.077447064239542e-07\n",
      "\n"
     ]
    }
   ],
   "source": [
    "# Call the function for condition_coded\n",
    "X_condition_coded = X_train[['condition_coded']]\n",
    "print(\"Regression results for condition_coded:\")\n",
    "simple_linear_regression(X_condition_coded, y)"
   ]
  },
  {
   "cell_type": "markdown",
   "id": "55fdb241-3307-4919-8256-56eedf6f922c",
   "metadata": {},
   "source": [
    "* The coefficient for condition_coded is approximately USD 21,460. If the condition improves for example from good to very good, the price of the house might increase  by USD 21,460\n",
    "* This suggests that the condition code of the house has an impact on the house price.\n",
    "* ~ 0.2% of the variance in house prices is explained by the condition code of the house \n",
    "* The regression model is statistically significant."
   ]
  },
  {
   "cell_type": "markdown",
   "id": "506f4eef-dd3a-433e-8f9c-3b735e405189",
   "metadata": {},
   "source": [
    "### C. Multiple Linear Regression\n",
    "\n",
    "##### We use training data to model our multiple linear regression"
   ]
  },
  {
   "cell_type": "code",
   "execution_count": 33,
   "id": "2dd9e6ee-b982-4cd6-bf13-76a6c64b824c",
   "metadata": {},
   "outputs": [
    {
     "name": "stdout",
     "output_type": "stream",
     "text": [
      "                            OLS Regression Results                            \n",
      "==============================================================================\n",
      "Dep. Variable:                  price   R-squared:                       0.556\n",
      "Model:                            OLS   Adj. R-squared:                  0.555\n",
      "Method:                 Least Squares   F-statistic:                     3084.\n",
      "Date:                Tue, 09 Apr 2024   Prob (F-statistic):               0.00\n",
      "Time:                        13:12:02   Log-Likelihood:            -2.3892e+05\n",
      "No. Observations:               17277   AIC:                         4.779e+05\n",
      "Df Residuals:                   17269   BIC:                         4.779e+05\n",
      "Df Model:                           7                                         \n",
      "Covariance Type:            nonrobust                                         \n",
      "===================================================================================\n",
      "                      coef    std err          t      P>|t|      [0.025      0.975]\n",
      "-----------------------------------------------------------------------------------\n",
      "const            6.342e+06   1.62e+05     39.263      0.000    6.03e+06    6.66e+06\n",
      "bedrooms        -6.779e+04   2503.940    -27.072      0.000   -7.27e+04   -6.29e+04\n",
      "bathrooms        6.513e+04   4315.497     15.093      0.000    5.67e+04    7.36e+04\n",
      "sqft_living       302.1749      3.368     89.723      0.000     295.574     308.776\n",
      "sqft_lot           -0.3332      0.046     -7.310      0.000      -0.423      -0.244\n",
      "floors           5.817e+04   4264.216     13.642      0.000    4.98e+04    6.65e+04\n",
      "yr_built        -3290.3978     81.902    -40.175      0.000   -3450.934   -3129.862\n",
      "condition_coded  1.869e+04   3122.388      5.987      0.000    1.26e+04    2.48e+04\n",
      "==============================================================================\n",
      "Omnibus:                    11729.996   Durbin-Watson:                   2.002\n",
      "Prob(Omnibus):                  0.000   Jarque-Bera (JB):           466829.361\n",
      "Skew:                           2.748   Prob(JB):                         0.00\n",
      "Kurtosis:                      27.865   Cond. No.                     3.85e+06\n",
      "==============================================================================\n",
      "\n",
      "Notes:\n",
      "[1] Standard Errors assume that the covariance matrix of the errors is correctly specified.\n",
      "[2] The condition number is large, 3.85e+06. This might indicate that there are\n",
      "strong multicollinearity or other numerical problems.\n"
     ]
    }
   ],
   "source": [
    "import statsmodels.api as sm\n",
    "\n",
    "# Add a constant term to the independent variables (required for OLS regression)\n",
    "X_train_ols = sm.add_constant(X_train)\n",
    "\n",
    "# Create and fit the OLS model\n",
    "ols_model = sm.OLS(y_train, X_train_ols)\n",
    "ols_results = ols_model.fit()\n",
    "\n",
    "# Print the summary of the OLS regression results\n",
    "print(ols_results.summary())"
   ]
  },
  {
   "cell_type": "markdown",
   "id": "d7c27b9d-ab46-4684-8321-4ce8d31256cb",
   "metadata": {},
   "source": [
    "#### Summary of the Multiple Regression Model"
   ]
  },
  {
   "cell_type": "markdown",
   "id": "f86ae21e-0256-43bb-b5be-daa56360ab8c",
   "metadata": {},
   "source": [
    "##### Model Performance\n",
    "* The R-squared value of 0.556 indicates that  ~ 55.6% of the variance in the price is explained by the independent variables included in the model.\n",
    "* A high F-statistic of 3084 and a low Prob(F-statistic)) means that our model is statistically significant."
   ]
  },
  {
   "cell_type": "markdown",
   "id": "a8bc265a-3d97-414b-8227-2e5a083eade4",
   "metadata": {},
   "source": [
    "* Intercept (const): The intercept is the estimated value of the dependent variable when all independent variables are set to zero. In this case, it's approximately USD 6.35 million.\n",
    "##### Coefficients for independent variables:\n",
    "* bedrooms: For each additional bedroom, there is an estimated decrease of approximately USD 67,790 in the price.\n",
    "* bathrooms: For each additional bathroom, there is an estimated increase of approximately USD 65,1300 in the price.\n",
    "* sqft_living: For each additional square foot of living space, there is an estimated increase of approximately USD 302.17 in the price.\n",
    "* sqft_lot: For each additional square foot of lot size, there is an estimated decrease of approximately USD 0.333 in the price.\n",
    "* floors: For each additional floor, there is an estimated increase of approximately USD 58,170 in the price.\n",
    "* yr_built: For each additional year of the house's age, there is an estimated decrease of approximately USD 3,290 in the price.\n",
    "* condition_coded: Improvement of the overall condition of the house from 1 rating to another (e.g. good to very good) will increase the price of the house by approximately USD 19,610\n",
    "\n",
    "##### Summary\n",
    "* The high condition number suggests potential multicollinearity or numerical problems in the model."
   ]
  },
  {
   "cell_type": "markdown",
   "id": "d21336a7-7b86-46f5-83bf-227e453d092b",
   "metadata": {},
   "source": [
    "### D. Multicollinearity"
   ]
  },
  {
   "cell_type": "markdown",
   "id": "800447e9-b6fe-49db-96ed-4785c2290185",
   "metadata": {},
   "source": [
    "#### i. Exploring Data for Multicollinearity"
   ]
  },
  {
   "cell_type": "code",
   "execution_count": 34,
   "id": "2f476408-8c08-46e7-9977-f0b92629093c",
   "metadata": {},
   "outputs": [
    {
     "data": {
      "text/html": [
       "<div>\n",
       "<style scoped>\n",
       "    .dataframe tbody tr th:only-of-type {\n",
       "        vertical-align: middle;\n",
       "    }\n",
       "\n",
       "    .dataframe tbody tr th {\n",
       "        vertical-align: top;\n",
       "    }\n",
       "\n",
       "    .dataframe thead th {\n",
       "        text-align: right;\n",
       "    }\n",
       "</style>\n",
       "<table border=\"1\" class=\"dataframe\">\n",
       "  <thead>\n",
       "    <tr style=\"text-align: right;\">\n",
       "      <th></th>\n",
       "      <th>bedrooms</th>\n",
       "      <th>bathrooms</th>\n",
       "      <th>sqft_living</th>\n",
       "      <th>sqft_lot</th>\n",
       "      <th>floors</th>\n",
       "      <th>yr_built</th>\n",
       "      <th>condition_coded</th>\n",
       "    </tr>\n",
       "  </thead>\n",
       "  <tbody>\n",
       "    <tr>\n",
       "      <th>2093</th>\n",
       "      <td>4</td>\n",
       "      <td>2.0</td>\n",
       "      <td>2130</td>\n",
       "      <td>2800</td>\n",
       "      <td>1.0</td>\n",
       "      <td>1922</td>\n",
       "      <td>5</td>\n",
       "    </tr>\n",
       "    <tr>\n",
       "      <th>9738</th>\n",
       "      <td>3</td>\n",
       "      <td>1.0</td>\n",
       "      <td>1160</td>\n",
       "      <td>3700</td>\n",
       "      <td>1.5</td>\n",
       "      <td>1909</td>\n",
       "      <td>3</td>\n",
       "    </tr>\n",
       "  </tbody>\n",
       "</table>\n",
       "</div>"
      ],
      "text/plain": [
       "      bedrooms  bathrooms  sqft_living  sqft_lot  floors  yr_built  \\\n",
       "2093         4        2.0         2130      2800     1.0      1922   \n",
       "9738         3        1.0         1160      3700     1.5      1909   \n",
       "\n",
       "      condition_coded  \n",
       "2093                5  \n",
       "9738                3  "
      ]
     },
     "execution_count": 34,
     "metadata": {},
     "output_type": "execute_result"
    }
   ],
   "source": [
    "# Previwing our data - independent variables\n",
    "X_train.head(2)"
   ]
  },
  {
   "cell_type": "code",
   "execution_count": 35,
   "id": "e1085e1b-6724-4a4c-ad92-50044f8eb297",
   "metadata": {},
   "outputs": [
    {
     "data": {
      "text/plain": [
       "2093    800000.0\n",
       "9738    315000.0\n",
       "Name: price, dtype: float64"
      ]
     },
     "execution_count": 35,
     "metadata": {},
     "output_type": "execute_result"
    }
   ],
   "source": [
    "# Training data preview - target variable\n",
    "y_train.head(2)"
   ]
  },
  {
   "cell_type": "code",
   "execution_count": 36,
   "id": "2a48aa31-c345-4c5e-b04c-2bd4f30bae11",
   "metadata": {},
   "outputs": [
    {
     "data": {
      "text/html": [
       "<div>\n",
       "<style scoped>\n",
       "    .dataframe tbody tr th:only-of-type {\n",
       "        vertical-align: middle;\n",
       "    }\n",
       "\n",
       "    .dataframe tbody tr th {\n",
       "        vertical-align: top;\n",
       "    }\n",
       "\n",
       "    .dataframe thead th {\n",
       "        text-align: right;\n",
       "    }\n",
       "</style>\n",
       "<table border=\"1\" class=\"dataframe\">\n",
       "  <thead>\n",
       "    <tr style=\"text-align: right;\">\n",
       "      <th></th>\n",
       "      <th>bedrooms</th>\n",
       "      <th>bathrooms</th>\n",
       "      <th>sqft_living</th>\n",
       "      <th>sqft_lot</th>\n",
       "      <th>floors</th>\n",
       "      <th>yr_built</th>\n",
       "      <th>condition_coded</th>\n",
       "    </tr>\n",
       "  </thead>\n",
       "  <tbody>\n",
       "    <tr>\n",
       "      <th>bedrooms</th>\n",
       "      <td>1.000000</td>\n",
       "      <td>0.511014</td>\n",
       "      <td>0.577830</td>\n",
       "      <td>0.034186</td>\n",
       "      <td>0.180796</td>\n",
       "      <td>0.158268</td>\n",
       "      <td>0.022288</td>\n",
       "    </tr>\n",
       "    <tr>\n",
       "      <th>bathrooms</th>\n",
       "      <td>0.511014</td>\n",
       "      <td>1.000000</td>\n",
       "      <td>0.758566</td>\n",
       "      <td>0.085941</td>\n",
       "      <td>0.503578</td>\n",
       "      <td>0.507776</td>\n",
       "      <td>-0.134546</td>\n",
       "    </tr>\n",
       "    <tr>\n",
       "      <th>sqft_living</th>\n",
       "      <td>0.577830</td>\n",
       "      <td>0.758566</td>\n",
       "      <td>1.000000</td>\n",
       "      <td>0.169754</td>\n",
       "      <td>0.356850</td>\n",
       "      <td>0.318708</td>\n",
       "      <td>-0.062333</td>\n",
       "    </tr>\n",
       "    <tr>\n",
       "      <th>sqft_lot</th>\n",
       "      <td>0.034186</td>\n",
       "      <td>0.085941</td>\n",
       "      <td>0.169754</td>\n",
       "      <td>1.000000</td>\n",
       "      <td>-0.002811</td>\n",
       "      <td>0.050062</td>\n",
       "      <td>-0.010503</td>\n",
       "    </tr>\n",
       "    <tr>\n",
       "      <th>floors</th>\n",
       "      <td>0.180796</td>\n",
       "      <td>0.503578</td>\n",
       "      <td>0.356850</td>\n",
       "      <td>-0.002811</td>\n",
       "      <td>1.000000</td>\n",
       "      <td>0.488767</td>\n",
       "      <td>-0.262695</td>\n",
       "    </tr>\n",
       "    <tr>\n",
       "      <th>yr_built</th>\n",
       "      <td>0.158268</td>\n",
       "      <td>0.507776</td>\n",
       "      <td>0.318708</td>\n",
       "      <td>0.050062</td>\n",
       "      <td>0.488767</td>\n",
       "      <td>1.000000</td>\n",
       "      <td>-0.366237</td>\n",
       "    </tr>\n",
       "    <tr>\n",
       "      <th>condition_coded</th>\n",
       "      <td>0.022288</td>\n",
       "      <td>-0.134546</td>\n",
       "      <td>-0.062333</td>\n",
       "      <td>-0.010503</td>\n",
       "      <td>-0.262695</td>\n",
       "      <td>-0.366237</td>\n",
       "      <td>1.000000</td>\n",
       "    </tr>\n",
       "  </tbody>\n",
       "</table>\n",
       "</div>"
      ],
      "text/plain": [
       "                 bedrooms  bathrooms  sqft_living  sqft_lot    floors  \\\n",
       "bedrooms         1.000000   0.511014     0.577830  0.034186  0.180796   \n",
       "bathrooms        0.511014   1.000000     0.758566  0.085941  0.503578   \n",
       "sqft_living      0.577830   0.758566     1.000000  0.169754  0.356850   \n",
       "sqft_lot         0.034186   0.085941     0.169754  1.000000 -0.002811   \n",
       "floors           0.180796   0.503578     0.356850 -0.002811  1.000000   \n",
       "yr_built         0.158268   0.507776     0.318708  0.050062  0.488767   \n",
       "condition_coded  0.022288  -0.134546    -0.062333 -0.010503 -0.262695   \n",
       "\n",
       "                 yr_built  condition_coded  \n",
       "bedrooms         0.158268         0.022288  \n",
       "bathrooms        0.507776        -0.134546  \n",
       "sqft_living      0.318708        -0.062333  \n",
       "sqft_lot         0.050062        -0.010503  \n",
       "floors           0.488767        -0.262695  \n",
       "yr_built         1.000000        -0.366237  \n",
       "condition_coded -0.366237         1.000000  "
      ]
     },
     "execution_count": 36,
     "metadata": {},
     "output_type": "execute_result"
    }
   ],
   "source": [
    "X = X_train\n",
    "X.corr()"
   ]
  },
  {
   "cell_type": "code",
   "execution_count": null,
   "id": "77a8ef2b-79c3-4680-857e-b9e469f96098",
   "metadata": {},
   "outputs": [],
   "source": [
    "# Scatterplot for our independent variables\n",
    "\n",
    "pd.plotting.scatter_matrix(X,figsize  = [9, 9]);\n",
    "plt.show()"
   ]
  },
  {
   "cell_type": "code",
   "execution_count": null,
   "id": "4ebc68af-0b7e-415c-9da0-4fa4311ca0e1",
   "metadata": {},
   "outputs": [],
   "source": [
    "## Getting the correlation of the independent variables \n",
    "X.corr()"
   ]
  },
  {
   "cell_type": "markdown",
   "id": "8e4a65d9-a308-4ceb-8791-68796eb90cf9",
   "metadata": {},
   "source": [
    "Generally, a correlation with an absolute value around 0.7-0.8 or higher is considered a high correlation. We will use 0.75 as our cut-off"
   ]
  },
  {
   "cell_type": "code",
   "execution_count": null,
   "id": "9c4d43ab-b25c-4ea2-89d3-c8914f22096b",
   "metadata": {},
   "outputs": [],
   "source": [
    "# Checking how many correlations have is more than 0.75\n",
    "abs(X.corr()) > 0.75"
   ]
  },
  {
   "cell_type": "markdown",
   "id": "5922bf1b-0464-4d98-9cce-cf0ea7f55d00",
   "metadata": {},
   "source": [
    "\"bathrooms\" and \"sqft_living\" are highly correlated. Also, This relationship may influence regression model stability and interpretation."
   ]
  },
  {
   "cell_type": "code",
   "execution_count": null,
   "id": "8c798d7d-b511-4f6c-b307-0c5b8c9701db",
   "metadata": {},
   "outputs": [],
   "source": [
    "df2=X.corr().abs().stack().reset_index().sort_values(0, ascending=False)\n",
    "\n",
    "# zip the variable name columns (Which were only named level_0 and level_1 by default) in a new column named \"pairs\"\n",
    "df2['pairs'] = list(zip(df2.level_0, df2.level_1))\n",
    "\n",
    "# set index to pairs\n",
    "df2.set_index(['pairs'], inplace = True)\n",
    "\n",
    "#d rop level columns\n",
    "df2.drop(columns=['level_1', 'level_0'], inplace = True)\n",
    "\n",
    "# rename correlation column as cc rather than 0\n",
    "df2.columns = ['cc']\n",
    "\n",
    "df2.drop_duplicates(inplace=True)"
   ]
  },
  {
   "cell_type": "code",
   "execution_count": null,
   "id": "ef0c509d-6201-46f1-92c3-270f959ebc8e",
   "metadata": {},
   "outputs": [],
   "source": [
    "# Returning pairs that are highly correlated \n",
    "\n",
    "df2[(df2.cc>.75) & (df2.cc <1)]"
   ]
  },
  {
   "cell_type": "code",
   "execution_count": null,
   "id": "36b5f466-b725-47bd-9686-4e48563b8c1c",
   "metadata": {},
   "outputs": [],
   "source": [
    "## Lets use heatmap to check the correlation\n",
    "\n",
    "import seaborn as sns\n",
    "sns.heatmap(X.corr(), center=0);"
   ]
  },
  {
   "cell_type": "code",
   "execution_count": null,
   "id": "a8aad715-8549-44be-9962-7ea3e98dd9cd",
   "metadata": {},
   "outputs": [],
   "source": [
    "# Preview the new df\n",
    "X.head()"
   ]
  },
  {
   "cell_type": "code",
   "execution_count": null,
   "id": "256f2297-84b0-4aaa-8f1c-e1f5dbe96904",
   "metadata": {},
   "outputs": [],
   "source": [
    "# Create new df\n",
    "data = X.copy()\n",
    "data.head()"
   ]
  },
  {
   "cell_type": "markdown",
   "id": "ffc8e96e-d646-4174-b934-ac9e4e88fa06",
   "metadata": {},
   "source": [
    "We will create a new column called bathroom_density to hold the ratio of bathrooms to the number of bedrooms"
   ]
  },
  {
   "cell_type": "code",
   "execution_count": null,
   "id": "e0d85453-01e8-4414-823e-9e185e53ee63",
   "metadata": {},
   "outputs": [],
   "source": [
    "# We will only address the 2 highly correlated columns bathrooms and sqft_living\n",
    "# The ratio of bathrooms to the number of bedrooms\n",
    "\n",
    "data['bathroom_density'] = data['bathrooms'] / data['bedrooms']"
   ]
  },
  {
   "cell_type": "code",
   "execution_count": null,
   "id": "a65229c6-e7a3-4cb1-8156-f818c7812285",
   "metadata": {},
   "outputs": [],
   "source": [
    "# Preview our new data frame\n",
    "data.head()"
   ]
  },
  {
   "cell_type": "markdown",
   "id": "b12f4831-f932-4356-90b4-ae57ea492f49",
   "metadata": {},
   "source": [
    "#### ii. Dropping column bathrooms\n",
    "\"Bathrooms\" has a correlation coefficient of 0.76 with \"sqft_living\", indicating a high positive correlation.\n",
    "\"Bathrooms\" has a correlation coefficient of 0.51 with \"bedrooms\", indicating a moderate positive correlation\n",
    "\n",
    "Also \n",
    "\n",
    "\"Bathrooms\" has a correlation coefficient of 0.525906 with \"price\", indicating a moderate positive correlation.\n",
    "\"Sqft_living\" has a higher correlation coefficient of 0.701917 with \"price\", indicating a stronger positive correlation.\n",
    "\n",
    "So we will drop the bathrooms column"
   ]
  },
  {
   "cell_type": "code",
   "execution_count": null,
   "id": "0d6d52f6-1d4e-4a60-a0ed-2f43d51b9bca",
   "metadata": {},
   "outputs": [],
   "source": [
    "# Drop the 'bathrooms' column from the DataFrame\n",
    "data.drop('bathrooms', axis=1, inplace=True)\n",
    "data.head()"
   ]
  },
  {
   "cell_type": "code",
   "execution_count": null,
   "id": "381b710a-3890-4345-8a45-5e7ee031c673",
   "metadata": {},
   "outputs": [],
   "source": [
    "data.corr()"
   ]
  },
  {
   "cell_type": "code",
   "execution_count": null,
   "id": "a2105dec-6e47-476c-bde7-29582ce3b1b6",
   "metadata": {},
   "outputs": [],
   "source": [
    "## Rechecking the correlation between the features\n",
    "abs(data.corr()) > 0.75"
   ]
  },
  {
   "cell_type": "code",
   "execution_count": null,
   "id": "80795709-9cde-4035-88f6-c8fb85cf7eb0",
   "metadata": {},
   "outputs": [],
   "source": [
    "# creating another copy of the data as X-Train\n",
    "X_train = data.copy()"
   ]
  },
  {
   "cell_type": "code",
   "execution_count": null,
   "id": "43c9d91a-aa0e-45e5-b30e-2c22bd746d07",
   "metadata": {},
   "outputs": [],
   "source": [
    "#### Exploring the newly created column\n",
    "X_bathdensity = X_train[['bathroom_density']]\n",
    "print(\"Regression results for yr_built:\")\n",
    "simple_linear_regression(X_bathdensity, y)"
   ]
  },
  {
   "cell_type": "markdown",
   "id": "bfbf3e28-6453-48af-a907-fc6b68e5d867",
   "metadata": {},
   "source": [
    "### iii. Feature Selections and modelling"
   ]
  },
  {
   "cell_type": "code",
   "execution_count": null,
   "id": "fb005c6a-fcf0-4d12-a360-e0c11ea3c5db",
   "metadata": {},
   "outputs": [],
   "source": [
    "# Concatenate X_train and y_train into a single data frame (We need both price and independent variables for correlations)\n",
    "\n",
    "train_data = pd.concat([X_train, y_train], axis=1)\n",
    "\n",
    "# Calculate the p correlation coefficient\n",
    "correlation_matrix = train_data.corr()\n",
    "\n",
    "# Extract the correlations\n",
    "correlation_with_y = correlation_matrix['price'].drop('price')\n",
    "correlation = correlation_with_y.sort_values(ascending=False)\n",
    "\n",
    "correlation"
   ]
  },
  {
   "cell_type": "code",
   "execution_count": null,
   "id": "26a5984b-437f-4b62-b8b4-3fd17e0bbe46",
   "metadata": {},
   "outputs": [],
   "source": [
    "# Multiple Regression (top 4 most corr)\n",
    "# Extract the feature variables and target variable\n",
    "\n",
    "X = X_train[['sqft_living', 'bedrooms', 'bathroom_density','floors']]\n",
    "y = y_train\n",
    "\n",
    "X = sm.add_constant(X)\n",
    "\n",
    "# Fit OLS regression model\n",
    "select_model = sm.OLS(y, X).fit()\n",
    "\n",
    "# Scatter plot\n",
    "plt.figure(figsize=(8, 6))\n",
    "sns.scatterplot(x=select_model.fittedvalues, y=select_model.resid, alpha=0.5)\n",
    "plt.axhline(y=0, color='red', linestyle='--')\n",
    "plt.title('Residual Plot')\n",
    "plt.xlabel('Fitted values')\n",
    "plt.ylabel('Residuals')\n",
    "plt.show()\n",
    "\n",
    "# Print the summary of the regression results\n",
    "print(select_model.summary())"
   ]
  },
  {
   "cell_type": "markdown",
   "id": "66741574-0d72-4a0f-8b86-88a0dbb7ca69",
   "metadata": {},
   "source": [
    "#### iv. All Features Modelling"
   ]
  },
  {
   "cell_type": "code",
   "execution_count": null,
   "id": "4544deeb-1f3d-4750-a20f-4487ad3c8471",
   "metadata": {},
   "outputs": [],
   "source": [
    "# Building a model with all the features\n",
    "\n",
    "X_train_c = sm.add_constant(X_train)  \n",
    "final_multiple_model = sm.OLS(y_train, X_train_c)\n",
    "final_multiple_model = final_multiple_model.fit()\n",
    "\n",
    "# Print a summary of the regression results\n",
    "print(final_multiple_model.summary())"
   ]
  },
  {
   "cell_type": "markdown",
   "id": "de770041-a8d5-4036-9642-b0448fbd783b",
   "metadata": {},
   "source": [
    "#### The Final equation for our model\n",
    "###### price=(-40,210×bedrooms)+(314.97×sqft_living)−(0.35×sqft_lot)+(60,640×floors)−(-3173.25×yr_built)+(19,100×condition_coded)+(152,100×bathroom_density)+ 6,027,000\n",
    "\n",
    "#### Model Performance\n",
    "\n",
    "* R-squared: 55.8% of the variance in the price is explained by the independent variables included in the model.\n",
    "* F-statistic: We have a high F-statistic of 3059 and a low F-statistic probability which suggests that the overall model is statistically significant."
   ]
  },
  {
   "cell_type": "markdown",
   "id": "e121ec01-2dc1-4cc6-be72-5016dc86058f",
   "metadata": {},
   "source": [
    "#### v. Further Adressing the multicollineary using VIFs"
   ]
  },
  {
   "cell_type": "code",
   "execution_count": null,
   "id": "e1375ccc-9dc2-4075-ba17-5907a7a280ed",
   "metadata": {},
   "outputs": [],
   "source": [
    "from statsmodels.stats.outliers_influence import variance_inflation_factor\n",
    "from statsmodels.tools.tools import add_constant\n",
    "\n",
    "# Add constant term to the independent variables\n",
    "X_train_with_const = add_constant(X_train[['bedrooms', 'sqft_living', 'sqft_lot', 'floors', 'yr_built', 'condition_coded', 'bathroom_density']])\n",
    "\n",
    "# Calculate VIFs for each independent variable\n",
    "vif_data = pd.DataFrame()\n",
    "vif_data[\"feature\"] = X_train_with_const.columns\n",
    "vif_data[\"VIF\"] = [variance_inflation_factor(X_train_with_const.values, i) for i in range(X_train_with_const.shape[1])]\n",
    "\n",
    "# Print VIFs\n",
    "print(vif_data)"
   ]
  },
  {
   "cell_type": "markdown",
   "id": "bf599ef5-6e2a-4802-be9c-53828b5fd8e8",
   "metadata": {},
   "source": [
    "##### Conclusion on multicollinearity"
   ]
  },
  {
   "cell_type": "markdown",
   "id": "87e5a473-8edc-447c-ae93-cf40d18a1f3c",
   "metadata": {},
   "source": [
    "The VIF values for all independent features are below the commonly used threshold of 5. This means that there is low multicollinearity among the features. We will conclude based on this that our model is stable and reliable for house price prediction given our features."
   ]
  },
  {
   "cell_type": "markdown",
   "id": "450e137f-236c-4705-98d4-8790d2f73381",
   "metadata": {},
   "source": [
    "### E. Model Evaluation"
   ]
  },
  {
   "cell_type": "code",
   "execution_count": null,
   "id": "500f2de6-d99f-4c20-9352-872bb45d000b",
   "metadata": {},
   "outputs": [],
   "source": [
    "# Previewing the first 5 rows\n",
    "X_test.head()"
   ]
  },
  {
   "cell_type": "code",
   "execution_count": null,
   "id": "a561649f-90f8-406a-991b-09d962ba97ec",
   "metadata": {},
   "outputs": [],
   "source": [
    "## Aligning test data with training data\n",
    "## Deleting the bathrooms column\n",
    "# Adding the bathroom_density\n",
    "X_test[\"bathroom_density\"] = X_test[\"bathrooms\"] / X_test[\"bedrooms\"]\n",
    "X_test.drop('bathrooms', axis=1, inplace=True)\n",
    "X_test.head()"
   ]
  },
  {
   "cell_type": "code",
   "execution_count": null,
   "id": "c64875e6-154f-40b5-a87f-9e0bd95f7f39",
   "metadata": {},
   "outputs": [],
   "source": [
    "# Additional imports\n",
    "from sklearn.metrics import mean_squared_error, r2_score"
   ]
  },
  {
   "cell_type": "code",
   "execution_count": null,
   "id": "ee99a464-1853-489c-8bb4-8b244e75c8cd",
   "metadata": {},
   "outputs": [],
   "source": [
    "# Make predictions using the model with selected features as used above on our select features regression model\n",
    "X_test_select = sm.add_constant(X_test[['sqft_living', 'bedrooms', 'bathroom_density', 'floors']])\n",
    "y_pred_select = select_model.predict(X_test_select)\n",
    "\n",
    "# Calculate the evaluation metrics for the model with selected features\n",
    "# We will use MSE, RSME and R-squared to evaluate our model\n",
    "mse_select_model = mean_squared_error(y_test, y_pred_select)\n",
    "rmse_select_model = np.sqrt(mse_select_model)\n",
    "r_squared_select_model = r2_score(y_test, y_pred_select)\n",
    "\n",
    "# Print evaluation metrics for the model with selected features\n",
    "print(\"Evaluation metrics for model with selected features:\")\n",
    "print(\"Mean Squared Error (MSE):\", mse_select_model)\n",
    "print(\"Root Mean Squared Error (RMSE):\", rmse_select_model)\n",
    "print(\"R-squared:\", r_squared_select_model)\n",
    "print()"
   ]
  },
  {
   "cell_type": "markdown",
   "id": "4191738b-0ff0-4908-8d99-f497f4748b13",
   "metadata": {},
   "source": [
    "#### Conclusion of the select features model"
   ]
  },
  {
   "cell_type": "markdown",
   "id": "35558a11-3205-422f-8be3-cf2e9a0f5754",
   "metadata": {},
   "source": [
    "* The Mean Squared Error (MSE) indicates that, on average, the model's predictions are off by approximately USD 63,854,708,809.\n",
    "* The Root Mean Squared Error (RMSE) suggests that, on average, the model's predictions are off by approximately USD 252,694.89.\n",
    "* The R-squared value of ~0.5004 suggests that around 52.19% of the variance in the price is explained by the selected features."
   ]
  },
  {
   "cell_type": "code",
   "execution_count": null,
   "id": "0fc0e048-05c0-4b2c-a906-e56dcdfe3b3b",
   "metadata": {},
   "outputs": [],
   "source": [
    "# Make predictions using the model with all features\n",
    "X_test_c = sm.add_constant(X_test)  # Add constant term for intercept\n",
    "y_pred_all = final_multiple_model.predict(X_test_c)\n",
    "\n",
    "# Calculate evaluation metrics for the model with all features\n",
    "mse_final_model = mean_squared_error(y_test, y_pred_all)\n",
    "rmse_final_model = np.sqrt(mse_final_model)\n",
    "r_squared_final_model = r2_score(y_test, y_pred_all)\n",
    "\n",
    "# Print evaluation metrics for the model with all features\n",
    "print(\"Evaluation metrics for model with all features:\")\n",
    "print(\"Mean Squared Error (MSE):\", mse_final_model)\n",
    "print(\"Root Mean Squared Error (RMSE):\", rmse_final_model)\n",
    "print(\"R-squared:\", r_squared_final_model)"
   ]
  },
  {
   "cell_type": "markdown",
   "id": "c862b72c-1a81-4f4e-b19a-707b6c8a531a",
   "metadata": {},
   "source": [
    "#### Conclusion of all features model"
   ]
  },
  {
   "cell_type": "markdown",
   "id": "d3be9cd2-36d1-4204-ba2d-5422fe4fb2e5",
   "metadata": {},
   "source": [
    "##### Evaluation\n",
    "\n",
    "* Mean Squared Error (MSE): Approximately USD 58,831,328,055\n",
    "* Root Mean Squared Error (RMSE): Approximately USD 242,551.70\n",
    "* R-squared: Approximately 0.60\n",
    "  \n",
    "##### Comparison of the select feature model\n",
    "* The R-squared value is higher, meaning 55.6% of the variance in the price is explained by all the features.\n",
    "\n",
    "##### Conclusion\n",
    "* The model using all features provides better predictive performance compared to the model with selected features. "
   ]
  },
  {
   "cell_type": "markdown",
   "id": "92ce7aa6-1f49-4c6b-893e-fa42a14e2de5",
   "metadata": {},
   "source": [
    "# 4. Results"
   ]
  },
  {
   "cell_type": "markdown",
   "id": "af2350cd-2c52-4a11-b8fa-978c17d2bd23",
   "metadata": {},
   "source": [
    "* The size of the living area has a significant positive effect on the home price. For every additional square foot of living space, the price tends to increase by approximately $282.20 on average.\n",
    "\n",
    "* The number of bedrooms in a property also positively impacts its price. Each additional bedroom contributes to an average increase of about $128,700 in the property price.\n",
    "   \n",
    "* The number of bathrooms in a property is positively correlated with its price. On average, each additional bathroom adds approximately $254,400 to the property price.\n",
    "\n",
    "* The size of the lot (in square feet) has a relatively minor impact on the property price. For every unit increase in the square footage of the lot, the price tends to increase by about $0.82 on average.\n",
    "\n",
    "* The number of floors in a property is also a significant factor in determining its price. On average, each additional floor contributes to an increase of around $176,400 in the property price.\n",
    "\n",
    "* The age of the property (year built) has a relatively minor impact on its price. For every additional year since the property was built, the price tends to increase by approximately $600.43 on average.\n",
    "\n",
    "* The coded condition of the property has a moderate effect on its price with the value of the house increasing by $24,330 on average if the condition of the house improves from one rating to another (e.g 1 to 2)\n",
    "\n",
    "* We proceeded and found out that the bathroom was highly correlated to other independent variables ie: bedrooms,sqft_living, floors, and yr_built where the correlation was above 0.75 which is a high positive correlation.\n",
    "  \n",
    "* We created a new column representing the ratio of bathrooms to the number of bedrooms\n",
    "  \n",
    "* Because of this high multicollinearity effect of the bathroom we dropped it\n",
    "\n",
    "* The multiple regression model with select features shows an MSE of approximately 63 billion, an RMSE of around 25k, and an R-squared value of approximately 0.52.\n",
    "  \n",
    "* The model with all features yields an MSE of roughly 58.8 billion, an RMSE of about 242,551, and a higher R-squared value of around 0.6.\n",
    "  \n",
    "* This suggests that the model with all features performs slightly better, meaning that including additional features improves the model's predictive accuracy. "
   ]
  },
  {
   "cell_type": "markdown",
   "id": "2f62346a-a5db-403d-ab87-60dfc61fcf02",
   "metadata": {},
   "source": [
    "# 5. Recommendations to Finsco Limited"
   ]
  },
  {
   "cell_type": "markdown",
   "id": "0832aa35-ebb7-46fb-b5cd-619e96188727",
   "metadata": {},
   "source": [
    "1. Finsco Limited can advise its client to focus on increasing the size of the living room: Renovations that increase the square footage of living space have a significant impact on home value. For every additional square foot of living space added, the estimated home value can increase by approximately USD 320 to USD 322.\n",
    "2. Upgrading bedrooms can also increase clients' home value. Investing in bedroom renovations, such as improving the layout, fixtures, colours and furnishing, could increase the value of the property by around USD 48,290 to USD 65,110 per bedroom, based on our regression results.\n",
    "3. Improve Overall Condition will increase the value of the property. Renovations focused on improving the condition of the home, such as repairing structural issues, outside colouring, updating fixtures, and mowing may result in an estimated value increase of approximately USD 20,530, according to our analysis.\n",
    "4. Bathroom renovations can also increase the on-home value by around USD 134,700 per bathroom.\n",
    "5. Overall, making renovations in the entire house to improve the house's overall condition will be better than doing partial renovations in the bathrooms, and bedrooms or increasing the living room space. Overall house improvements will have a better impact on the value of the property than just renovating part of the house"
   ]
  },
  {
   "cell_type": "markdown",
   "id": "3a7bf468-d9b7-44df-8a6f-fca8c3a79b1e",
   "metadata": {},
   "source": [
    "# 6. Next Steps"
   ]
  },
  {
   "cell_type": "markdown",
   "id": "9753120d-c517-4205-9341-8cfdf1738ded",
   "metadata": {},
   "source": [
    "1. The Hepta team will gather feedback from the Finsco team after this first iteration and gather any additional requirements and feedback.\n",
    "2. Market Research: Hepta group will conduct market research to identify trends and patterns in the real estate market such as renovations and, property features demands. This will help us make informed conclusions while we continue to improve on the model. \n",
    "3. Data Enrichment: The Hepta group will also work with the Finsco team to ensure we have enough additional data on other features that might help us improve our model. This may include users' preferences, renovations past data and other features that might have property prices.\n",
    "4. Model improvement: Our Data scientists will try other regression algorithms to compare and see if we can use a better model for this project."
   ]
  }
 ],
 "metadata": {
  "kernelspec": {
   "display_name": "Python 3 (ipykernel)",
   "language": "python",
   "name": "python3"
  },
  "language_info": {
   "codemirror_mode": {
    "name": "ipython",
    "version": 3
   },
   "file_extension": ".py",
   "mimetype": "text/x-python",
   "name": "python",
   "nbconvert_exporter": "python",
   "pygments_lexer": "ipython3",
   "version": "3.11.5"
  }
 },
 "nbformat": 4,
 "nbformat_minor": 5
}
